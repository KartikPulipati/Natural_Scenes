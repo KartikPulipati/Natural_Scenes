{
 "cells": [
  {
   "cell_type": "code",
   "execution_count": 10,
   "outputs": [],
   "source": [
    "import numpy as np\n",
    "import tensorflow as tf\n",
    "from keras.preprocessing.image import ImageDataGenerator\n",
    "from keras.models import Sequential\n",
    "from keras.layers import Convolution2D, MaxPooling2D, Flatten, Dense"
   ],
   "metadata": {
    "collapsed": false,
    "pycharm": {
     "name": "#%%\n"
    }
   }
  },
  {
   "cell_type": "code",
   "execution_count": 11,
   "outputs": [],
   "source": [
    "train_path = '../archive/seg_train/'\n",
    "test_path = '../archive/seg_test/'"
   ],
   "metadata": {
    "collapsed": false,
    "pycharm": {
     "name": "#%%\n"
    }
   }
  },
  {
   "cell_type": "code",
   "execution_count": 12,
   "outputs": [
    {
     "name": "stdout",
     "output_type": "stream",
     "text": [
      "Found 14034 images belonging to 6 classes.\n"
     ]
    }
   ],
   "source": [
    "train_datagen = ImageDataGenerator(\n",
    "                    rescale = 1/255,\n",
    "                    shear_range = 0.2,\n",
    "                    zoom_range = 0.2,\n",
    "                    horizontal_flip = True,\n",
    "                    vertical_flip = False)\n",
    "training_set = train_datagen.flow_from_directory(train_path,\n",
    "                                                 target_size = (64, 64),\n",
    "                                                 class_mode = 'categorical')"
   ],
   "metadata": {
    "collapsed": false,
    "pycharm": {
     "name": "#%%\n"
    }
   }
  },
  {
   "cell_type": "code",
   "execution_count": 13,
   "outputs": [
    {
     "name": "stdout",
     "output_type": "stream",
     "text": [
      "Found 3000 images belonging to 6 classes.\n"
     ]
    }
   ],
   "source": [
    "test_datagen = ImageDataGenerator(rescale = 1/255)\n",
    "test_set = test_datagen.flow_from_directory(test_path,\n",
    "                                            target_size = (64, 64),\n",
    "                                            class_mode = 'categorical')"
   ],
   "metadata": {
    "collapsed": false,
    "pycharm": {
     "name": "#%%\n"
    }
   }
  },
  {
   "cell_type": "code",
   "execution_count": 14,
   "outputs": [
    {
     "data": {
      "text/plain": "<keras.engine.sequential.Sequential at 0x157e979d0>"
     },
     "execution_count": 14,
     "metadata": {},
     "output_type": "execute_result"
    }
   ],
   "source": [
    "cnn = Sequential()\n",
    "cnn"
   ],
   "metadata": {
    "collapsed": false,
    "pycharm": {
     "name": "#%%\n"
    }
   }
  },
  {
   "cell_type": "code",
   "execution_count": 15,
   "outputs": [],
   "source": [
    "cnn.add(Convolution2D(filters=32, kernel_size=3, activation='relu'))\n",
    "cnn.add(MaxPooling2D(pool_size=(2,2)))\n",
    "cnn.add(Convolution2D(filters=32, kernel_size=3, activation='relu'))\n",
    "cnn.add(MaxPooling2D(pool_size=(2,2)))\n",
    "cnn.add(Flatten())\n",
    "cnn.add(Dense(units=256, activation='relu'))\n",
    "cnn.add(Dense(units=128, activation='relu'))\n",
    "cnn.add(Dense(units=64, activation='relu'))\n",
    "cnn.add(Dense(units=24, activation='relu'))\n",
    "cnn.add(Dense(units=6, activation='softmax'))"
   ],
   "metadata": {
    "collapsed": false,
    "pycharm": {
     "name": "#%%\n"
    }
   }
  },
  {
   "cell_type": "code",
   "execution_count": 16,
   "outputs": [],
   "source": [
    "cnn.compile(optimizer = 'adam', loss = 'categorical_crossentropy', metrics = ['accuracy'])"
   ],
   "metadata": {
    "collapsed": false,
    "pycharm": {
     "name": "#%%\n"
    }
   }
  },
  {
   "cell_type": "code",
   "execution_count": 17,
   "outputs": [
    {
     "name": "stdout",
     "output_type": "stream",
     "text": [
      "Epoch 1/17\n"
     ]
    },
    {
     "name": "stderr",
     "output_type": "stream",
     "text": [
      "2022-08-14 14:50:39.687981: I tensorflow/core/grappler/optimizers/custom_graph_optimizer_registry.cc:113] Plugin optimizer for device_type GPU is enabled.\n"
     ]
    },
    {
     "name": "stdout",
     "output_type": "stream",
     "text": [
      "438/439 [============================>.] - ETA: 0s - loss: 1.0605 - accuracy: 0.5868"
     ]
    },
    {
     "name": "stderr",
     "output_type": "stream",
     "text": [
      "2022-08-14 14:51:00.644003: I tensorflow/core/grappler/optimizers/custom_graph_optimizer_registry.cc:113] Plugin optimizer for device_type GPU is enabled.\n"
     ]
    },
    {
     "name": "stdout",
     "output_type": "stream",
     "text": [
      "439/439 [==============================] - 24s 53ms/step - loss: 1.0607 - accuracy: 0.5868 - val_loss: 0.9211 - val_accuracy: 0.6817 - lr: 0.0010\n",
      "Epoch 2/17\n",
      "439/439 [==============================] - 22s 50ms/step - loss: 0.8211 - accuracy: 0.6945 - val_loss: 0.7409 - val_accuracy: 0.7370 - lr: 0.0010\n",
      "Epoch 3/17\n",
      "439/439 [==============================] - 22s 51ms/step - loss: 0.7238 - accuracy: 0.7329 - val_loss: 0.6518 - val_accuracy: 0.7607 - lr: 0.0010\n",
      "Epoch 4/17\n",
      "439/439 [==============================] - 20s 45ms/step - loss: 0.6498 - accuracy: 0.7630 - val_loss: 0.6119 - val_accuracy: 0.7740 - lr: 0.0010\n",
      "Epoch 5/17\n",
      "439/439 [==============================] - 22s 51ms/step - loss: 0.5962 - accuracy: 0.7850 - val_loss: 0.5816 - val_accuracy: 0.7917 - lr: 0.0010\n",
      "Epoch 6/17\n",
      "439/439 [==============================] - 21s 47ms/step - loss: 0.5544 - accuracy: 0.7996 - val_loss: 0.6408 - val_accuracy: 0.7770 - lr: 0.0010\n",
      "Epoch 7/17\n",
      "439/439 [==============================] - 25s 57ms/step - loss: 0.5155 - accuracy: 0.8149 - val_loss: 0.5923 - val_accuracy: 0.7973 - lr: 0.0010\n",
      "Epoch 8/17\n",
      "439/439 [==============================] - 23s 53ms/step - loss: 0.4926 - accuracy: 0.8227 - val_loss: 0.6442 - val_accuracy: 0.7590 - lr: 0.0010\n",
      "Epoch 9/17\n",
      "439/439 [==============================] - 22s 51ms/step - loss: 0.4578 - accuracy: 0.8402 - val_loss: 0.6439 - val_accuracy: 0.7787 - lr: 0.0010\n",
      "Epoch 10/17\n",
      "439/439 [==============================] - 22s 51ms/step - loss: 0.4368 - accuracy: 0.8417 - val_loss: 0.5845 - val_accuracy: 0.7887 - lr: 0.0010\n",
      "Epoch 11/17\n",
      "439/439 [==============================] - 23s 52ms/step - loss: 0.4307 - accuracy: 0.8474 - val_loss: 0.6169 - val_accuracy: 0.7913 - lr: 0.0010\n",
      "Epoch 12/17\n",
      "439/439 [==============================] - 22s 51ms/step - loss: 0.3941 - accuracy: 0.8589 - val_loss: 0.6477 - val_accuracy: 0.7790 - lr: 0.0010\n",
      "Epoch 13/17\n",
      "439/439 [==============================] - 24s 54ms/step - loss: 0.3774 - accuracy: 0.8653 - val_loss: 0.5328 - val_accuracy: 0.8213 - lr: 0.0010\n",
      "Epoch 14/17\n",
      "439/439 [==============================] - 25s 56ms/step - loss: 0.3500 - accuracy: 0.8745 - val_loss: 0.5780 - val_accuracy: 0.8057 - lr: 0.0010\n",
      "Epoch 15/17\n",
      "439/439 [==============================] - 23s 53ms/step - loss: 0.3496 - accuracy: 0.8769 - val_loss: 0.6203 - val_accuracy: 0.7823 - lr: 0.0010\n",
      "Epoch 16/17\n",
      "439/439 [==============================] - 24s 54ms/step - loss: 0.3255 - accuracy: 0.8833 - val_loss: 0.7097 - val_accuracy: 0.7893 - lr: 0.0010\n",
      "Epoch 17/17\n",
      "439/439 [==============================] - 22s 51ms/step - loss: 0.3153 - accuracy: 0.8879 - val_loss: 0.5409 - val_accuracy: 0.8173 - lr: 0.0010\n",
      "CPU times: user 7min 42s, sys: 1min 7s, total: 8min 49s\n",
      "Wall time: 6min 27s\n"
     ]
    },
    {
     "data": {
      "text/plain": "<keras.callbacks.History at 0x2b084c430>"
     },
     "execution_count": 17,
     "metadata": {},
     "output_type": "execute_result"
    }
   ],
   "source": [
    "%%time\n",
    "cnn.fit(training_set, steps_per_epoch= len(training_set), validation_data = test_set, validation_steps=len(test_set), epochs = 17)"
   ],
   "metadata": {
    "collapsed": false,
    "pycharm": {
     "name": "#%%\n"
    }
   }
  }
 ],
 "metadata": {
  "kernelspec": {
   "display_name": "Python 3",
   "language": "python",
   "name": "python3"
  },
  "language_info": {
   "codemirror_mode": {
    "name": "ipython",
    "version": 2
   },
   "file_extension": ".py",
   "mimetype": "text/x-python",
   "name": "python",
   "nbconvert_exporter": "python",
   "pygments_lexer": "ipython2",
   "version": "2.7.6"
  }
 },
 "nbformat": 4,
 "nbformat_minor": 0
}
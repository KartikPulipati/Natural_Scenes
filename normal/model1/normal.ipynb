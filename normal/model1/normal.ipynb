{
 "cells": [
  {
   "cell_type": "code",
   "execution_count": 1,
   "outputs": [],
   "source": [
    "import numpy as np\n",
    "import tensorflow as tf\n",
    "from keras.preprocessing.image import ImageDataGenerator\n",
    "from keras.models import Sequential\n",
    "from keras.layers import Convolution2D, MaxPooling2D, Flatten, Dense"
   ],
   "metadata": {
    "collapsed": false,
    "pycharm": {
     "name": "#%%\n"
    }
   }
  },
  {
   "cell_type": "code",
   "execution_count": 2,
   "outputs": [],
   "source": [
    "train_path = '../archive/seg_train/'\n",
    "test_path = '../archive/seg_test/'"
   ],
   "metadata": {
    "collapsed": false,
    "pycharm": {
     "name": "#%%\n"
    }
   }
  },
  {
   "cell_type": "code",
   "execution_count": 3,
   "outputs": [
    {
     "name": "stdout",
     "output_type": "stream",
     "text": [
      "Found 14034 images belonging to 6 classes.\n"
     ]
    }
   ],
   "source": [
    "train_datagen = ImageDataGenerator(\n",
    "                    rescale = 1/255,\n",
    "                    shear_range = 0.2,\n",
    "                    zoom_range = 0.2,\n",
    "                    horizontal_flip = True,\n",
    "                    vertical_flip = False)\n",
    "training_set = train_datagen.flow_from_directory(train_path,\n",
    "                                                 target_size = (64, 64),\n",
    "                                                 class_mode = 'categorical')"
   ],
   "metadata": {
    "collapsed": false,
    "pycharm": {
     "name": "#%%\n"
    }
   }
  },
  {
   "cell_type": "code",
   "execution_count": 4,
   "outputs": [
    {
     "name": "stdout",
     "output_type": "stream",
     "text": [
      "Found 3000 images belonging to 6 classes.\n"
     ]
    }
   ],
   "source": [
    "test_datagen = ImageDataGenerator(rescale = 1/255)\n",
    "test_set = test_datagen.flow_from_directory(test_path,\n",
    "                                            target_size = (64, 64),\n",
    "                                            class_mode = 'categorical')"
   ],
   "metadata": {
    "collapsed": false,
    "pycharm": {
     "name": "#%%\n"
    }
   }
  },
  {
   "cell_type": "code",
   "execution_count": 5,
   "outputs": [
    {
     "name": "stdout",
     "output_type": "stream",
     "text": [
      "Metal device set to: Apple M1\n"
     ]
    },
    {
     "name": "stderr",
     "output_type": "stream",
     "text": [
      "2022-09-05 09:23:39.557395: I tensorflow/core/common_runtime/pluggable_device/pluggable_device_factory.cc:305] Could not identify NUMA node of platform GPU ID 0, defaulting to 0. Your kernel may not have been built with NUMA support.\n",
      "2022-09-05 09:23:39.557766: I tensorflow/core/common_runtime/pluggable_device/pluggable_device_factory.cc:271] Created TensorFlow device (/job:localhost/replica:0/task:0/device:GPU:0 with 0 MB memory) -> physical PluggableDevice (device: 0, name: METAL, pci bus id: <undefined>)\n"
     ]
    },
    {
     "data": {
      "text/plain": "<keras.engine.sequential.Sequential at 0x17f457100>"
     },
     "execution_count": 5,
     "metadata": {},
     "output_type": "execute_result"
    }
   ],
   "source": [
    "cnn = Sequential()\n",
    "cnn"
   ],
   "metadata": {
    "collapsed": false,
    "pycharm": {
     "name": "#%%\n"
    }
   }
  },
  {
   "cell_type": "code",
   "execution_count": 6,
   "outputs": [],
   "source": [
    "cnn.add(Convolution2D(filters=32, kernel_size=3, activation='relu'))\n",
    "cnn.add(MaxPooling2D(pool_size=(2,2)))\n",
    "cnn.add(Convolution2D(filters=32, kernel_size=3, activation='relu'))\n",
    "cnn.add(MaxPooling2D(pool_size=(2,2)))\n",
    "cnn.add(Flatten())\n",
    "cnn.add(Dense(units=256, activation='relu'))\n",
    "cnn.add(Dense(units=128, activation='relu'))\n",
    "cnn.add(Dense(units=64, activation='relu'))\n",
    "cnn.add(Dense(units=24, activation='relu'))\n",
    "cnn.add(Dense(units=6, activation='softmax'))"
   ],
   "metadata": {
    "collapsed": false,
    "pycharm": {
     "name": "#%%\n"
    }
   }
  },
  {
   "cell_type": "code",
   "execution_count": 7,
   "outputs": [],
   "source": [
    "cnn.compile(optimizer = 'adam', loss = 'categorical_crossentropy', metrics = ['accuracy'])"
   ],
   "metadata": {
    "collapsed": false,
    "pycharm": {
     "name": "#%%\n"
    }
   }
  },
  {
   "cell_type": "code",
   "execution_count": 8,
   "outputs": [
    {
     "name": "stdout",
     "output_type": "stream",
     "text": [
      "Epoch 1/17\n"
     ]
    },
    {
     "name": "stderr",
     "output_type": "stream",
     "text": [
      "2022-09-05 09:23:40.105882: W tensorflow/core/platform/profile_utils/cpu_utils.cc:128] Failed to get CPU frequency: 0 Hz\n",
      "2022-09-05 09:23:41.141545: I tensorflow/core/grappler/optimizers/custom_graph_optimizer_registry.cc:113] Plugin optimizer for device_type GPU is enabled.\n"
     ]
    },
    {
     "name": "stdout",
     "output_type": "stream",
     "text": [
      "439/439 [==============================] - ETA: 0s - loss: 1.1114 - accuracy: 0.5566"
     ]
    },
    {
     "name": "stderr",
     "output_type": "stream",
     "text": [
      "2022-09-05 09:24:16.586513: I tensorflow/core/grappler/optimizers/custom_graph_optimizer_registry.cc:113] Plugin optimizer for device_type GPU is enabled.\n"
     ]
    },
    {
     "name": "stdout",
     "output_type": "stream",
     "text": [
      "439/439 [==============================] - 40s 87ms/step - loss: 1.1114 - accuracy: 0.5566 - val_loss: 0.8813 - val_accuracy: 0.6787\n",
      "Epoch 2/17\n",
      "439/439 [==============================] - 30s 68ms/step - loss: 0.8332 - accuracy: 0.6910 - val_loss: 0.7442 - val_accuracy: 0.7280\n",
      "Epoch 3/17\n",
      "439/439 [==============================] - 26s 60ms/step - loss: 0.7421 - accuracy: 0.7310 - val_loss: 0.6774 - val_accuracy: 0.7547\n",
      "Epoch 4/17\n",
      "439/439 [==============================] - 27s 62ms/step - loss: 0.6672 - accuracy: 0.7551 - val_loss: 0.6288 - val_accuracy: 0.7740\n",
      "Epoch 5/17\n",
      "439/439 [==============================] - 37s 85ms/step - loss: 0.6202 - accuracy: 0.7748 - val_loss: 0.6322 - val_accuracy: 0.7707\n",
      "Epoch 6/17\n",
      "439/439 [==============================] - 30s 69ms/step - loss: 0.5708 - accuracy: 0.7962 - val_loss: 0.5822 - val_accuracy: 0.7910\n",
      "Epoch 7/17\n",
      "439/439 [==============================] - 22s 50ms/step - loss: 0.5403 - accuracy: 0.8068 - val_loss: 0.5874 - val_accuracy: 0.7903\n",
      "Epoch 8/17\n",
      "439/439 [==============================] - 22s 49ms/step - loss: 0.5092 - accuracy: 0.8194 - val_loss: 0.5988 - val_accuracy: 0.7857\n",
      "Epoch 9/17\n",
      "439/439 [==============================] - 22s 49ms/step - loss: 0.4720 - accuracy: 0.8318 - val_loss: 0.5735 - val_accuracy: 0.8090\n",
      "Epoch 10/17\n",
      "439/439 [==============================] - 21s 49ms/step - loss: 0.4544 - accuracy: 0.8348 - val_loss: 0.5979 - val_accuracy: 0.8030\n",
      "Epoch 11/17\n",
      "439/439 [==============================] - 21s 48ms/step - loss: 0.4218 - accuracy: 0.8494 - val_loss: 0.6237 - val_accuracy: 0.7747\n",
      "Epoch 12/17\n",
      "439/439 [==============================] - 29s 66ms/step - loss: 0.3988 - accuracy: 0.8575 - val_loss: 0.5389 - val_accuracy: 0.8130\n",
      "Epoch 13/17\n",
      "439/439 [==============================] - 26s 60ms/step - loss: 0.3820 - accuracy: 0.8635 - val_loss: 0.5552 - val_accuracy: 0.8107\n",
      "Epoch 14/17\n",
      "439/439 [==============================] - 36s 82ms/step - loss: 0.3651 - accuracy: 0.8725 - val_loss: 0.6249 - val_accuracy: 0.7927\n",
      "Epoch 15/17\n",
      "439/439 [==============================] - 34s 76ms/step - loss: 0.3445 - accuracy: 0.8748 - val_loss: 0.6091 - val_accuracy: 0.7963\n",
      "Epoch 16/17\n",
      "439/439 [==============================] - 34s 78ms/step - loss: 0.3301 - accuracy: 0.8807 - val_loss: 0.5676 - val_accuracy: 0.8133\n",
      "Epoch 17/17\n",
      "439/439 [==============================] - 31s 70ms/step - loss: 0.3173 - accuracy: 0.8898 - val_loss: 0.6239 - val_accuracy: 0.8063\n",
      "CPU times: user 9min 1s, sys: 1min 20s, total: 10min 21s\n",
      "Wall time: 8min 9s\n"
     ]
    },
    {
     "data": {
      "text/plain": "<keras.callbacks.History at 0x281d9b5e0>"
     },
     "execution_count": 8,
     "metadata": {},
     "output_type": "execute_result"
    }
   ],
   "source": [
    "%%time\n",
    "cnn.fit(training_set, steps_per_epoch= len(training_set), validation_data = test_set, validation_steps=len(test_set), epochs = 17)"
   ],
   "metadata": {
    "collapsed": false,
    "pycharm": {
     "name": "#%%\n"
    }
   }
  },
  {
   "cell_type": "code",
   "execution_count": 9,
   "outputs": [
    {
     "name": "stdout",
     "output_type": "stream",
     "text": [
      "94/94 - 2s - loss: 0.6239 - accuracy: 0.8063 - 2s/epoch - 19ms/step\n",
      "Accuracy of the model on the test set:  0.8063333034515381\n"
     ]
    }
   ],
   "source": [
    "accuracy = cnn.evaluate(test_set, steps=len(test_set), verbose=2)\n",
    "print('Accuracy of the model on the test set: ', accuracy[1])"
   ],
   "metadata": {
    "collapsed": false,
    "pycharm": {
     "name": "#%%\n"
    }
   }
  }
 ],
 "metadata": {
  "kernelspec": {
   "display_name": "Python 3",
   "language": "python",
   "name": "python3"
  },
  "language_info": {
   "codemirror_mode": {
    "name": "ipython",
    "version": 2
   },
   "file_extension": ".py",
   "mimetype": "text/x-python",
   "name": "python",
   "nbconvert_exporter": "python",
   "pygments_lexer": "ipython2",
   "version": "2.7.6"
  }
 },
 "nbformat": 4,
 "nbformat_minor": 0
}
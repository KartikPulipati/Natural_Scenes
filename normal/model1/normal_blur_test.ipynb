{
 "cells": [
  {
   "cell_type": "code",
   "execution_count": 1,
   "metadata": {
    "pycharm": {
     "name": "#%%\n"
    }
   },
   "outputs": [],
   "source": [
    "import numpy as np\n",
    "import tensorflow as tf\n",
    "from tensorflow.keras.preprocessing.image import ImageDataGenerator\n",
    "from tensorflow.keras.models import Sequential\n",
    "from tensorflow.keras.layers import Convolution2D, MaxPooling2D, Flatten, Dense"
   ]
  },
  {
   "cell_type": "code",
   "execution_count": 2,
   "metadata": {
    "pycharm": {
     "name": "#%%\n"
    }
   },
   "outputs": [],
   "source": [
    "train_path = '../archive/seg_train/'\n",
    "test_path = '../../blur/data/blur_single/seg_test/'"
   ]
  },
  {
   "cell_type": "code",
   "execution_count": 3,
   "metadata": {
    "pycharm": {
     "name": "#%%\n"
    }
   },
   "outputs": [
    {
     "name": "stdout",
     "output_type": "stream",
     "text": [
      "Found 14034 images belonging to 6 classes.\n"
     ]
    }
   ],
   "source": [
    "train_datagen = ImageDataGenerator(\n",
    "                    rescale = 1/255,\n",
    "                    shear_range = 0.2,\n",
    "                    zoom_range = 0.2,\n",
    "                    horizontal_flip = True,\n",
    "                    vertical_flip = False)\n",
    "training_set = train_datagen.flow_from_directory(train_path,\n",
    "                                                 target_size = (64, 64),\n",
    "                                                 class_mode = 'categorical')"
   ]
  },
  {
   "cell_type": "code",
   "execution_count": 4,
   "metadata": {
    "pycharm": {
     "name": "#%%\n"
    }
   },
   "outputs": [
    {
     "name": "stdout",
     "output_type": "stream",
     "text": [
      "Found 3000 images belonging to 6 classes.\n"
     ]
    }
   ],
   "source": [
    "test_datagen = ImageDataGenerator(rescale = 1/255)\n",
    "test_set = test_datagen.flow_from_directory(test_path,\n",
    "                                            target_size = (64, 64),\n",
    "                                            class_mode = 'categorical')"
   ]
  },
  {
   "cell_type": "code",
   "execution_count": 5,
   "metadata": {
    "pycharm": {
     "name": "#%%\n"
    }
   },
   "outputs": [
    {
     "name": "stdout",
     "output_type": "stream",
     "text": [
      "Metal device set to: Apple M1\n"
     ]
    },
    {
     "name": "stderr",
     "output_type": "stream",
     "text": [
      "2022-09-05 09:35:23.357516: I tensorflow/core/common_runtime/pluggable_device/pluggable_device_factory.cc:305] Could not identify NUMA node of platform GPU ID 0, defaulting to 0. Your kernel may not have been built with NUMA support.\n",
      "2022-09-05 09:35:23.357650: I tensorflow/core/common_runtime/pluggable_device/pluggable_device_factory.cc:271] Created TensorFlow device (/job:localhost/replica:0/task:0/device:GPU:0 with 0 MB memory) -> physical PluggableDevice (device: 0, name: METAL, pci bus id: <undefined>)\n"
     ]
    },
    {
     "data": {
      "text/plain": "<keras.engine.sequential.Sequential at 0x15f856bf0>"
     },
     "execution_count": 5,
     "metadata": {},
     "output_type": "execute_result"
    }
   ],
   "source": [
    "cnn = Sequential()\n",
    "cnn"
   ]
  },
  {
   "cell_type": "code",
   "execution_count": 6,
   "metadata": {
    "pycharm": {
     "name": "#%%\n"
    }
   },
   "outputs": [],
   "source": [
    "cnn.add(Convolution2D(filters=32, kernel_size=3, activation='relu'))\n",
    "cnn.add(MaxPooling2D(pool_size=(2,2)))\n",
    "cnn.add(Convolution2D(filters=32, kernel_size=3, activation='relu'))\n",
    "cnn.add(MaxPooling2D(pool_size=(2,2)))\n",
    "cnn.add(Flatten())\n",
    "cnn.add(Dense(units=256, activation='relu'))\n",
    "cnn.add(Dense(units=128, activation='relu'))\n",
    "cnn.add(Dense(units=64, activation='relu'))\n",
    "cnn.add(Dense(units=24, activation='relu'))\n",
    "cnn.add(Dense(units=6, activation='softmax'))"
   ]
  },
  {
   "cell_type": "code",
   "execution_count": 7,
   "metadata": {
    "pycharm": {
     "name": "#%%\n"
    }
   },
   "outputs": [],
   "source": [
    "cnn.compile(optimizer = 'adam', loss = 'categorical_crossentropy', metrics = ['accuracy'])"
   ]
  },
  {
   "cell_type": "code",
   "execution_count": 8,
   "metadata": {
    "pycharm": {
     "name": "#%%\n"
    }
   },
   "outputs": [
    {
     "name": "stdout",
     "output_type": "stream",
     "text": [
      "Epoch 1/17\n"
     ]
    },
    {
     "name": "stderr",
     "output_type": "stream",
     "text": [
      "2022-09-05 09:35:23.667972: W tensorflow/core/platform/profile_utils/cpu_utils.cc:128] Failed to get CPU frequency: 0 Hz\n",
      "2022-09-05 09:35:24.204678: I tensorflow/core/grappler/optimizers/custom_graph_optimizer_registry.cc:113] Plugin optimizer for device_type GPU is enabled.\n"
     ]
    },
    {
     "name": "stdout",
     "output_type": "stream",
     "text": [
      "439/439 [==============================] - ETA: 0s - loss: 1.1204 - accuracy: 0.5587"
     ]
    },
    {
     "name": "stderr",
     "output_type": "stream",
     "text": [
      "2022-09-05 09:35:54.738993: I tensorflow/core/grappler/optimizers/custom_graph_optimizer_registry.cc:113] Plugin optimizer for device_type GPU is enabled.\n"
     ]
    },
    {
     "name": "stdout",
     "output_type": "stream",
     "text": [
      "439/439 [==============================] - 35s 76ms/step - loss: 1.1204 - accuracy: 0.5587 - val_loss: 1.1193 - val_accuracy: 0.5607\n",
      "Epoch 2/17\n",
      "439/439 [==============================] - 34s 78ms/step - loss: 0.8353 - accuracy: 0.6876 - val_loss: 1.0628 - val_accuracy: 0.6043\n",
      "Epoch 3/17\n",
      "439/439 [==============================] - 24s 56ms/step - loss: 0.7059 - accuracy: 0.7442 - val_loss: 1.4606 - val_accuracy: 0.5410\n",
      "Epoch 4/17\n",
      "439/439 [==============================] - 24s 55ms/step - loss: 0.6319 - accuracy: 0.7753 - val_loss: 1.2681 - val_accuracy: 0.5840\n",
      "Epoch 5/17\n",
      "439/439 [==============================] - 22s 51ms/step - loss: 0.5816 - accuracy: 0.7896 - val_loss: 1.3818 - val_accuracy: 0.5723\n",
      "Epoch 6/17\n",
      "439/439 [==============================] - 25s 57ms/step - loss: 0.5385 - accuracy: 0.8088 - val_loss: 1.3998 - val_accuracy: 0.5743\n",
      "Epoch 7/17\n",
      "439/439 [==============================] - 32s 73ms/step - loss: 0.5025 - accuracy: 0.8200 - val_loss: 1.5593 - val_accuracy: 0.5527\n",
      "Epoch 8/17\n",
      "439/439 [==============================] - 30s 67ms/step - loss: 0.4781 - accuracy: 0.8289 - val_loss: 1.4120 - val_accuracy: 0.5840\n",
      "Epoch 9/17\n",
      "439/439 [==============================] - 21s 48ms/step - loss: 0.4560 - accuracy: 0.8354 - val_loss: 1.3865 - val_accuracy: 0.5800\n",
      "Epoch 10/17\n",
      "439/439 [==============================] - 31s 70ms/step - loss: 0.4240 - accuracy: 0.8477 - val_loss: 1.5414 - val_accuracy: 0.5643\n",
      "Epoch 11/17\n",
      "439/439 [==============================] - 33s 75ms/step - loss: 0.4028 - accuracy: 0.8525 - val_loss: 1.5760 - val_accuracy: 0.5730\n",
      "Epoch 12/17\n",
      "439/439 [==============================] - 22s 51ms/step - loss: 0.3784 - accuracy: 0.8685 - val_loss: 1.7612 - val_accuracy: 0.5980\n",
      "Epoch 13/17\n",
      "439/439 [==============================] - 21s 47ms/step - loss: 0.3642 - accuracy: 0.8669 - val_loss: 1.5669 - val_accuracy: 0.6220\n",
      "Epoch 14/17\n",
      "439/439 [==============================] - 31s 71ms/step - loss: 0.3407 - accuracy: 0.8774 - val_loss: 1.8982 - val_accuracy: 0.5837\n",
      "Epoch 15/17\n",
      "439/439 [==============================] - 35s 80ms/step - loss: 0.3286 - accuracy: 0.8832 - val_loss: 2.0528 - val_accuracy: 0.5453\n",
      "Epoch 16/17\n",
      "439/439 [==============================] - 31s 70ms/step - loss: 0.3122 - accuracy: 0.8906 - val_loss: 2.4940 - val_accuracy: 0.5077\n",
      "Epoch 17/17\n",
      "439/439 [==============================] - 27s 62ms/step - loss: 0.3051 - accuracy: 0.8909 - val_loss: 2.1524 - val_accuracy: 0.5980\n",
      "CPU times: user 9min 2s, sys: 1min 22s, total: 10min 24s\n",
      "Wall time: 7min 59s\n"
     ]
    },
    {
     "data": {
      "text/plain": "<keras.callbacks.History at 0x15ffae9e0>"
     },
     "execution_count": 8,
     "metadata": {},
     "output_type": "execute_result"
    }
   ],
   "source": [
    "%%time\n",
    "cnn.fit(training_set, steps_per_epoch= len(training_set), validation_data = test_set, validation_steps=len(test_set), epochs = 17)"
   ]
  },
  {
   "cell_type": "code",
   "execution_count": 9,
   "metadata": {
    "pycharm": {
     "name": "#%%\n"
    }
   },
   "outputs": [
    {
     "name": "stderr",
     "output_type": "stream",
     "text": [
      "/var/folders/ls/51zhgxrx7b3_91d8db097mlr0000gn/T/ipykernel_14027/970638045.py:1: UserWarning: `Model.evaluate_generator` is deprecated and will be removed in a future version. Please use `Model.evaluate`, which supports generators.\n",
      "  accuracy=cnn.evaluate_generator(test_set, steps=len(test_set),verbose=2)\n"
     ]
    },
    {
     "name": "stdout",
     "output_type": "stream",
     "text": [
      "94/94 - 2s - loss: 2.1524 - accuracy: 0.5980 - 2s/epoch - 18ms/step\n",
      "Accuracy of the model on the test set:  0.5979999899864197\n"
     ]
    }
   ],
   "source": [
    "accuracy=cnn.evaluate_generator(test_set, steps=len(test_set),verbose=2)\n",
    "print('Accuracy of the model on the test set: ',accuracy[1])"
   ]
  }
 ],
 "metadata": {
  "kernelspec": {
   "display_name": "Python 3 (ipykernel)",
   "language": "python",
   "name": "python3"
  },
  "language_info": {
   "codemirror_mode": {
    "name": "ipython",
    "version": 3
   },
   "file_extension": ".py",
   "mimetype": "text/x-python",
   "name": "python",
   "nbconvert_exporter": "python",
   "pygments_lexer": "ipython3",
   "version": "3.10.5"
  }
 },
 "nbformat": 4,
 "nbformat_minor": 1
}
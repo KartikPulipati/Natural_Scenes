{
 "cells": [
  {
   "cell_type": "code",
   "execution_count": 2,
   "metadata": {
    "pycharm": {
     "name": "#%%\n"
    }
   },
   "outputs": [],
   "source": [
    "import numpy as np\n",
    "import tensorflow as tf\n",
    "from tensorflow.keras.preprocessing.image import ImageDataGenerator\n",
    "from tensorflow.keras.models import Sequential\n",
    "from tensorflow.keras.layers import Convolution2D, MaxPooling2D, Flatten, Dense"
   ]
  },
  {
   "cell_type": "code",
   "execution_count": 3,
   "metadata": {
    "pycharm": {
     "name": "#%%\n"
    }
   },
   "outputs": [],
   "source": [
    "train_path = '../archive/seg_train/'\n",
    "test_path = '../../blur/data/blur_single/seg_test/'"
   ]
  },
  {
   "cell_type": "code",
   "execution_count": 4,
   "metadata": {
    "pycharm": {
     "name": "#%%\n"
    }
   },
   "outputs": [
    {
     "name": "stdout",
     "output_type": "stream",
     "text": [
      "Found 14034 images belonging to 6 classes.\n"
     ]
    }
   ],
   "source": [
    "train_datagen = ImageDataGenerator(\n",
    "                    rescale = 1/255,\n",
    "                    shear_range = 0.2,\n",
    "                    zoom_range = 0.2,\n",
    "                    horizontal_flip = True,\n",
    "                    vertical_flip = False)\n",
    "training_set = train_datagen.flow_from_directory(train_path,\n",
    "                                                 target_size = (64, 64),\n",
    "                                                 class_mode = 'categorical')"
   ]
  },
  {
   "cell_type": "code",
   "execution_count": 5,
   "metadata": {
    "pycharm": {
     "name": "#%%\n"
    }
   },
   "outputs": [
    {
     "name": "stdout",
     "output_type": "stream",
     "text": [
      "Found 3000 images belonging to 6 classes.\n"
     ]
    }
   ],
   "source": [
    "test_datagen = ImageDataGenerator(rescale = 1/255)\n",
    "test_set = test_datagen.flow_from_directory(test_path,\n",
    "                                            target_size = (64, 64),\n",
    "                                            class_mode = 'categorical')"
   ]
  },
  {
   "cell_type": "code",
   "execution_count": 6,
   "metadata": {
    "pycharm": {
     "name": "#%%\n"
    }
   },
   "outputs": [
    {
     "name": "stdout",
     "output_type": "stream",
     "text": [
      "Metal device set to: Apple M1\n"
     ]
    },
    {
     "name": "stderr",
     "output_type": "stream",
     "text": [
      "2022-08-07 07:57:30.665649: I tensorflow/core/common_runtime/pluggable_device/pluggable_device_factory.cc:305] Could not identify NUMA node of platform GPU ID 0, defaulting to 0. Your kernel may not have been built with NUMA support.\n",
      "2022-08-07 07:57:30.665800: I tensorflow/core/common_runtime/pluggable_device/pluggable_device_factory.cc:271] Created TensorFlow device (/job:localhost/replica:0/task:0/device:GPU:0 with 0 MB memory) -> physical PluggableDevice (device: 0, name: METAL, pci bus id: <undefined>)\n"
     ]
    },
    {
     "data": {
      "text/plain": [
       "<keras.engine.sequential.Sequential at 0x16a271f60>"
      ]
     },
     "execution_count": 6,
     "metadata": {},
     "output_type": "execute_result"
    }
   ],
   "source": [
    "cnn = Sequential()\n",
    "cnn"
   ]
  },
  {
   "cell_type": "code",
   "execution_count": 7,
   "metadata": {
    "pycharm": {
     "name": "#%%\n"
    }
   },
   "outputs": [],
   "source": [
    "cnn.add(Convolution2D(filters=32, kernel_size=3, activation='relu'))\n",
    "cnn.add(MaxPooling2D(pool_size=(2,2)))\n",
    "cnn.add(Convolution2D(filters=32, kernel_size=3, activation='relu'))\n",
    "cnn.add(MaxPooling2D(pool_size=(2,2)))\n",
    "cnn.add(Flatten())\n",
    "cnn.add(Dense(units=256, activation='relu'))\n",
    "cnn.add(Dense(units=128, activation='relu'))\n",
    "cnn.add(Dense(units=64, activation='relu'))\n",
    "cnn.add(Dense(units=24, activation='relu'))\n",
    "cnn.add(Dense(units=6, activation='softmax'))"
   ]
  },
  {
   "cell_type": "code",
   "execution_count": 8,
   "metadata": {
    "pycharm": {
     "name": "#%%\n"
    }
   },
   "outputs": [],
   "source": [
    "cnn.compile(optimizer = 'adam', loss = 'categorical_crossentropy', metrics = ['accuracy'])"
   ]
  },
  {
   "cell_type": "code",
   "execution_count": 9,
   "metadata": {
    "pycharm": {
     "name": "#%%\n"
    }
   },
   "outputs": [
    {
     "name": "stdout",
     "output_type": "stream",
     "text": [
      "Epoch 1/17\n"
     ]
    },
    {
     "name": "stderr",
     "output_type": "stream",
     "text": [
      "2022-08-07 07:57:32.882511: W tensorflow/core/platform/profile_utils/cpu_utils.cc:128] Failed to get CPU frequency: 0 Hz\n",
      "2022-08-07 07:57:33.390800: I tensorflow/core/grappler/optimizers/custom_graph_optimizer_registry.cc:113] Plugin optimizer for device_type GPU is enabled.\n"
     ]
    },
    {
     "name": "stdout",
     "output_type": "stream",
     "text": [
      "439/439 [==============================] - ETA: 0s - loss: 1.0767 - accuracy: 0.5822"
     ]
    },
    {
     "name": "stderr",
     "output_type": "stream",
     "text": [
      "2022-08-07 07:57:58.519487: I tensorflow/core/grappler/optimizers/custom_graph_optimizer_registry.cc:113] Plugin optimizer for device_type GPU is enabled.\n"
     ]
    },
    {
     "name": "stdout",
     "output_type": "stream",
     "text": [
      "439/439 [==============================] - 28s 55ms/step - loss: 1.0767 - accuracy: 0.5822 - val_loss: 1.1384 - val_accuracy: 0.5490\n",
      "Epoch 2/17\n",
      "439/439 [==============================] - 22s 50ms/step - loss: 0.7899 - accuracy: 0.7092 - val_loss: 1.6121 - val_accuracy: 0.4680\n",
      "Epoch 3/17\n",
      "439/439 [==============================] - 21s 49ms/step - loss: 0.6776 - accuracy: 0.7545 - val_loss: 1.1965 - val_accuracy: 0.6037\n",
      "Epoch 4/17\n",
      "439/439 [==============================] - 21s 48ms/step - loss: 0.6157 - accuracy: 0.7767 - val_loss: 1.3655 - val_accuracy: 0.5750\n",
      "Epoch 5/17\n",
      "439/439 [==============================] - 21s 48ms/step - loss: 0.5876 - accuracy: 0.7894 - val_loss: 1.3182 - val_accuracy: 0.5893\n",
      "Epoch 6/17\n",
      "439/439 [==============================] - 23s 52ms/step - loss: 0.5241 - accuracy: 0.8117 - val_loss: 1.1378 - val_accuracy: 0.6557\n",
      "Epoch 7/17\n",
      "439/439 [==============================] - 23s 52ms/step - loss: 0.5189 - accuracy: 0.8166 - val_loss: 1.2047 - val_accuracy: 0.5837\n",
      "Epoch 8/17\n",
      "439/439 [==============================] - 23s 52ms/step - loss: 0.4657 - accuracy: 0.8343 - val_loss: 1.7832 - val_accuracy: 0.5113\n",
      "Epoch 9/17\n",
      "439/439 [==============================] - 22s 51ms/step - loss: 0.4516 - accuracy: 0.8381 - val_loss: 1.0869 - val_accuracy: 0.6567\n",
      "Epoch 10/17\n",
      "439/439 [==============================] - 23s 52ms/step - loss: 0.4213 - accuracy: 0.8481 - val_loss: 1.6607 - val_accuracy: 0.5813\n",
      "Epoch 11/17\n",
      "439/439 [==============================] - 22s 51ms/step - loss: 0.3884 - accuracy: 0.8629 - val_loss: 1.5092 - val_accuracy: 0.5810\n",
      "Epoch 12/17\n",
      "439/439 [==============================] - 21s 47ms/step - loss: 0.3814 - accuracy: 0.8642 - val_loss: 1.4514 - val_accuracy: 0.5983\n",
      "Epoch 13/17\n",
      "439/439 [==============================] - 24s 54ms/step - loss: 0.3514 - accuracy: 0.8749 - val_loss: 1.8106 - val_accuracy: 0.5920\n",
      "Epoch 14/17\n",
      "439/439 [==============================] - 23s 52ms/step - loss: 0.3413 - accuracy: 0.8779 - val_loss: 1.8307 - val_accuracy: 0.5687\n",
      "Epoch 15/17\n",
      "439/439 [==============================] - 23s 53ms/step - loss: 0.3245 - accuracy: 0.8832 - val_loss: 1.4439 - val_accuracy: 0.5977\n",
      "Epoch 16/17\n",
      "439/439 [==============================] - 23s 52ms/step - loss: 0.3175 - accuracy: 0.8880 - val_loss: 1.7763 - val_accuracy: 0.5610\n",
      "Epoch 17/17\n",
      "439/439 [==============================] - 23s 52ms/step - loss: 0.2872 - accuracy: 0.8978 - val_loss: 1.8139 - val_accuracy: 0.6317\n",
      "CPU times: user 7min 17s, sys: 1min 4s, total: 8min 21s\n",
      "Wall time: 6min 28s\n"
     ]
    },
    {
     "data": {
      "text/plain": [
       "<keras.callbacks.History at 0x174bb01c0>"
      ]
     },
     "execution_count": 9,
     "metadata": {},
     "output_type": "execute_result"
    }
   ],
   "source": [
    "%%time\n",
    "cnn.fit(training_set, steps_per_epoch= len(training_set), validation_data = test_set, validation_steps=len(test_set), epochs = 17)"
   ]
  },
  {
   "cell_type": "code",
   "execution_count": 9,
   "metadata": {
    "pycharm": {
     "name": "#%%\n"
    }
   },
   "outputs": [],
   "source": [
    "accuracy=cnn.evaluate_generator(test_set, steps=len(test_set)//32,verbose=2)\n",
    "print('Accuracy of the model on the test set: ',accuracy[1])"
   ]
  },
  {
   "cell_type": "code",
   "execution_count": 9,
   "metadata": {
    "pycharm": {
     "name": "#%%\n"
    }
   },
   "outputs": [],
   "source": []
  }
 ],
 "metadata": {
  "kernelspec": {
   "display_name": "Python 3 (ipykernel)",
   "language": "python",
   "name": "python3"
  },
  "language_info": {
   "codemirror_mode": {
    "name": "ipython",
    "version": 3
   },
   "file_extension": ".py",
   "mimetype": "text/x-python",
   "name": "python",
   "nbconvert_exporter": "python",
   "pygments_lexer": "ipython3",
   "version": "3.10.5"
  }
 },
 "nbformat": 4,
 "nbformat_minor": 1
}

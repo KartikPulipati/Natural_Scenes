{
 "cells": [
  {
   "cell_type": "code",
   "execution_count": 1,
   "outputs": [],
   "source": [
    "import numpy as np\n",
    "import tensorflow as tf\n",
    "from keras.preprocessing.image import ImageDataGenerator\n",
    "from keras.models import Sequential\n",
    "from keras.layers import Convolution2D, MaxPooling2D, Flatten, Dense"
   ],
   "metadata": {
    "collapsed": false,
    "pycharm": {
     "name": "#%%\n"
    }
   }
  },
  {
   "cell_type": "code",
   "execution_count": 2,
   "outputs": [],
   "source": [
    "train_path = '../archive/seg_train/'\n",
    "test_path = '../../black_box/data/black_box_single/seg_test/'"
   ],
   "metadata": {
    "collapsed": false,
    "pycharm": {
     "name": "#%%\n"
    }
   }
  },
  {
   "cell_type": "code",
   "execution_count": 3,
   "outputs": [
    {
     "name": "stdout",
     "output_type": "stream",
     "text": [
      "Found 14034 images belonging to 6 classes.\n"
     ]
    }
   ],
   "source": [
    "train_datagen = ImageDataGenerator(\n",
    "                    rescale = 1/255,\n",
    "                    shear_range = 0.2,\n",
    "                    zoom_range = 0.2,\n",
    "                    horizontal_flip = True,\n",
    "                    vertical_flip = False)\n",
    "training_set = train_datagen.flow_from_directory(train_path,\n",
    "                                                 target_size = (64, 64),\n",
    "                                                 class_mode = 'categorical')"
   ],
   "metadata": {
    "collapsed": false,
    "pycharm": {
     "name": "#%%\n"
    }
   }
  },
  {
   "cell_type": "code",
   "execution_count": 4,
   "outputs": [
    {
     "name": "stdout",
     "output_type": "stream",
     "text": [
      "Found 3000 images belonging to 6 classes.\n"
     ]
    }
   ],
   "source": [
    "test_datagen = ImageDataGenerator(rescale = 1/255)\n",
    "test_set = test_datagen.flow_from_directory(test_path,\n",
    "                                            target_size = (64, 64),\n",
    "                                            class_mode = 'categorical')"
   ],
   "metadata": {
    "collapsed": false,
    "pycharm": {
     "name": "#%%\n"
    }
   }
  },
  {
   "cell_type": "code",
   "execution_count": 5,
   "outputs": [
    {
     "name": "stdout",
     "output_type": "stream",
     "text": [
      "Metal device set to: Apple M1\n"
     ]
    },
    {
     "name": "stderr",
     "output_type": "stream",
     "text": [
      "2022-09-05 09:44:13.083882: I tensorflow/core/common_runtime/pluggable_device/pluggable_device_factory.cc:305] Could not identify NUMA node of platform GPU ID 0, defaulting to 0. Your kernel may not have been built with NUMA support.\n",
      "2022-09-05 09:44:13.084023: I tensorflow/core/common_runtime/pluggable_device/pluggable_device_factory.cc:271] Created TensorFlow device (/job:localhost/replica:0/task:0/device:GPU:0 with 0 MB memory) -> physical PluggableDevice (device: 0, name: METAL, pci bus id: <undefined>)\n"
     ]
    },
    {
     "data": {
      "text/plain": "<keras.engine.sequential.Sequential at 0x28b9d7c70>"
     },
     "execution_count": 5,
     "metadata": {},
     "output_type": "execute_result"
    }
   ],
   "source": [
    "cnn = Sequential()\n",
    "cnn"
   ],
   "metadata": {
    "collapsed": false,
    "pycharm": {
     "name": "#%%\n"
    }
   }
  },
  {
   "cell_type": "code",
   "execution_count": 6,
   "outputs": [],
   "source": [
    "cnn.add(Convolution2D(filters=32, kernel_size=3, activation='relu'))\n",
    "cnn.add(MaxPooling2D(pool_size=(2,2)))\n",
    "cnn.add(Convolution2D(filters=32, kernel_size=3, activation='relu'))\n",
    "cnn.add(MaxPooling2D(pool_size=(2,2)))\n",
    "cnn.add(Flatten())\n",
    "cnn.add(Dense(units=256, activation='relu'))\n",
    "cnn.add(Dense(units=128, activation='relu'))\n",
    "cnn.add(Dense(units=64, activation='relu'))\n",
    "cnn.add(Dense(units=24, activation='relu'))\n",
    "cnn.add(Dense(units=6, activation='softmax'))"
   ],
   "metadata": {
    "collapsed": false,
    "pycharm": {
     "name": "#%%\n"
    }
   }
  },
  {
   "cell_type": "code",
   "execution_count": 7,
   "outputs": [],
   "source": [
    "cnn.compile(optimizer = 'adam', loss = 'categorical_crossentropy', metrics = ['accuracy'])"
   ],
   "metadata": {
    "collapsed": false,
    "pycharm": {
     "name": "#%%\n"
    }
   }
  },
  {
   "cell_type": "code",
   "execution_count": 8,
   "outputs": [
    {
     "name": "stdout",
     "output_type": "stream",
     "text": [
      "Epoch 1/17\n"
     ]
    },
    {
     "name": "stderr",
     "output_type": "stream",
     "text": [
      "2022-09-05 09:44:13.395283: W tensorflow/core/platform/profile_utils/cpu_utils.cc:128] Failed to get CPU frequency: 0 Hz\n",
      "2022-09-05 09:44:13.975142: I tensorflow/core/grappler/optimizers/custom_graph_optimizer_registry.cc:113] Plugin optimizer for device_type GPU is enabled.\n"
     ]
    },
    {
     "name": "stdout",
     "output_type": "stream",
     "text": [
      "439/439 [==============================] - ETA: 0s - loss: 1.0785 - accuracy: 0.5643"
     ]
    },
    {
     "name": "stderr",
     "output_type": "stream",
     "text": [
      "2022-09-05 09:44:45.287661: I tensorflow/core/grappler/optimizers/custom_graph_optimizer_registry.cc:113] Plugin optimizer for device_type GPU is enabled.\n"
     ]
    },
    {
     "name": "stdout",
     "output_type": "stream",
     "text": [
      "439/439 [==============================] - 35s 78ms/step - loss: 1.0785 - accuracy: 0.5643 - val_loss: 1.3811 - val_accuracy: 0.4663\n",
      "Epoch 2/17\n",
      "439/439 [==============================] - 33s 74ms/step - loss: 0.8455 - accuracy: 0.6786 - val_loss: 1.1245 - val_accuracy: 0.5767\n",
      "Epoch 3/17\n",
      "439/439 [==============================] - 35s 79ms/step - loss: 0.7367 - accuracy: 0.7315 - val_loss: 1.3468 - val_accuracy: 0.5337\n",
      "Epoch 4/17\n",
      "439/439 [==============================] - 34s 76ms/step - loss: 0.6743 - accuracy: 0.7552 - val_loss: 1.2332 - val_accuracy: 0.5900\n",
      "Epoch 5/17\n",
      "439/439 [==============================] - 38s 87ms/step - loss: 0.6178 - accuracy: 0.7736 - val_loss: 1.3162 - val_accuracy: 0.5387\n",
      "Epoch 6/17\n",
      "439/439 [==============================] - 38s 86ms/step - loss: 0.5845 - accuracy: 0.7892 - val_loss: 1.6295 - val_accuracy: 0.5163\n",
      "Epoch 7/17\n",
      "439/439 [==============================] - 36s 82ms/step - loss: 0.5270 - accuracy: 0.8112 - val_loss: 1.6398 - val_accuracy: 0.5333\n",
      "Epoch 8/17\n",
      "439/439 [==============================] - 35s 79ms/step - loss: 0.4857 - accuracy: 0.8264 - val_loss: 1.3519 - val_accuracy: 0.6087\n",
      "Epoch 9/17\n",
      "439/439 [==============================] - 35s 79ms/step - loss: 0.4758 - accuracy: 0.8288 - val_loss: 1.3405 - val_accuracy: 0.6020\n",
      "Epoch 10/17\n",
      "439/439 [==============================] - 36s 81ms/step - loss: 0.4303 - accuracy: 0.8446 - val_loss: 1.4546 - val_accuracy: 0.5963\n",
      "Epoch 11/17\n",
      "439/439 [==============================] - 34s 77ms/step - loss: 0.4115 - accuracy: 0.8489 - val_loss: 1.2857 - val_accuracy: 0.6447\n",
      "Epoch 12/17\n",
      "439/439 [==============================] - 35s 79ms/step - loss: 0.4047 - accuracy: 0.8533 - val_loss: 1.3814 - val_accuracy: 0.6310\n",
      "Epoch 13/17\n",
      "439/439 [==============================] - 32s 73ms/step - loss: 0.3728 - accuracy: 0.8648 - val_loss: 1.4104 - val_accuracy: 0.6217\n",
      "Epoch 14/17\n",
      "439/439 [==============================] - 31s 70ms/step - loss: 0.3562 - accuracy: 0.8724 - val_loss: 1.5096 - val_accuracy: 0.6037\n",
      "Epoch 15/17\n",
      "439/439 [==============================] - 32s 73ms/step - loss: 0.3369 - accuracy: 0.8806 - val_loss: 1.8133 - val_accuracy: 0.5777\n",
      "Epoch 16/17\n",
      "439/439 [==============================] - 36s 83ms/step - loss: 0.3157 - accuracy: 0.8891 - val_loss: 2.0275 - val_accuracy: 0.5617\n",
      "Epoch 17/17\n",
      "439/439 [==============================] - 37s 84ms/step - loss: 0.2970 - accuracy: 0.8923 - val_loss: 1.8106 - val_accuracy: 0.5967\n",
      "CPU times: user 10min 39s, sys: 1min 48s, total: 12min 27s\n",
      "Wall time: 9min 49s\n"
     ]
    },
    {
     "data": {
      "text/plain": "<keras.callbacks.History at 0x28d7656f0>"
     },
     "execution_count": 8,
     "metadata": {},
     "output_type": "execute_result"
    }
   ],
   "source": [
    "%%time\n",
    "cnn.fit(training_set, steps_per_epoch= len(training_set), validation_data = test_set, validation_steps=len(test_set), epochs = 17)"
   ],
   "metadata": {
    "collapsed": false,
    "pycharm": {
     "name": "#%%\n"
    }
   }
  },
  {
   "cell_type": "code",
   "execution_count": 9,
   "outputs": [
    {
     "name": "stdout",
     "output_type": "stream",
     "text": [
      "94/94 - 2s - loss: 1.8106 - accuracy: 0.5967 - 2s/epoch - 26ms/step\n",
      "Accuracy of the model on the test set:  0.5966666340827942\n"
     ]
    }
   ],
   "source": [
    "accuracy = cnn.evaluate(test_set, steps=len(test_set), verbose=2)\n",
    "print('Accuracy of the model on the test set: ', accuracy[1])"
   ],
   "metadata": {
    "collapsed": false,
    "pycharm": {
     "name": "#%%\n"
    }
   }
  }
 ],
 "metadata": {
  "kernelspec": {
   "display_name": "Python 3",
   "language": "python",
   "name": "python3"
  },
  "language_info": {
   "codemirror_mode": {
    "name": "ipython",
    "version": 2
   },
   "file_extension": ".py",
   "mimetype": "text/x-python",
   "name": "python",
   "nbconvert_exporter": "python",
   "pygments_lexer": "ipython2",
   "version": "2.7.6"
  }
 },
 "nbformat": 4,
 "nbformat_minor": 0
}
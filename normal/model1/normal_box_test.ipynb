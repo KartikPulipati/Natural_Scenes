{
 "cells": [
  {
   "cell_type": "code",
   "execution_count": 1,
   "outputs": [],
   "source": [
    "import numpy as np\n",
    "import tensorflow as tf\n",
    "from tensorflow.keras.preprocessing.image import ImageDataGenerator\n",
    "from tensorflow.keras.models import Sequential\n",
    "from tensorflow.keras.layers import Convolution2D, MaxPooling2D, Flatten, Dense"
   ],
   "metadata": {
    "collapsed": false,
    "pycharm": {
     "name": "#%%\n"
    }
   }
  },
  {
   "cell_type": "code",
   "execution_count": 2,
   "outputs": [],
   "source": [
    "train_path = '../archive/seg_train/'\n",
    "test_path = '../../black_box/data/black_box_single/seg_test/'"
   ],
   "metadata": {
    "collapsed": false,
    "pycharm": {
     "name": "#%%\n"
    }
   }
  },
  {
   "cell_type": "code",
   "execution_count": 3,
   "outputs": [
    {
     "name": "stdout",
     "output_type": "stream",
     "text": [
      "Found 14034 images belonging to 6 classes.\n"
     ]
    }
   ],
   "source": [
    "train_datagen = ImageDataGenerator(\n",
    "                    rescale = 1/255,\n",
    "                    shear_range = 0.2,\n",
    "                    zoom_range = 0.2,\n",
    "                    horizontal_flip = True,\n",
    "                    vertical_flip = False)\n",
    "training_set = train_datagen.flow_from_directory(train_path,\n",
    "                                                 target_size = (64, 64),\n",
    "                                                 class_mode = 'categorical')"
   ],
   "metadata": {
    "collapsed": false,
    "pycharm": {
     "name": "#%%\n"
    }
   }
  },
  {
   "cell_type": "code",
   "execution_count": 4,
   "outputs": [
    {
     "name": "stdout",
     "output_type": "stream",
     "text": [
      "Found 3000 images belonging to 6 classes.\n"
     ]
    }
   ],
   "source": [
    "test_datagen = ImageDataGenerator(rescale = 1/255)\n",
    "test_set = test_datagen.flow_from_directory(test_path,\n",
    "                                            target_size = (64, 64),\n",
    "                                            class_mode = 'categorical')"
   ],
   "metadata": {
    "collapsed": false,
    "pycharm": {
     "name": "#%%\n"
    }
   }
  },
  {
   "cell_type": "code",
   "execution_count": 5,
   "outputs": [
    {
     "name": "stdout",
     "output_type": "stream",
     "text": [
      "Metal device set to: Apple M1\n"
     ]
    },
    {
     "name": "stderr",
     "output_type": "stream",
     "text": [
      "2022-08-07 07:46:24.264925: I tensorflow/core/common_runtime/pluggable_device/pluggable_device_factory.cc:305] Could not identify NUMA node of platform GPU ID 0, defaulting to 0. Your kernel may not have been built with NUMA support.\n",
      "2022-08-07 07:46:24.265119: I tensorflow/core/common_runtime/pluggable_device/pluggable_device_factory.cc:271] Created TensorFlow device (/job:localhost/replica:0/task:0/device:GPU:0 with 0 MB memory) -> physical PluggableDevice (device: 0, name: METAL, pci bus id: <undefined>)\n"
     ]
    },
    {
     "data": {
      "text/plain": "<keras.engine.sequential.Sequential at 0x16c2ff430>"
     },
     "execution_count": 5,
     "metadata": {},
     "output_type": "execute_result"
    }
   ],
   "source": [
    "cnn = Sequential()\n",
    "cnn"
   ],
   "metadata": {
    "collapsed": false,
    "pycharm": {
     "name": "#%%\n"
    }
   }
  },
  {
   "cell_type": "code",
   "execution_count": 6,
   "outputs": [],
   "source": [
    "cnn.add(Convolution2D(filters=32, kernel_size=3, activation='relu'))\n",
    "cnn.add(MaxPooling2D(pool_size=(2,2)))\n",
    "cnn.add(Convolution2D(filters=32, kernel_size=3, activation='relu'))\n",
    "cnn.add(MaxPooling2D(pool_size=(2,2)))\n",
    "cnn.add(Flatten())\n",
    "cnn.add(Dense(units=256, activation='relu'))\n",
    "cnn.add(Dense(units=128, activation='relu'))\n",
    "cnn.add(Dense(units=64, activation='relu'))\n",
    "cnn.add(Dense(units=24, activation='relu'))\n",
    "cnn.add(Dense(units=6, activation='softmax'))"
   ],
   "metadata": {
    "collapsed": false,
    "pycharm": {
     "name": "#%%\n"
    }
   }
  },
  {
   "cell_type": "code",
   "execution_count": 7,
   "outputs": [],
   "source": [
    "cnn.compile(optimizer = 'adam', loss = 'categorical_crossentropy', metrics = ['accuracy'])"
   ],
   "metadata": {
    "collapsed": false,
    "pycharm": {
     "name": "#%%\n"
    }
   }
  },
  {
   "cell_type": "code",
   "execution_count": 8,
   "outputs": [
    {
     "name": "stdout",
     "output_type": "stream",
     "text": [
      "Epoch 1/17\n"
     ]
    },
    {
     "name": "stderr",
     "output_type": "stream",
     "text": [
      "2022-08-07 07:46:26.451179: W tensorflow/core/platform/profile_utils/cpu_utils.cc:128] Failed to get CPU frequency: 0 Hz\n",
      "2022-08-07 07:46:26.894781: I tensorflow/core/grappler/optimizers/custom_graph_optimizer_registry.cc:113] Plugin optimizer for device_type GPU is enabled.\n"
     ]
    },
    {
     "name": "stdout",
     "output_type": "stream",
     "text": [
      "439/439 [==============================] - ETA: 0s - loss: 1.0532 - accuracy: 0.5886"
     ]
    },
    {
     "name": "stderr",
     "output_type": "stream",
     "text": [
      "2022-08-07 07:46:53.333042: I tensorflow/core/grappler/optimizers/custom_graph_optimizer_registry.cc:113] Plugin optimizer for device_type GPU is enabled.\n"
     ]
    },
    {
     "name": "stdout",
     "output_type": "stream",
     "text": [
      "439/439 [==============================] - 29s 58ms/step - loss: 1.0532 - accuracy: 0.5886 - val_loss: 1.0182 - val_accuracy: 0.6143\n",
      "Epoch 2/17\n",
      "439/439 [==============================] - 23s 51ms/step - loss: 0.7919 - accuracy: 0.7079 - val_loss: 0.9282 - val_accuracy: 0.6567\n",
      "Epoch 3/17\n",
      "439/439 [==============================] - 23s 52ms/step - loss: 0.6952 - accuracy: 0.7459 - val_loss: 0.9443 - val_accuracy: 0.6587\n",
      "Epoch 4/17\n",
      "439/439 [==============================] - 22s 50ms/step - loss: 0.6457 - accuracy: 0.7671 - val_loss: 0.8997 - val_accuracy: 0.6703\n",
      "Epoch 5/17\n",
      "439/439 [==============================] - 24s 54ms/step - loss: 0.5916 - accuracy: 0.7899 - val_loss: 1.0034 - val_accuracy: 0.6427\n",
      "Epoch 6/17\n",
      "439/439 [==============================] - 26s 58ms/step - loss: 0.5477 - accuracy: 0.8053 - val_loss: 1.2128 - val_accuracy: 0.6000\n",
      "Epoch 7/17\n",
      "439/439 [==============================] - 20s 46ms/step - loss: 0.5161 - accuracy: 0.8108 - val_loss: 0.9958 - val_accuracy: 0.6703\n",
      "Epoch 8/17\n",
      "439/439 [==============================] - 20s 46ms/step - loss: 0.4931 - accuracy: 0.8262 - val_loss: 1.0673 - val_accuracy: 0.6670\n",
      "Epoch 9/17\n",
      "439/439 [==============================] - 23s 52ms/step - loss: 0.4685 - accuracy: 0.8349 - val_loss: 1.3650 - val_accuracy: 0.5937\n",
      "Epoch 10/17\n",
      "439/439 [==============================] - 24s 54ms/step - loss: 0.4351 - accuracy: 0.8440 - val_loss: 1.3153 - val_accuracy: 0.6147\n",
      "Epoch 11/17\n",
      "439/439 [==============================] - 24s 55ms/step - loss: 0.4123 - accuracy: 0.8529 - val_loss: 1.3299 - val_accuracy: 0.6203\n",
      "Epoch 12/17\n",
      "439/439 [==============================] - 23s 53ms/step - loss: 0.4022 - accuracy: 0.8560 - val_loss: 1.2665 - val_accuracy: 0.6300\n",
      "Epoch 13/17\n",
      "439/439 [==============================] - 24s 54ms/step - loss: 0.3804 - accuracy: 0.8644 - val_loss: 1.5247 - val_accuracy: 0.5843\n",
      "Epoch 14/17\n",
      "439/439 [==============================] - 23s 53ms/step - loss: 0.3582 - accuracy: 0.8721 - val_loss: 1.4070 - val_accuracy: 0.6213\n",
      "Epoch 15/17\n",
      "439/439 [==============================] - 22s 49ms/step - loss: 0.3522 - accuracy: 0.8717 - val_loss: 1.2217 - val_accuracy: 0.6547\n",
      "Epoch 16/17\n",
      "439/439 [==============================] - 21s 47ms/step - loss: 0.3270 - accuracy: 0.8850 - val_loss: 1.8895 - val_accuracy: 0.5760\n",
      "Epoch 17/17\n",
      "439/439 [==============================] - 21s 49ms/step - loss: 0.3155 - accuracy: 0.8862 - val_loss: 1.4831 - val_accuracy: 0.6293\n",
      "CPU times: user 7min 26s, sys: 1min 6s, total: 8min 32s\n",
      "Wall time: 6min 33s\n"
     ]
    },
    {
     "data": {
      "text/plain": "<keras.callbacks.History at 0x17a8735b0>"
     },
     "execution_count": 8,
     "metadata": {},
     "output_type": "execute_result"
    }
   ],
   "source": [
    "%%time\n",
    "cnn.fit(training_set, steps_per_epoch= len(training_set), validation_data = test_set, validation_steps=len(test_set), epochs = 17)"
   ],
   "metadata": {
    "collapsed": false,
    "pycharm": {
     "name": "#%%\n"
    }
   }
  },
  {
   "cell_type": "code",
   "execution_count": 8,
   "outputs": [],
   "source": [],
   "metadata": {
    "collapsed": false,
    "pycharm": {
     "name": "#%%\n"
    }
   }
  }
 ],
 "metadata": {
  "kernelspec": {
   "display_name": "Python 3",
   "language": "python",
   "name": "python3"
  },
  "language_info": {
   "codemirror_mode": {
    "name": "ipython",
    "version": 2
   },
   "file_extension": ".py",
   "mimetype": "text/x-python",
   "name": "python",
   "nbconvert_exporter": "python",
   "pygments_lexer": "ipython2",
   "version": "2.7.6"
  }
 },
 "nbformat": 4,
 "nbformat_minor": 0
}
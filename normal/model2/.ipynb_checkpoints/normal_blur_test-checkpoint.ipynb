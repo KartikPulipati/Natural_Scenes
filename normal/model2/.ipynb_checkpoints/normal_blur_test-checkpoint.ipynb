{
 "cells": [
  {
   "cell_type": "code",
   "execution_count": 1,
   "metadata": {
    "collapsed": true
   },
   "outputs": [],
   "source": [
    "import tensorflow as tf\n",
    "from keras import regularizers\n",
    "from keras.preprocessing.image import ImageDataGenerator"
   ]
  },
  {
   "cell_type": "code",
   "execution_count": 2,
   "metadata": {
    "pycharm": {
     "name": "#%%\n"
    }
   },
   "outputs": [],
   "source": [
    "train_path = '../archive/seg_train/'\n",
    "test_path = '../../blur/data/blur_single'"
   ]
  },
  {
   "cell_type": "code",
   "execution_count": 3,
   "metadata": {
    "pycharm": {
     "name": "#%%\n"
    }
   },
   "outputs": [
    {
     "name": "stdout",
     "output_type": "stream",
     "text": [
      "Found 14034 images belonging to 6 classes.\n"
     ]
    }
   ],
   "source": [
    "train_datagen = ImageDataGenerator(rescale = 1./255.,\n",
    "                                   horizontal_flip=True,\n",
    "                                   shear_range=0.2,\n",
    "                                   zoom_range=0.2)\n",
    "training_set = train_datagen.flow_from_directory(train_path,\n",
    "                                                 target_size = (150, 150),\n",
    "                                                 batch_size=64,\n",
    "                                                 class_mode = 'sparse')"
   ]
  },
  {
   "cell_type": "code",
   "execution_count": 4,
   "metadata": {
    "pycharm": {
     "name": "#%%\n"
    }
   },
   "outputs": [
    {
     "name": "stdout",
     "output_type": "stream",
     "text": [
      "Found 17034 images belonging to 2 classes.\n"
     ]
    }
   ],
   "source": [
    "test_datagen = ImageDataGenerator(rescale = 1./255)\n",
    "test_set = test_datagen.flow_from_directory(test_path,\n",
    "                                            target_size = (150, 150),\n",
    "                                            batch_size=64,\n",
    "                                            class_mode = 'sparse')"
   ]
  },
  {
   "cell_type": "code",
   "execution_count": 5,
   "metadata": {
    "pycharm": {
     "name": "#%%\n"
    }
   },
   "outputs": [
    {
     "name": "stdout",
     "output_type": "stream",
     "text": [
      "Metal device set to: Apple M1\n"
     ]
    },
    {
     "name": "stderr",
     "output_type": "stream",
     "text": [
      "2022-08-22 22:23:46.993400: I tensorflow/core/common_runtime/pluggable_device/pluggable_device_factory.cc:305] Could not identify NUMA node of platform GPU ID 0, defaulting to 0. Your kernel may not have been built with NUMA support.\n",
      "2022-08-22 22:23:46.993538: I tensorflow/core/common_runtime/pluggable_device/pluggable_device_factory.cc:271] Created TensorFlow device (/job:localhost/replica:0/task:0/device:GPU:0 with 0 MB memory) -> physical PluggableDevice (device: 0, name: METAL, pci bus id: <undefined>)\n"
     ]
    }
   ],
   "source": [
    "heavyModel = tf.keras.models.Sequential([\n",
    "    tf.keras.layers.Conv2D(16,(3,3),activation='relu',input_shape=(150,150,3)),\n",
    "    tf.keras.layers.Conv2D(16,(3,3),activation='relu'),\n",
    "    tf.keras.layers.BatchNormalization(),\n",
    "    tf.keras.layers.MaxPooling2D(3,3),\n",
    "\n",
    "    tf.keras.layers.Conv2D(32,(3,3),activation='relu'),\n",
    "    tf.keras.layers.Conv2D(32,(3,3),activation='relu'),\n",
    "    tf.keras.layers.BatchNormalization(),\n",
    "    tf.keras.layers.MaxPooling2D(2,2),\n",
    "\n",
    "    tf.keras.layers.Conv2D(64,(3,3),activation='relu'),\n",
    "    tf.keras.layers.Conv2D(64,(3,3),activation='relu'),\n",
    "    tf.keras.layers.BatchNormalization(),\n",
    "    tf.keras.layers.MaxPooling2D(2,2),\n",
    "\n",
    "    tf.keras.layers.Conv2D(128,(3,3),activation='relu'),\n",
    "    tf.keras.layers.Conv2D(128,(3,3),activation='relu'),\n",
    "    tf.keras.layers.BatchNormalization(),\n",
    "\n",
    "    tf.keras.layers.Conv2D(256,(3,3),activation='relu',padding='same'),\n",
    "    tf.keras.layers.Conv2D(256,(3,3),activation='relu',padding='same'),\n",
    "    tf.keras.layers.BatchNormalization(),\n",
    "    tf.keras.layers.MaxPooling2D(2,2),\n",
    "    tf.keras.layers.Dropout(0.4),\n",
    "\n",
    "\n",
    "    tf.keras.layers.Flatten(),\n",
    "\n",
    "    tf.keras.layers.Dense(256,activation='relu'),\n",
    "    tf.keras.layers.BatchNormalization(),\n",
    "    tf.keras.layers.Dense(128,activation='relu', ),\n",
    "    tf.keras.layers.BatchNormalization(),\n",
    "    tf.keras.layers.Dropout(0.25),\n",
    "    tf.keras.layers.Dense(64,activation='relu'),\n",
    "    tf.keras.layers.BatchNormalization(),\n",
    "    tf.keras.layers.Dropout(0.25),\n",
    "    tf.keras.layers.Dense(32,activation='relu'),\n",
    "    tf.keras.layers.BatchNormalization(),\n",
    "    tf.keras.layers.Dropout(0.25),\n",
    "    tf.keras.layers.Dense(16,activation='relu'),\n",
    "    tf.keras.layers.BatchNormalization(),\n",
    "    tf.keras.layers.Dropout(0.4),\n",
    "\n",
    "    tf.keras.layers.Dense(6,activation='softmax')\n",
    "])\n"
   ]
  },
  {
   "cell_type": "code",
   "execution_count": 6,
   "metadata": {
    "pycharm": {
     "name": "#%%\n"
    }
   },
   "outputs": [
    {
     "name": "stderr",
     "output_type": "stream",
     "text": [
      "<timed exec>:4: UserWarning: `Model.fit_generator` is deprecated and will be removed in a future version. Please use `Model.fit`, which supports generators.\n"
     ]
    },
    {
     "name": "stdout",
     "output_type": "stream",
     "text": [
      "Epoch 1/20\n"
     ]
    },
    {
     "name": "stderr",
     "output_type": "stream",
     "text": [
      "2022-08-22 22:23:47.665599: W tensorflow/core/platform/profile_utils/cpu_utils.cc:128] Failed to get CPU frequency: 0 Hz\n",
      "2022-08-22 22:23:49.583897: I tensorflow/core/grappler/optimizers/custom_graph_optimizer_registry.cc:113] Plugin optimizer for device_type GPU is enabled.\n"
     ]
    },
    {
     "name": "stdout",
     "output_type": "stream",
     "text": [
      "197/197 [==============================] - ETA: 0s - loss: 1.7135 - accuracy: 0.3443"
     ]
    },
    {
     "name": "stderr",
     "output_type": "stream",
     "text": [
      "2022-08-22 22:25:24.819164: I tensorflow/core/grappler/optimizers/custom_graph_optimizer_registry.cc:113] Plugin optimizer for device_type GPU is enabled.\n"
     ]
    },
    {
     "name": "stdout",
     "output_type": "stream",
     "text": [
      "197/197 [==============================] - 99s 484ms/step - loss: 1.7135 - accuracy: 0.3443 - val_loss: 3.5873 - val_accuracy: 0.0000e+00 - lr: 0.0010\n",
      "Epoch 2/20\n",
      "197/197 [==============================] - 93s 470ms/step - loss: 1.1879 - accuracy: 0.5188 - val_loss: 3.9174 - val_accuracy: 0.0796 - lr: 0.0010\n",
      "Epoch 3/20\n",
      "197/197 [==============================] - 87s 441ms/step - loss: 0.9957 - accuracy: 0.6204 - val_loss: 3.8496 - val_accuracy: 0.1555 - lr: 0.0010\n",
      "Epoch 4/20\n",
      "197/197 [==============================] - 90s 456ms/step - loss: 0.8506 - accuracy: 0.6954 - val_loss: 2.5295 - val_accuracy: 0.3557 - lr: 0.0010\n",
      "Epoch 5/20\n",
      "197/197 [==============================] - 89s 453ms/step - loss: 0.7673 - accuracy: 0.7408 - val_loss: 3.4886 - val_accuracy: 0.1592 - lr: 0.0010\n",
      "Epoch 6/20\n",
      "197/197 [==============================] - 87s 441ms/step - loss: 0.7109 - accuracy: 0.7625 - val_loss: 4.1110 - val_accuracy: 0.0863 - lr: 0.0010\n",
      "Epoch 7/20\n",
      "197/197 [==============================] - 88s 444ms/step - loss: 0.6678 - accuracy: 0.7843 - val_loss: 3.0777 - val_accuracy: 0.2262 - lr: 0.0010\n",
      "Epoch 8/20\n",
      "197/197 [==============================] - 86s 438ms/step - loss: 0.6324 - accuracy: 0.7922 - val_loss: 4.3979 - val_accuracy: 0.1637 - lr: 0.0010\n",
      "Epoch 9/20\n",
      "197/197 [==============================] - 86s 434ms/step - loss: 0.5958 - accuracy: 0.8055 - val_loss: 4.1925 - val_accuracy: 0.1734 - lr: 0.0010\n",
      "Epoch 10/20\n",
      "197/197 [==============================] - 88s 446ms/step - loss: 0.5797 - accuracy: 0.8108 - val_loss: 4.4502 - val_accuracy: 0.1347 - lr: 0.0010\n",
      "Epoch 11/20\n",
      "197/197 [==============================] - 85s 432ms/step - loss: 0.5584 - accuracy: 0.8170 - val_loss: 4.2946 - val_accuracy: 0.1868 - lr: 0.0010\n",
      "Epoch 12/20\n",
      "197/197 [==============================] - 85s 432ms/step - loss: 0.5304 - accuracy: 0.8288 - val_loss: 4.2037 - val_accuracy: 0.1577 - lr: 0.0010\n",
      "Epoch 13/20\n",
      "197/197 [==============================] - 86s 436ms/step - loss: 0.5186 - accuracy: 0.8320 - val_loss: 5.2116 - val_accuracy: 0.1458 - lr: 0.0010\n",
      "Epoch 14/20\n",
      "197/197 [==============================] - 89s 453ms/step - loss: 0.5177 - accuracy: 0.8336 - val_loss: 5.6920 - val_accuracy: 0.1496 - lr: 0.0010\n",
      "Epoch 15/20\n",
      "197/197 [==============================] - 89s 449ms/step - loss: 0.4241 - accuracy: 0.8639 - val_loss: 4.4313 - val_accuracy: 0.1734 - lr: 1.0000e-04\n",
      "Epoch 16/20\n",
      "197/197 [==============================] - 88s 449ms/step - loss: 0.4004 - accuracy: 0.8748 - val_loss: 4.6661 - val_accuracy: 0.1533 - lr: 1.0000e-04\n",
      "Epoch 17/20\n",
      "197/197 [==============================] - 89s 450ms/step - loss: 0.3925 - accuracy: 0.8757 - val_loss: 4.6515 - val_accuracy: 0.1682 - lr: 1.0000e-04\n",
      "Epoch 18/20\n",
      "197/197 [==============================] - 90s 456ms/step - loss: 0.3784 - accuracy: 0.8812 - val_loss: 4.5514 - val_accuracy: 0.1719 - lr: 1.0000e-04\n",
      "Epoch 19/20\n",
      "197/197 [==============================] - 88s 448ms/step - loss: 0.3774 - accuracy: 0.8820 - val_loss: 4.7281 - val_accuracy: 0.1592 - lr: 1.0000e-04\n",
      "Epoch 20/20\n",
      "197/197 [==============================] - 89s 450ms/step - loss: 0.3726 - accuracy: 0.8793 - val_loss: 4.7251 - val_accuracy: 0.1600 - lr: 1.0000e-04\n",
      "CPU times: user 32min 3s, sys: 4min 9s, total: 36min 12s\n",
      "Wall time: 29min 30s\n"
     ]
    }
   ],
   "source": [
    "%%time\n",
    "reduce =tf. keras.callbacks.ReduceLROnPlateau(monitor='val_loss', factor=0.1, patience=10, mode='auto')\n",
    "#early = tf.keras.callbacks.EarlyStopping(monitor='val_loss', min_delta=1e-4, patience=10, mode='auto')\n",
    "heavyModel.compile(optimizer='rmsprop',loss='sparse_categorical_crossentropy',metrics=['accuracy'])\n",
    "history1=heavyModel.fit_generator(\n",
    "  training_set,\n",
    "  steps_per_epoch=int(12632/64),\n",
    "  epochs=20,\n",
    "  validation_data=test_set,\n",
    "  validation_steps=int(1402/64),\n",
    "  callbacks=[reduce],\n",
    "  verbose=1\n",
    ")"
   ]
  },
  {
   "cell_type": "code",
   "execution_count": 7,
   "metadata": {
    "pycharm": {
     "name": "#%%\n"
    }
   },
   "outputs": [
    {
     "name": "stderr",
     "output_type": "stream",
     "text": [
      "/var/folders/ls/51zhgxrx7b3_91d8db097mlr0000gn/T/ipykernel_67943/3922487381.py:1: UserWarning: `Model.evaluate_generator` is deprecated and will be removed in a future version. Please use `Model.evaluate`, which supports generators.\n",
      "  accuracy=heavyModel.evaluate_generator(test_set, steps=len(test_set)//32, callbacks=[reduce],verbose=2)\n"
     ]
    },
    {
     "name": "stdout",
     "output_type": "stream",
     "text": [
      "8/8 - 1s - loss: 4.8120 - accuracy: 0.1543 - 727ms/epoch - 91ms/step\n",
      "Accuracy of the model on the test set:  0.154296875\n"
     ]
    }
   ],
   "source": [
    "accuracy=heavyModel.evaluate_generator(test_set, steps=len(test_set)//32, callbacks=[reduce],verbose=2)\n",
    "print('Accuracy of the model on the test set: ',accuracy[1])"
   ]
  }
 ],
 "metadata": {
  "kernelspec": {
   "display_name": "Python 3 (ipykernel)",
   "language": "python",
   "name": "python3"
  },
  "language_info": {
   "codemirror_mode": {
    "name": "ipython",
    "version": 3
   },
   "file_extension": ".py",
   "mimetype": "text/x-python",
   "name": "python",
   "nbconvert_exporter": "python",
   "pygments_lexer": "ipython3",
   "version": "3.10.5"
  }
 },
 "nbformat": 4,
 "nbformat_minor": 1
}

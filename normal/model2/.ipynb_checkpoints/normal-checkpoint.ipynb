{
 "cells": [
  {
   "cell_type": "code",
   "execution_count": 1,
   "metadata": {
    "collapsed": true,
    "pycharm": {
     "name": "#%%\n"
    }
   },
   "outputs": [],
   "source": [
    "import tensorflow as tf\n",
    "from keras import regularizers\n",
    "from keras.preprocessing.image import ImageDataGenerator"
   ]
  },
  {
   "cell_type": "code",
   "execution_count": 2,
   "metadata": {
    "pycharm": {
     "name": "#%%\n"
    }
   },
   "outputs": [],
   "source": [
    "train_path = '../archive/seg_train/'\n",
    "test_path = '../archive/seg_test'"
   ]
  },
  {
   "cell_type": "code",
   "execution_count": 3,
   "metadata": {
    "pycharm": {
     "name": "#%%\n"
    }
   },
   "outputs": [
    {
     "name": "stdout",
     "output_type": "stream",
     "text": [
      "Found 14034 images belonging to 6 classes.\n"
     ]
    }
   ],
   "source": [
    "train_datagen = ImageDataGenerator(rescale = 1./255.,\n",
    "                                   horizontal_flip=True,\n",
    "                                   shear_range=0.2,\n",
    "                                   zoom_range=0.2)\n",
    "training_set = train_datagen.flow_from_directory(train_path,\n",
    "                                                 target_size = (150, 150),\n",
    "                                                 batch_size=64,\n",
    "                                                 class_mode = 'sparse')"
   ]
  },
  {
   "cell_type": "code",
   "execution_count": 4,
   "metadata": {
    "pycharm": {
     "name": "#%%\n"
    }
   },
   "outputs": [
    {
     "name": "stdout",
     "output_type": "stream",
     "text": [
      "Found 3000 images belonging to 6 classes.\n"
     ]
    }
   ],
   "source": [
    "test_datagen = ImageDataGenerator(rescale = 1./255)\n",
    "test_set = test_datagen.flow_from_directory(test_path,\n",
    "                                            target_size = (150, 150),\n",
    "                                            batch_size=64,\n",
    "                                            class_mode = 'sparse')"
   ]
  },
  {
   "cell_type": "code",
   "execution_count": 5,
   "metadata": {
    "pycharm": {
     "name": "#%%\n"
    }
   },
   "outputs": [
    {
     "name": "stdout",
     "output_type": "stream",
     "text": [
      "Metal device set to: Apple M1\n"
     ]
    },
    {
     "name": "stderr",
     "output_type": "stream",
     "text": [
      "2022-08-22 21:33:51.273346: I tensorflow/core/common_runtime/pluggable_device/pluggable_device_factory.cc:305] Could not identify NUMA node of platform GPU ID 0, defaulting to 0. Your kernel may not have been built with NUMA support.\n",
      "2022-08-22 21:33:51.273511: I tensorflow/core/common_runtime/pluggable_device/pluggable_device_factory.cc:271] Created TensorFlow device (/job:localhost/replica:0/task:0/device:GPU:0 with 0 MB memory) -> physical PluggableDevice (device: 0, name: METAL, pci bus id: <undefined>)\n"
     ]
    }
   ],
   "source": [
    "heavyModel = tf.keras.models.Sequential([\n",
    "    tf.keras.layers.Conv2D(16,(3,3),activation='relu',input_shape=(150,150,3)),\n",
    "    tf.keras.layers.Conv2D(16,(3,3),activation='relu'),\n",
    "    tf.keras.layers.BatchNormalization(),\n",
    "    tf.keras.layers.MaxPooling2D(3,3),\n",
    "\n",
    "    tf.keras.layers.Conv2D(32,(3,3),activation='relu'),\n",
    "    tf.keras.layers.Conv2D(32,(3,3),activation='relu'),\n",
    "    tf.keras.layers.BatchNormalization(),\n",
    "    tf.keras.layers.MaxPooling2D(2,2),\n",
    "\n",
    "    tf.keras.layers.Conv2D(64,(3,3),activation='relu'),\n",
    "    tf.keras.layers.Conv2D(64,(3,3),activation='relu'),\n",
    "    tf.keras.layers.BatchNormalization(),\n",
    "    tf.keras.layers.MaxPooling2D(2,2),\n",
    "\n",
    "    tf.keras.layers.Conv2D(128,(3,3),activation='relu'),\n",
    "    tf.keras.layers.Conv2D(128,(3,3),activation='relu'),\n",
    "    tf.keras.layers.BatchNormalization(),\n",
    "\n",
    "    tf.keras.layers.Conv2D(256,(3,3),activation='relu',padding='same'),\n",
    "    tf.keras.layers.Conv2D(256,(3,3),activation='relu',padding='same'),\n",
    "    tf.keras.layers.BatchNormalization(),\n",
    "    tf.keras.layers.MaxPooling2D(2,2),\n",
    "    tf.keras.layers.Dropout(0.4),\n",
    "\n",
    "\n",
    "    tf.keras.layers.Flatten(),\n",
    "\n",
    "    tf.keras.layers.Dense(256,activation='relu'),\n",
    "    tf.keras.layers.BatchNormalization(),\n",
    "    tf.keras.layers.Dense(128,activation='relu', ),\n",
    "    tf.keras.layers.BatchNormalization(),\n",
    "    tf.keras.layers.Dropout(0.25),\n",
    "    tf.keras.layers.Dense(64,activation='relu'),\n",
    "    tf.keras.layers.BatchNormalization(),\n",
    "    tf.keras.layers.Dropout(0.25),\n",
    "    tf.keras.layers.Dense(32,activation='relu'),\n",
    "    tf.keras.layers.BatchNormalization(),\n",
    "    tf.keras.layers.Dropout(0.25),\n",
    "    tf.keras.layers.Dense(16,activation='relu'),\n",
    "    tf.keras.layers.BatchNormalization(),\n",
    "    tf.keras.layers.Dropout(0.4),\n",
    "\n",
    "    tf.keras.layers.Dense(6,activation='softmax')\n",
    "])\n"
   ]
  },
  {
   "cell_type": "code",
   "execution_count": 6,
   "metadata": {
    "pycharm": {
     "name": "#%%\n"
    }
   },
   "outputs": [
    {
     "name": "stderr",
     "output_type": "stream",
     "text": [
      "<timed exec>:4: UserWarning: `Model.fit_generator` is deprecated and will be removed in a future version. Please use `Model.fit`, which supports generators.\n"
     ]
    },
    {
     "name": "stdout",
     "output_type": "stream",
     "text": [
      "Epoch 1/20\n"
     ]
    },
    {
     "name": "stderr",
     "output_type": "stream",
     "text": [
      "2022-08-22 21:33:51.921284: W tensorflow/core/platform/profile_utils/cpu_utils.cc:128] Failed to get CPU frequency: 0 Hz\n",
      "2022-08-22 21:33:53.819054: I tensorflow/core/grappler/optimizers/custom_graph_optimizer_registry.cc:113] Plugin optimizer for device_type GPU is enabled.\n"
     ]
    },
    {
     "name": "stdout",
     "output_type": "stream",
     "text": [
      "197/197 [==============================] - ETA: 0s - loss: 1.7524 - accuracy: 0.3309"
     ]
    },
    {
     "name": "stderr",
     "output_type": "stream",
     "text": [
      "2022-08-22 21:35:18.710787: I tensorflow/core/grappler/optimizers/custom_graph_optimizer_registry.cc:113] Plugin optimizer for device_type GPU is enabled.\n"
     ]
    },
    {
     "name": "stdout",
     "output_type": "stream",
     "text": [
      "197/197 [==============================] - 89s 432ms/step - loss: 1.7524 - accuracy: 0.3309 - val_loss: 2.0282 - val_accuracy: 0.1972 - lr: 0.0010\n",
      "Epoch 2/20\n",
      "197/197 [==============================] - 85s 432ms/step - loss: 1.1649 - accuracy: 0.5433 - val_loss: 1.8423 - val_accuracy: 0.4219 - lr: 0.0010\n",
      "Epoch 3/20\n",
      "197/197 [==============================] - 85s 429ms/step - loss: 0.9390 - accuracy: 0.6695 - val_loss: 1.0403 - val_accuracy: 0.6057 - lr: 0.0010\n",
      "Epoch 4/20\n",
      "197/197 [==============================] - 87s 440ms/step - loss: 0.8083 - accuracy: 0.7281 - val_loss: 0.9947 - val_accuracy: 0.6391 - lr: 0.0010\n",
      "Epoch 5/20\n",
      "197/197 [==============================] - 68s 345ms/step - loss: 0.7343 - accuracy: 0.7590 - val_loss: 0.8610 - val_accuracy: 0.7150 - lr: 0.0010\n",
      "Epoch 6/20\n",
      "197/197 [==============================] - 72s 365ms/step - loss: 0.6839 - accuracy: 0.7765 - val_loss: 1.3417 - val_accuracy: 0.5580 - lr: 0.0010\n",
      "Epoch 7/20\n",
      "197/197 [==============================] - 85s 430ms/step - loss: 0.6317 - accuracy: 0.7929 - val_loss: 0.9145 - val_accuracy: 0.6823 - lr: 0.0010\n",
      "Epoch 8/20\n",
      "197/197 [==============================] - 86s 436ms/step - loss: 0.6053 - accuracy: 0.7992 - val_loss: 0.8040 - val_accuracy: 0.7121 - lr: 0.0010\n",
      "Epoch 9/20\n",
      "197/197 [==============================] - 86s 435ms/step - loss: 0.5784 - accuracy: 0.8089 - val_loss: 1.1041 - val_accuracy: 0.6510 - lr: 0.0010\n",
      "Epoch 10/20\n",
      "197/197 [==============================] - 85s 433ms/step - loss: 0.5584 - accuracy: 0.8198 - val_loss: 0.9097 - val_accuracy: 0.6853 - lr: 0.0010\n",
      "Epoch 11/20\n",
      "197/197 [==============================] - 86s 434ms/step - loss: 0.5387 - accuracy: 0.8290 - val_loss: 0.7412 - val_accuracy: 0.7374 - lr: 0.0010\n",
      "Epoch 12/20\n",
      "197/197 [==============================] - 86s 435ms/step - loss: 0.5225 - accuracy: 0.8282 - val_loss: 0.5710 - val_accuracy: 0.8140 - lr: 0.0010\n",
      "Epoch 13/20\n",
      "197/197 [==============================] - 86s 437ms/step - loss: 0.4953 - accuracy: 0.8398 - val_loss: 0.4368 - val_accuracy: 0.8504 - lr: 0.0010\n",
      "Epoch 14/20\n",
      "197/197 [==============================] - 75s 383ms/step - loss: 0.4970 - accuracy: 0.8378 - val_loss: 0.6012 - val_accuracy: 0.7999 - lr: 0.0010\n",
      "Epoch 15/20\n",
      "197/197 [==============================] - 77s 391ms/step - loss: 0.4898 - accuracy: 0.8437 - val_loss: 0.5340 - val_accuracy: 0.8229 - lr: 0.0010\n",
      "Epoch 16/20\n",
      "197/197 [==============================] - 86s 437ms/step - loss: 0.4722 - accuracy: 0.8482 - val_loss: 0.4968 - val_accuracy: 0.8356 - lr: 0.0010\n",
      "Epoch 17/20\n",
      "197/197 [==============================] - 86s 436ms/step - loss: 0.4539 - accuracy: 0.8551 - val_loss: 0.5875 - val_accuracy: 0.7842 - lr: 0.0010\n",
      "Epoch 18/20\n",
      "197/197 [==============================] - 86s 435ms/step - loss: 0.4480 - accuracy: 0.8535 - val_loss: 0.4605 - val_accuracy: 0.8363 - lr: 0.0010\n",
      "Epoch 19/20\n",
      "197/197 [==============================] - 85s 431ms/step - loss: 0.4232 - accuracy: 0.8669 - val_loss: 0.6798 - val_accuracy: 0.7426 - lr: 0.0010\n",
      "Epoch 20/20\n",
      "197/197 [==============================] - 86s 436ms/step - loss: 0.4283 - accuracy: 0.8610 - val_loss: 0.4795 - val_accuracy: 0.8274 - lr: 0.0010\n",
      "CPU times: user 30min 7s, sys: 4min 2s, total: 34min 9s\n",
      "Wall time: 27min 45s\n"
     ]
    }
   ],
   "source": [
    "%%time\n",
    "reduce =tf. keras.callbacks.ReduceLROnPlateau(monitor='val_loss', factor=0.1, patience=10, mode='auto')\n",
    "#early = tf.keras.callbacks.EarlyStopping(monitor='val_loss', min_delta=1e-4, patience=10, mode='auto')\n",
    "heavyModel.compile(optimizer='rmsprop',loss='sparse_categorical_crossentropy',metrics=['accuracy'])\n",
    "history1=heavyModel.fit_generator(\n",
    "  training_set,\n",
    "  steps_per_epoch=int(12632/64),\n",
    "  epochs=20,\n",
    "  validation_data=test_set,\n",
    "  validation_steps=int(1402/64),\n",
    "  callbacks=[reduce],\n",
    "  verbose=1\n",
    ")"
   ]
  },
  {
   "cell_type": "code",
   "execution_count": 7,
   "metadata": {
    "pycharm": {
     "name": "#%%\n"
    }
   },
   "outputs": [
    {
     "name": "stderr",
     "output_type": "stream",
     "text": [
      "/var/folders/ls/51zhgxrx7b3_91d8db097mlr0000gn/T/ipykernel_64120/3922487381.py:1: UserWarning: `Model.evaluate_generator` is deprecated and will be removed in a future version. Please use `Model.evaluate`, which supports generators.\n",
      "  accuracy=heavyModel.evaluate_generator(test_set, steps=len(test_set)//32, callbacks=[reduce],verbose=2)\n"
     ]
    },
    {
     "name": "stdout",
     "output_type": "stream",
     "text": [
      "1/1 - 0s - loss: 0.5360 - accuracy: 0.7969 - 117ms/epoch - 117ms/step\n",
      "Accuracy of the model on the test set:  0.796875\n"
     ]
    }
   ],
   "source": [
    "accuracy=heavyModel.evaluate_generator(test_set, steps=len(test_set)//32, callbacks=[reduce],verbose=2)\n",
    "print('Accuracy of the model on the test set: ',accuracy[1])"
   ]
  }
 ],
 "metadata": {
  "kernelspec": {
   "display_name": "Python 3 (ipykernel)",
   "language": "python",
   "name": "python3"
  },
  "language_info": {
   "codemirror_mode": {
    "name": "ipython",
    "version": 3
   },
   "file_extension": ".py",
   "mimetype": "text/x-python",
   "name": "python",
   "nbconvert_exporter": "python",
   "pygments_lexer": "ipython3",
   "version": "3.10.5"
  }
 },
 "nbformat": 4,
 "nbformat_minor": 1
}

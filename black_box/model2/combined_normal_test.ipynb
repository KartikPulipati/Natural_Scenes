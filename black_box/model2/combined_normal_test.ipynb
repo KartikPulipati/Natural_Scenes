{
 "cells": [
  {
   "cell_type": "code",
   "execution_count": 1,
   "outputs": [],
   "source": [
    "import numpy as np\n",
    "import tensorflow as tf\n",
    "from keras.preprocessing.image import ImageDataGenerator\n",
    "from keras.models import Sequential\n",
    "from keras.layers import Convolution2D, MaxPooling2D, Flatten, Dense, Dropout, BatchNormalizationV2"
   ],
   "metadata": {
    "collapsed": false,
    "pycharm": {
     "name": "#%%\n"
    }
   }
  },
  {
   "cell_type": "code",
   "execution_count": 2,
   "outputs": [],
   "source": [
    "train_path = '../data/black_box_combined/seg_train/'\n",
    "test_path = '../../normal/archive/seg_test/'"
   ],
   "metadata": {
    "collapsed": false,
    "pycharm": {
     "name": "#%%\n"
    }
   }
  },
  {
   "cell_type": "code",
   "execution_count": 3,
   "outputs": [
    {
     "name": "stdout",
     "output_type": "stream",
     "text": [
      "Found 28068 images belonging to 6 classes.\n"
     ]
    }
   ],
   "source": [
    "train_datagen = ImageDataGenerator(\n",
    "                    rescale = 1/255,\n",
    "                    shear_range = 0.2,\n",
    "                    zoom_range = 0.2,\n",
    "                    horizontal_flip = True,\n",
    "                    vertical_flip = False)\n",
    "training_set = train_datagen.flow_from_directory(train_path,\n",
    "                                                 target_size = (64, 64),\n",
    "                                                 class_mode = 'categorical')"
   ],
   "metadata": {
    "collapsed": false,
    "pycharm": {
     "name": "#%%\n"
    }
   }
  },
  {
   "cell_type": "code",
   "execution_count": 4,
   "outputs": [
    {
     "name": "stdout",
     "output_type": "stream",
     "text": [
      "Found 3000 images belonging to 6 classes.\n"
     ]
    }
   ],
   "source": [
    "test_datagen = ImageDataGenerator(rescale = 1/255)\n",
    "test_set = test_datagen.flow_from_directory(test_path,\n",
    "                                            target_size = (64, 64),\n",
    "                                            class_mode = 'categorical')"
   ],
   "metadata": {
    "collapsed": false,
    "pycharm": {
     "name": "#%%\n"
    }
   }
  },
  {
   "cell_type": "code",
   "execution_count": 5,
   "outputs": [
    {
     "name": "stdout",
     "output_type": "stream",
     "text": [
      "Metal device set to: Apple M1\n"
     ]
    },
    {
     "name": "stderr",
     "output_type": "stream",
     "text": [
      "2022-08-29 22:50:49.895277: I tensorflow/core/common_runtime/pluggable_device/pluggable_device_factory.cc:305] Could not identify NUMA node of platform GPU ID 0, defaulting to 0. Your kernel may not have been built with NUMA support.\n",
      "2022-08-29 22:50:49.895429: I tensorflow/core/common_runtime/pluggable_device/pluggable_device_factory.cc:271] Created TensorFlow device (/job:localhost/replica:0/task:0/device:GPU:0 with 0 MB memory) -> physical PluggableDevice (device: 0, name: METAL, pci bus id: <undefined>)\n"
     ]
    },
    {
     "data": {
      "text/plain": "<keras.engine.sequential.Sequential at 0x169d0cdf0>"
     },
     "execution_count": 5,
     "metadata": {},
     "output_type": "execute_result"
    }
   ],
   "source": [
    "cnn = Sequential()\n",
    "cnn"
   ],
   "metadata": {
    "collapsed": false,
    "pycharm": {
     "name": "#%%\n"
    }
   }
  },
  {
   "cell_type": "code",
   "execution_count": 6,
   "outputs": [],
   "source": [
    "cnn.add(Convolution2D(filters=32, kernel_size=3, activation='relu'))\n",
    "cnn.add(BatchNormalizationV2())\n",
    "cnn.add(MaxPooling2D(pool_size=(2,2)))\n",
    "\n",
    "cnn.add(Convolution2D(filters=64, kernel_size=3, activation='relu'))\n",
    "cnn.add(BatchNormalizationV2())\n",
    "cnn.add(MaxPooling2D(pool_size=(2,2)))\n",
    "\n",
    "cnn.add(Convolution2D(filters=128, kernel_size=3, activation='relu'))\n",
    "cnn.add(BatchNormalizationV2())\n",
    "cnn.add(MaxPooling2D(pool_size=(2,2)))\n",
    "\n",
    "cnn.add(Convolution2D(filters=256, kernel_size=3, activation='relu'))\n",
    "cnn.add(BatchNormalizationV2())\n",
    "cnn.add(MaxPooling2D(pool_size=(2,2)))\n",
    "\n",
    "cnn.add(Dropout(0.4)),\n",
    "\n",
    "cnn.add(Flatten())\n",
    "\n",
    "cnn.add(Dense(units=256, activation='relu'))\n",
    "cnn.add(BatchNormalizationV2())\n",
    "cnn.add(Dropout(0.25))\n",
    "\n",
    "cnn.add(Dense(units=128, activation='relu'))\n",
    "cnn.add(BatchNormalizationV2())\n",
    "cnn.add(Dropout(0.25))\n",
    "\n",
    "cnn.add(Dense(units=64, activation='relu'))\n",
    "cnn.add(BatchNormalizationV2())\n",
    "cnn.add(Dropout(0.25))\n",
    "\n",
    "cnn.add(Dense(units=24, activation='relu'))\n",
    "cnn.add(BatchNormalizationV2())\n",
    "cnn.add(Dropout(0.25))\n",
    "\n",
    "cnn.add(Dense(units=6, activation='softmax'))"
   ],
   "metadata": {
    "collapsed": false,
    "pycharm": {
     "name": "#%%\n"
    }
   }
  },
  {
   "cell_type": "code",
   "execution_count": 7,
   "outputs": [],
   "source": [
    "cnn.compile(optimizer = 'sgd', loss = 'categorical_crossentropy', metrics = ['accuracy'])"
   ],
   "metadata": {
    "collapsed": false,
    "pycharm": {
     "name": "#%%\n"
    }
   }
  },
  {
   "cell_type": "code",
   "execution_count": 8,
   "outputs": [
    {
     "name": "stdout",
     "output_type": "stream",
     "text": [
      "Epoch 1/10\n"
     ]
    },
    {
     "name": "stderr",
     "output_type": "stream",
     "text": [
      "2022-08-29 22:50:50.510181: W tensorflow/core/platform/profile_utils/cpu_utils.cc:128] Failed to get CPU frequency: 0 Hz\n",
      "2022-08-29 22:50:51.534544: I tensorflow/core/grappler/optimizers/custom_graph_optimizer_registry.cc:113] Plugin optimizer for device_type GPU is enabled.\n"
     ]
    },
    {
     "name": "stdout",
     "output_type": "stream",
     "text": [
      "878/878 [==============================] - ETA: 0s - loss: 1.3669 - accuracy: 0.4655"
     ]
    },
    {
     "name": "stderr",
     "output_type": "stream",
     "text": [
      "2022-08-29 22:51:58.637590: I tensorflow/core/grappler/optimizers/custom_graph_optimizer_registry.cc:113] Plugin optimizer for device_type GPU is enabled.\n"
     ]
    },
    {
     "name": "stdout",
     "output_type": "stream",
     "text": [
      "878/878 [==============================] - 71s 79ms/step - loss: 1.3669 - accuracy: 0.4655 - val_loss: 1.1368 - val_accuracy: 0.5443\n",
      "Epoch 2/10\n",
      "878/878 [==============================] - 70s 80ms/step - loss: 1.0378 - accuracy: 0.5975 - val_loss: 0.8208 - val_accuracy: 0.6833\n",
      "Epoch 3/10\n",
      "878/878 [==============================] - 81s 93ms/step - loss: 1.0372 - accuracy: 0.6041 - val_loss: 0.9136 - val_accuracy: 0.6450\n",
      "Epoch 4/10\n",
      "878/878 [==============================] - 87s 98ms/step - loss: 0.9223 - accuracy: 0.6542 - val_loss: 0.9891 - val_accuracy: 0.6040\n",
      "Epoch 5/10\n",
      "878/878 [==============================] - 72s 81ms/step - loss: 0.8756 - accuracy: 0.6790 - val_loss: 0.9304 - val_accuracy: 0.6593\n",
      "Epoch 6/10\n",
      "878/878 [==============================] - 74s 85ms/step - loss: 0.7822 - accuracy: 0.7195 - val_loss: 0.8937 - val_accuracy: 0.6713\n",
      "Epoch 7/10\n",
      "878/878 [==============================] - 80s 91ms/step - loss: 0.9725 - accuracy: 0.6380 - val_loss: 1.0725 - val_accuracy: 0.6463\n",
      "Epoch 8/10\n",
      "878/878 [==============================] - 64s 73ms/step - loss: 0.8111 - accuracy: 0.7020 - val_loss: 0.7369 - val_accuracy: 0.7423\n",
      "Epoch 9/10\n",
      "878/878 [==============================] - 58s 67ms/step - loss: 0.7556 - accuracy: 0.7261 - val_loss: 0.6423 - val_accuracy: 0.7683\n",
      "Epoch 10/10\n",
      "878/878 [==============================] - 62s 71ms/step - loss: 0.7231 - accuracy: 0.7427 - val_loss: 1.1187 - val_accuracy: 0.6310\n",
      "CPU times: user 15min 48s, sys: 2min 48s, total: 18min 37s\n",
      "Wall time: 12min\n"
     ]
    },
    {
     "data": {
      "text/plain": "<keras.callbacks.History at 0x286501240>"
     },
     "execution_count": 8,
     "metadata": {},
     "output_type": "execute_result"
    }
   ],
   "source": [
    "%%time\n",
    "cnn.fit(training_set, steps_per_epoch= len(training_set), validation_data = test_set, validation_steps=len(test_set), epochs = 10)"
   ],
   "metadata": {
    "collapsed": false,
    "pycharm": {
     "name": "#%%\n"
    }
   }
  },
  {
   "cell_type": "code",
   "execution_count": 9,
   "outputs": [
    {
     "name": "stdout",
     "output_type": "stream",
     "text": [
      "94/94 - 2s - loss: 1.1187 - accuracy: 0.6310 - 2s/epoch - 25ms/step\n",
      "Accuracy of the model on the test set:  0.6309999823570251\n"
     ]
    }
   ],
   "source": [
    "accuracy=cnn.evaluate(test_set, steps=len(test_set),verbose=2)\n",
    "print('Accuracy of the model on the test set: ',accuracy[1])"
   ],
   "metadata": {
    "collapsed": false,
    "pycharm": {
     "name": "#%%\n"
    }
   }
  }
 ],
 "metadata": {
  "kernelspec": {
   "display_name": "Python 3",
   "language": "python",
   "name": "python3"
  },
  "language_info": {
   "codemirror_mode": {
    "name": "ipython",
    "version": 2
   },
   "file_extension": ".py",
   "mimetype": "text/x-python",
   "name": "python",
   "nbconvert_exporter": "python",
   "pygments_lexer": "ipython2",
   "version": "2.7.6"
  }
 },
 "nbformat": 4,
 "nbformat_minor": 0
}
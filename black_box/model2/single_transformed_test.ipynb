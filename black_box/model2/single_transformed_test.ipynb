{
 "cells": [
  {
   "cell_type": "code",
   "execution_count": 11,
   "outputs": [],
   "source": [
    "import numpy as np\n",
    "import tensorflow as tf\n",
    "from keras.preprocessing.image import ImageDataGenerator\n",
    "from keras.models import Sequential\n",
    "from keras.layers import Convolution2D, MaxPooling2D, Flatten, Dense, Dropout, BatchNormalizationV2"
   ],
   "metadata": {
    "collapsed": false,
    "pycharm": {
     "name": "#%%\n"
    }
   }
  },
  {
   "cell_type": "code",
   "execution_count": 12,
   "outputs": [],
   "source": [
    "train_path = '../data/black_box_single/seg_train/'\n",
    "test_path = '../data/black_box_single/seg_test/'"
   ],
   "metadata": {
    "collapsed": false,
    "pycharm": {
     "name": "#%%\n"
    }
   }
  },
  {
   "cell_type": "code",
   "execution_count": 13,
   "outputs": [
    {
     "name": "stdout",
     "output_type": "stream",
     "text": [
      "Found 14034 images belonging to 6 classes.\n"
     ]
    }
   ],
   "source": [
    "train_datagen = ImageDataGenerator(\n",
    "                    rescale = 1/255,\n",
    "                    shear_range = 0.2,\n",
    "                    zoom_range = 0.2,\n",
    "                    horizontal_flip = True,\n",
    "                    vertical_flip = False)\n",
    "training_set = train_datagen.flow_from_directory(train_path,\n",
    "                                                 target_size = (64, 64),\n",
    "                                                 class_mode = 'categorical')"
   ],
   "metadata": {
    "collapsed": false,
    "pycharm": {
     "name": "#%%\n"
    }
   }
  },
  {
   "cell_type": "code",
   "execution_count": 14,
   "outputs": [
    {
     "name": "stdout",
     "output_type": "stream",
     "text": [
      "Found 3000 images belonging to 6 classes.\n"
     ]
    }
   ],
   "source": [
    "test_datagen = ImageDataGenerator(rescale = 1/255)\n",
    "test_set = test_datagen.flow_from_directory(test_path,\n",
    "                                            target_size = (64, 64),\n",
    "                                            class_mode = 'categorical')"
   ],
   "metadata": {
    "collapsed": false,
    "pycharm": {
     "name": "#%%\n"
    }
   }
  },
  {
   "cell_type": "code",
   "execution_count": 15,
   "outputs": [
    {
     "data": {
      "text/plain": "<keras.engine.sequential.Sequential at 0x2c9abcc40>"
     },
     "execution_count": 15,
     "metadata": {},
     "output_type": "execute_result"
    }
   ],
   "source": [
    "cnn = Sequential()\n",
    "cnn"
   ],
   "metadata": {
    "collapsed": false,
    "pycharm": {
     "name": "#%%\n"
    }
   }
  },
  {
   "cell_type": "code",
   "execution_count": 16,
   "outputs": [],
   "source": [
    "cnn.add(Convolution2D(filters=32, kernel_size=3, activation='relu'))\n",
    "cnn.add(BatchNormalizationV2())\n",
    "cnn.add(MaxPooling2D(pool_size=(2,2)))\n",
    "\n",
    "cnn.add(Convolution2D(filters=64, kernel_size=3, activation='relu'))\n",
    "cnn.add(BatchNormalizationV2())\n",
    "cnn.add(MaxPooling2D(pool_size=(2,2)))\n",
    "\n",
    "cnn.add(Convolution2D(filters=128, kernel_size=3, activation='relu'))\n",
    "cnn.add(BatchNormalizationV2())\n",
    "cnn.add(MaxPooling2D(pool_size=(2,2)))\n",
    "\n",
    "cnn.add(Convolution2D(filters=256, kernel_size=3, activation='relu'))\n",
    "cnn.add(BatchNormalizationV2())\n",
    "cnn.add(MaxPooling2D(pool_size=(2,2)))\n",
    "\n",
    "cnn.add(Dropout(0.4)),\n",
    "\n",
    "cnn.add(Flatten())\n",
    "\n",
    "cnn.add(Dense(units=256, activation='relu'))\n",
    "cnn.add(BatchNormalizationV2())\n",
    "cnn.add(Dropout(0.25))\n",
    "\n",
    "cnn.add(Dense(units=128, activation='relu'))\n",
    "cnn.add(BatchNormalizationV2())\n",
    "cnn.add(Dropout(0.25))\n",
    "\n",
    "cnn.add(Dense(units=64, activation='relu'))\n",
    "cnn.add(BatchNormalizationV2())\n",
    "cnn.add(Dropout(0.25))\n",
    "\n",
    "cnn.add(Dense(units=24, activation='relu'))\n",
    "cnn.add(BatchNormalizationV2())\n",
    "cnn.add(Dropout(0.25))\n",
    "\n",
    "cnn.add(Dense(units=6, activation='softmax'))"
   ],
   "metadata": {
    "collapsed": false,
    "pycharm": {
     "name": "#%%\n"
    }
   }
  },
  {
   "cell_type": "code",
   "execution_count": 17,
   "outputs": [],
   "source": [
    "cnn.compile(optimizer = 'sgd', loss = 'categorical_crossentropy', metrics = ['accuracy'])"
   ],
   "metadata": {
    "collapsed": false,
    "pycharm": {
     "name": "#%%\n"
    }
   }
  },
  {
   "cell_type": "code",
   "execution_count": 18,
   "outputs": [
    {
     "name": "stdout",
     "output_type": "stream",
     "text": [
      "Epoch 1/10\n"
     ]
    },
    {
     "name": "stderr",
     "output_type": "stream",
     "text": [
      "2022-08-30 14:42:15.762609: I tensorflow/core/grappler/optimizers/custom_graph_optimizer_registry.cc:113] Plugin optimizer for device_type GPU is enabled.\n"
     ]
    },
    {
     "name": "stdout",
     "output_type": "stream",
     "text": [
      "439/439 [==============================] - ETA: 0s - loss: 1.6051 - accuracy: 0.3845"
     ]
    },
    {
     "name": "stderr",
     "output_type": "stream",
     "text": [
      "2022-08-30 14:42:45.585891: I tensorflow/core/grappler/optimizers/custom_graph_optimizer_registry.cc:113] Plugin optimizer for device_type GPU is enabled.\n"
     ]
    },
    {
     "name": "stdout",
     "output_type": "stream",
     "text": [
      "439/439 [==============================] - 34s 74ms/step - loss: 1.6051 - accuracy: 0.3845 - val_loss: 1.2672 - val_accuracy: 0.4823\n",
      "Epoch 2/10\n",
      "439/439 [==============================] - 30s 69ms/step - loss: 1.2029 - accuracy: 0.5237 - val_loss: 1.2765 - val_accuracy: 0.4940\n",
      "Epoch 3/10\n",
      "439/439 [==============================] - 31s 71ms/step - loss: 1.0797 - accuracy: 0.5799 - val_loss: 1.1247 - val_accuracy: 0.5653\n",
      "Epoch 4/10\n",
      "439/439 [==============================] - 29s 67ms/step - loss: 1.0023 - accuracy: 0.6142 - val_loss: 0.8779 - val_accuracy: 0.6677\n",
      "Epoch 5/10\n",
      "439/439 [==============================] - 30s 68ms/step - loss: 0.9448 - accuracy: 0.6429 - val_loss: 0.8187 - val_accuracy: 0.6967\n",
      "Epoch 6/10\n",
      "439/439 [==============================] - 31s 71ms/step - loss: 0.9067 - accuracy: 0.6598 - val_loss: 0.9511 - val_accuracy: 0.6420\n",
      "Epoch 7/10\n",
      "439/439 [==============================] - 34s 77ms/step - loss: 0.8625 - accuracy: 0.6768 - val_loss: 0.8672 - val_accuracy: 0.6537\n",
      "Epoch 8/10\n",
      "439/439 [==============================] - 35s 80ms/step - loss: 0.8330 - accuracy: 0.6954 - val_loss: 0.9264 - val_accuracy: 0.6483\n",
      "Epoch 9/10\n",
      "439/439 [==============================] - 32s 73ms/step - loss: 0.7930 - accuracy: 0.7146 - val_loss: 1.0612 - val_accuracy: 0.6420\n",
      "Epoch 10/10\n",
      "439/439 [==============================] - 36s 82ms/step - loss: 0.7597 - accuracy: 0.7259 - val_loss: 0.7068 - val_accuracy: 0.7420\n",
      "CPU times: user 7min 6s, sys: 1min 15s, total: 8min 21s\n",
      "Wall time: 5min 22s\n"
     ]
    },
    {
     "data": {
      "text/plain": "<keras.callbacks.History at 0x2c9abc5e0>"
     },
     "execution_count": 18,
     "metadata": {},
     "output_type": "execute_result"
    }
   ],
   "source": [
    "%%time\n",
    "cnn.fit(training_set, steps_per_epoch= len(training_set), validation_data = test_set, validation_steps=len(test_set), epochs = 10)"
   ],
   "metadata": {
    "collapsed": false,
    "pycharm": {
     "name": "#%%\n"
    }
   }
  },
  {
   "cell_type": "code",
   "execution_count": 20,
   "outputs": [
    {
     "name": "stdout",
     "output_type": "stream",
     "text": [
      "94/94 - 3s - loss: 0.7068 - accuracy: 0.7420 - 3s/epoch - 32ms/step\n",
      "Accuracy of the model on the test set:  0.7419999837875366\n"
     ]
    }
   ],
   "source": [
    "accuracy=cnn.evaluate(test_set, steps=len(test_set),verbose=2)\n",
    "print('Accuracy of the model on the test set: ',accuracy[1])"
   ],
   "metadata": {
    "collapsed": false,
    "pycharm": {
     "name": "#%%\n"
    }
   }
  },
  {
   "cell_type": "code",
   "execution_count": null,
   "outputs": [],
   "source": [],
   "metadata": {
    "collapsed": false,
    "pycharm": {
     "name": "#%%\n"
    }
   }
  }
 ],
 "metadata": {
  "kernelspec": {
   "display_name": "Python 3",
   "language": "python",
   "name": "python3"
  },
  "language_info": {
   "codemirror_mode": {
    "name": "ipython",
    "version": 2
   },
   "file_extension": ".py",
   "mimetype": "text/x-python",
   "name": "python",
   "nbconvert_exporter": "python",
   "pygments_lexer": "ipython2",
   "version": "2.7.6"
  }
 },
 "nbformat": 4,
 "nbformat_minor": 0
}
{
 "cells": [
  {
   "cell_type": "code",
   "execution_count": 1,
   "outputs": [],
   "source": [
    "import numpy as np\n",
    "import tensorflow as tf\n",
    "from keras.preprocessing.image import ImageDataGenerator\n",
    "from keras.models import Sequential\n",
    "from keras.layers import Convolution2D, MaxPooling2D, Flatten, Dense, Dropout, BatchNormalizationV2"
   ],
   "metadata": {
    "collapsed": false,
    "pycharm": {
     "name": "#%%\n"
    }
   }
  },
  {
   "cell_type": "code",
   "execution_count": 2,
   "outputs": [],
   "source": [
    "train_path = '../data/black_box_combined/seg_train/'\n",
    "test_path = '../data/black_box_combined/seg_test/'"
   ],
   "metadata": {
    "collapsed": false,
    "pycharm": {
     "name": "#%%\n"
    }
   }
  },
  {
   "cell_type": "code",
   "execution_count": 3,
   "outputs": [
    {
     "name": "stdout",
     "output_type": "stream",
     "text": [
      "Found 28068 images belonging to 6 classes.\n"
     ]
    }
   ],
   "source": [
    "train_datagen = ImageDataGenerator(\n",
    "                    rescale = 1/255,\n",
    "                    shear_range = 0.2,\n",
    "                    zoom_range = 0.2,\n",
    "                    horizontal_flip = True,\n",
    "                    vertical_flip = False)\n",
    "training_set = train_datagen.flow_from_directory(train_path,\n",
    "                                                   target_size = (64, 64),\n",
    "                                                 class_mode = 'categorical')"
   ],
   "metadata": {
    "collapsed": false,
    "pycharm": {
     "name": "#%%\n"
    }
   }
  },
  {
   "cell_type": "code",
   "execution_count": 4,
   "outputs": [
    {
     "name": "stdout",
     "output_type": "stream",
     "text": [
      "Found 6000 images belonging to 6 classes.\n"
     ]
    }
   ],
   "source": [
    "test_datagen = ImageDataGenerator(rescale = 1/255)\n",
    "test_set = test_datagen.flow_from_directory(test_path,\n",
    "                                            target_size = (64, 64),\n",
    "                                            class_mode = 'categorical')"
   ],
   "metadata": {
    "collapsed": false,
    "pycharm": {
     "name": "#%%\n"
    }
   }
  },
  {
   "cell_type": "code",
   "execution_count": 5,
   "outputs": [
    {
     "name": "stdout",
     "output_type": "stream",
     "text": [
      "Metal device set to: Apple M1\n"
     ]
    },
    {
     "name": "stderr",
     "output_type": "stream",
     "text": [
      "2022-08-29 18:57:25.106800: I tensorflow/core/common_runtime/pluggable_device/pluggable_device_factory.cc:305] Could not identify NUMA node of platform GPU ID 0, defaulting to 0. Your kernel may not have been built with NUMA support.\n",
      "2022-08-29 18:57:25.106988: I tensorflow/core/common_runtime/pluggable_device/pluggable_device_factory.cc:271] Created TensorFlow device (/job:localhost/replica:0/task:0/device:GPU:0 with 0 MB memory) -> physical PluggableDevice (device: 0, name: METAL, pci bus id: <undefined>)\n"
     ]
    },
    {
     "data": {
      "text/plain": "<keras.engine.sequential.Sequential at 0x13c41eef0>"
     },
     "execution_count": 5,
     "metadata": {},
     "output_type": "execute_result"
    }
   ],
   "source": [
    "cnn = Sequential()\n",
    "cnn"
   ],
   "metadata": {
    "collapsed": false,
    "pycharm": {
     "name": "#%%\n"
    }
   }
  },
  {
   "cell_type": "code",
   "execution_count": 6,
   "outputs": [],
   "source": [
    "cnn.add(Convolution2D(filters=32, kernel_size=3, activation='relu'))\n",
    "cnn.add(BatchNormalizationV2())\n",
    "cnn.add(MaxPooling2D(pool_size=(2,2)))\n",
    "\n",
    "cnn.add(Convolution2D(filters=64, kernel_size=3, activation='relu'))\n",
    "cnn.add(BatchNormalizationV2())\n",
    "cnn.add(MaxPooling2D(pool_size=(2,2)))\n",
    "\n",
    "cnn.add(Convolution2D(filters=128, kernel_size=3, activation='relu'))\n",
    "cnn.add(BatchNormalizationV2())\n",
    "cnn.add(MaxPooling2D(pool_size=(2,2)))\n",
    "\n",
    "cnn.add(Convolution2D(filters=256, kernel_size=3, activation='relu'))\n",
    "cnn.add(BatchNormalizationV2())\n",
    "cnn.add(MaxPooling2D(pool_size=(2,2)))\n",
    "\n",
    "cnn.add(Dropout(0.4)),\n",
    "\n",
    "cnn.add(Flatten())\n",
    "\n",
    "cnn.add(Dense(units=256, activation='relu'))\n",
    "cnn.add(BatchNormalizationV2())\n",
    "cnn.add(Dropout(0.25))\n",
    "\n",
    "cnn.add(Dense(units=128, activation='relu'))\n",
    "cnn.add(BatchNormalizationV2())\n",
    "cnn.add(Dropout(0.25))\n",
    "\n",
    "cnn.add(Dense(units=64, activation='relu'))\n",
    "cnn.add(BatchNormalizationV2())\n",
    "cnn.add(Dropout(0.25))\n",
    "\n",
    "cnn.add(Dense(units=24, activation='relu'))\n",
    "cnn.add(BatchNormalizationV2())\n",
    "cnn.add(Dropout(0.25))\n",
    "\n",
    "cnn.add(Dense(units=6, activation='softmax'))"
   ],
   "metadata": {
    "collapsed": false,
    "pycharm": {
     "name": "#%%\n"
    }
   }
  },
  {
   "cell_type": "code",
   "execution_count": 7,
   "outputs": [],
   "source": [
    "cnn.compile(optimizer = 'sgd', loss = 'categorical_crossentropy', metrics = ['accuracy'])"
   ],
   "metadata": {
    "collapsed": false,
    "pycharm": {
     "name": "#%%\n"
    }
   }
  },
  {
   "cell_type": "code",
   "execution_count": 8,
   "outputs": [
    {
     "name": "stdout",
     "output_type": "stream",
     "text": [
      "Epoch 1/17\n"
     ]
    },
    {
     "name": "stderr",
     "output_type": "stream",
     "text": [
      "2022-08-29 18:57:25.560657: W tensorflow/core/platform/profile_utils/cpu_utils.cc:128] Failed to get CPU frequency: 0 Hz\n",
      "2022-08-29 18:57:26.530306: I tensorflow/core/grappler/optimizers/custom_graph_optimizer_registry.cc:113] Plugin optimizer for device_type GPU is enabled.\n"
     ]
    },
    {
     "name": "stdout",
     "output_type": "stream",
     "text": [
      "878/878 [==============================] - ETA: 0s - loss: 1.3515 - accuracy: 0.4709"
     ]
    },
    {
     "name": "stderr",
     "output_type": "stream",
     "text": [
      "2022-08-29 18:58:20.091126: I tensorflow/core/grappler/optimizers/custom_graph_optimizer_registry.cc:113] Plugin optimizer for device_type GPU is enabled.\n"
     ]
    },
    {
     "name": "stdout",
     "output_type": "stream",
     "text": [
      "878/878 [==============================] - 59s 65ms/step - loss: 1.3515 - accuracy: 0.4709 - val_loss: 1.1412 - val_accuracy: 0.5552\n",
      "Epoch 2/17\n",
      "878/878 [==============================] - 57s 65ms/step - loss: 1.0199 - accuracy: 0.6073 - val_loss: 0.9817 - val_accuracy: 0.6237\n",
      "Epoch 3/17\n",
      "878/878 [==============================] - 59s 68ms/step - loss: 0.8950 - accuracy: 0.6704 - val_loss: 0.8816 - val_accuracy: 0.6485\n",
      "Epoch 4/17\n",
      "878/878 [==============================] - 62s 70ms/step - loss: 0.8111 - accuracy: 0.7081 - val_loss: 0.8377 - val_accuracy: 0.6935\n",
      "Epoch 5/17\n",
      "878/878 [==============================] - 62s 70ms/step - loss: 0.7534 - accuracy: 0.7293 - val_loss: 0.8049 - val_accuracy: 0.7040\n",
      "Epoch 6/17\n",
      "878/878 [==============================] - 61s 69ms/step - loss: 0.7154 - accuracy: 0.7454 - val_loss: 0.7848 - val_accuracy: 0.7125\n",
      "Epoch 7/17\n",
      "878/878 [==============================] - 61s 70ms/step - loss: 0.6842 - accuracy: 0.7539 - val_loss: 0.7540 - val_accuracy: 0.7207\n",
      "Epoch 8/17\n",
      "878/878 [==============================] - 60s 69ms/step - loss: 0.6617 - accuracy: 0.7640 - val_loss: 0.6526 - val_accuracy: 0.7692\n",
      "Epoch 9/17\n",
      "878/878 [==============================] - 63s 72ms/step - loss: 0.6417 - accuracy: 0.7732 - val_loss: 1.2866 - val_accuracy: 0.5387\n",
      "Epoch 10/17\n",
      "878/878 [==============================] - 61s 70ms/step - loss: 0.6512 - accuracy: 0.7677 - val_loss: 0.8116 - val_accuracy: 0.6915\n",
      "Epoch 11/17\n",
      "878/878 [==============================] - 62s 71ms/step - loss: 0.6307 - accuracy: 0.7783 - val_loss: 0.5636 - val_accuracy: 0.8070\n",
      "Epoch 12/17\n",
      "878/878 [==============================] - 61s 70ms/step - loss: 0.5907 - accuracy: 0.7904 - val_loss: 0.5543 - val_accuracy: 0.8097\n",
      "Epoch 13/17\n",
      "878/878 [==============================] - 63s 72ms/step - loss: 0.5659 - accuracy: 0.7996 - val_loss: 0.5530 - val_accuracy: 0.8012\n",
      "Epoch 14/17\n",
      "878/878 [==============================] - 61s 70ms/step - loss: 0.5524 - accuracy: 0.8055 - val_loss: 0.6459 - val_accuracy: 0.7737\n",
      "Epoch 15/17\n",
      "878/878 [==============================] - 65s 74ms/step - loss: 0.5475 - accuracy: 0.8073 - val_loss: 0.6249 - val_accuracy: 0.7717\n",
      "Epoch 16/17\n",
      "878/878 [==============================] - 62s 71ms/step - loss: 0.5347 - accuracy: 0.8104 - val_loss: 0.6013 - val_accuracy: 0.7947\n",
      "Epoch 17/17\n",
      "878/878 [==============================] - 64s 73ms/step - loss: 0.5165 - accuracy: 0.8184 - val_loss: 0.4678 - val_accuracy: 0.8385\n",
      "CPU times: user 22min 59s, sys: 4min 3s, total: 27min 2s\n",
      "Wall time: 17min 26s\n"
     ]
    },
    {
     "data": {
      "text/plain": "<keras.callbacks.History at 0x13ff6f640>"
     },
     "execution_count": 8,
     "metadata": {},
     "output_type": "execute_result"
    }
   ],
   "source": [
    "%%time\n",
    "cnn.fit(training_set, steps_per_epoch= len(training_set), validation_data = test_set, validation_steps=len(test_set), epochs = 10)"
   ],
   "metadata": {
    "collapsed": false,
    "pycharm": {
     "name": "#%%\n"
    }
   }
  },
  {
   "cell_type": "code",
   "execution_count": 9,
   "outputs": [
    {
     "name": "stdout",
     "output_type": "stream",
     "text": [
      "5/5 - 0s - loss: 0.4570 - accuracy: 0.8562 - 133ms/epoch - 27ms/step\n",
      "Accuracy of the model on the test set:  0.856249988079071\n"
     ]
    }
   ],
   "source": [
    "accuracy=cnn.evaluate(test_set, steps=len(test_set),verbose=2)\n",
    "print('Accuracy of the model on the test set: ',accuracy[1])"
   ],
   "metadata": {
    "collapsed": false,
    "pycharm": {
     "name": "#%%\n"
    }
   }
  }
 ],
 "metadata": {
  "kernelspec": {
   "display_name": "Python 3",
   "language": "python",
   "name": "python3"
  },
  "language_info": {
   "codemirror_mode": {
    "name": "ipython",
    "version": 2
   },
   "file_extension": ".py",
   "mimetype": "text/x-python",
   "name": "python",
   "nbconvert_exporter": "python",
   "pygments_lexer": "ipython2",
   "version": "2.7.6"
  }
 },
 "nbformat": 4,
 "nbformat_minor": 0
}
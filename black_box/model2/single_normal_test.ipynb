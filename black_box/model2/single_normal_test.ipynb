{
 "cells": [
  {
   "cell_type": "code",
   "execution_count": 1,
   "outputs": [],
   "source": [
    "import numpy as np\n",
    "import tensorflow as tf\n",
    "from keras.preprocessing.image import ImageDataGenerator\n",
    "from keras.models import Sequential\n",
    "from keras.layers import Convolution2D, MaxPooling2D, Flatten, Dense, Dropout, BatchNormalizationV2"
   ],
   "metadata": {
    "collapsed": false,
    "pycharm": {
     "name": "#%%\n"
    }
   }
  },
  {
   "cell_type": "code",
   "execution_count": 2,
   "outputs": [],
   "source": [
    "train_path = '../data/black_box_single/seg_train/'\n",
    "test_path = '../../normal/archive/seg_test/'"
   ],
   "metadata": {
    "collapsed": false,
    "pycharm": {
     "name": "#%%\n"
    }
   }
  },
  {
   "cell_type": "code",
   "execution_count": 3,
   "outputs": [
    {
     "name": "stdout",
     "output_type": "stream",
     "text": [
      "Found 14034 images belonging to 6 classes.\n"
     ]
    }
   ],
   "source": [
    "train_datagen = ImageDataGenerator(\n",
    "                    rescale = 1/255,\n",
    "                    shear_range = 0.2,\n",
    "                    zoom_range = 0.2,\n",
    "                    horizontal_flip = True,\n",
    "                    vertical_flip = False)\n",
    "training_set = train_datagen.flow_from_directory(train_path,\n",
    "                                                 target_size = (64, 64),\n",
    "                                                 class_mode = 'categorical')"
   ],
   "metadata": {
    "collapsed": false,
    "pycharm": {
     "name": "#%%\n"
    }
   }
  },
  {
   "cell_type": "code",
   "execution_count": 4,
   "outputs": [
    {
     "name": "stdout",
     "output_type": "stream",
     "text": [
      "Found 3000 images belonging to 6 classes.\n"
     ]
    }
   ],
   "source": [
    "test_datagen = ImageDataGenerator(rescale = 1/255)\n",
    "test_set = test_datagen.flow_from_directory(test_path,\n",
    "                                            target_size = (64, 64),\n",
    "                                            class_mode = 'categorical')"
   ],
   "metadata": {
    "collapsed": false,
    "pycharm": {
     "name": "#%%\n"
    }
   }
  },
  {
   "cell_type": "code",
   "execution_count": 5,
   "outputs": [
    {
     "name": "stdout",
     "output_type": "stream",
     "text": [
      "Metal device set to: Apple M1\n"
     ]
    },
    {
     "name": "stderr",
     "output_type": "stream",
     "text": [
      "2022-08-29 19:20:20.807428: I tensorflow/core/common_runtime/pluggable_device/pluggable_device_factory.cc:305] Could not identify NUMA node of platform GPU ID 0, defaulting to 0. Your kernel may not have been built with NUMA support.\n",
      "2022-08-29 19:20:20.807596: I tensorflow/core/common_runtime/pluggable_device/pluggable_device_factory.cc:271] Created TensorFlow device (/job:localhost/replica:0/task:0/device:GPU:0 with 0 MB memory) -> physical PluggableDevice (device: 0, name: METAL, pci bus id: <undefined>)\n"
     ]
    },
    {
     "data": {
      "text/plain": "<keras.engine.sequential.Sequential at 0x17ee27c70>"
     },
     "execution_count": 5,
     "metadata": {},
     "output_type": "execute_result"
    }
   ],
   "source": [
    "cnn = Sequential()\n",
    "cnn"
   ],
   "metadata": {
    "collapsed": false,
    "pycharm": {
     "name": "#%%\n"
    }
   }
  },
  {
   "cell_type": "code",
   "execution_count": 6,
   "outputs": [],
   "source": [
    "cnn.add(Convolution2D(filters=32, kernel_size=3, activation='relu'))\n",
    "cnn.add(BatchNormalizationV2())\n",
    "cnn.add(MaxPooling2D(pool_size=(2,2)))\n",
    "\n",
    "cnn.add(Convolution2D(filters=64, kernel_size=3, activation='relu'))\n",
    "cnn.add(BatchNormalizationV2())\n",
    "cnn.add(MaxPooling2D(pool_size=(2,2)))\n",
    "\n",
    "cnn.add(Convolution2D(filters=128, kernel_size=3, activation='relu'))\n",
    "cnn.add(BatchNormalizationV2())\n",
    "cnn.add(MaxPooling2D(pool_size=(2,2)))\n",
    "\n",
    "cnn.add(Convolution2D(filters=256, kernel_size=3, activation='relu'))\n",
    "cnn.add(BatchNormalizationV2())\n",
    "cnn.add(MaxPooling2D(pool_size=(2,2)))\n",
    "\n",
    "cnn.add(Dropout(0.4)),\n",
    "\n",
    "cnn.add(Flatten())\n",
    "\n",
    "cnn.add(Dense(units=256, activation='relu'))\n",
    "cnn.add(BatchNormalizationV2())\n",
    "cnn.add(Dropout(0.25))\n",
    "\n",
    "cnn.add(Dense(units=128, activation='relu'))\n",
    "cnn.add(BatchNormalizationV2())\n",
    "cnn.add(Dropout(0.25))\n",
    "\n",
    "cnn.add(Dense(units=64, activation='relu'))\n",
    "cnn.add(BatchNormalizationV2())\n",
    "cnn.add(Dropout(0.25))\n",
    "\n",
    "cnn.add(Dense(units=24, activation='relu'))\n",
    "cnn.add(BatchNormalizationV2())\n",
    "cnn.add(Dropout(0.25))\n",
    "\n",
    "cnn.add(Dense(units=6, activation='softmax'))"
   ],
   "metadata": {
    "collapsed": false,
    "pycharm": {
     "name": "#%%\n"
    }
   }
  },
  {
   "cell_type": "code",
   "execution_count": 7,
   "outputs": [],
   "source": [
    "cnn.compile(optimizer = 'sgd', loss = 'categorical_crossentropy', metrics = ['accuracy'])"
   ],
   "metadata": {
    "collapsed": false,
    "pycharm": {
     "name": "#%%\n"
    }
   }
  },
  {
   "cell_type": "code",
   "execution_count": 8,
   "outputs": [
    {
     "name": "stdout",
     "output_type": "stream",
     "text": [
      "Epoch 1/17\n"
     ]
    },
    {
     "name": "stderr",
     "output_type": "stream",
     "text": [
      "2022-08-29 19:20:21.438032: W tensorflow/core/platform/profile_utils/cpu_utils.cc:128] Failed to get CPU frequency: 0 Hz\n",
      "2022-08-29 19:20:22.569800: I tensorflow/core/grappler/optimizers/custom_graph_optimizer_registry.cc:113] Plugin optimizer for device_type GPU is enabled.\n"
     ]
    },
    {
     "name": "stdout",
     "output_type": "stream",
     "text": [
      "439/439 [==============================] - ETA: 0s - loss: 1.6264 - accuracy: 0.3747"
     ]
    },
    {
     "name": "stderr",
     "output_type": "stream",
     "text": [
      "2022-08-29 19:20:57.226476: I tensorflow/core/grappler/optimizers/custom_graph_optimizer_registry.cc:113] Plugin optimizer for device_type GPU is enabled.\n"
     ]
    },
    {
     "name": "stdout",
     "output_type": "stream",
     "text": [
      "439/439 [==============================] - 38s 83ms/step - loss: 1.6264 - accuracy: 0.3747 - val_loss: 1.2238 - val_accuracy: 0.5297\n",
      "Epoch 2/17\n",
      "439/439 [==============================] - 31s 72ms/step - loss: 1.1878 - accuracy: 0.5199 - val_loss: 1.0272 - val_accuracy: 0.6090\n",
      "Epoch 3/17\n",
      "439/439 [==============================] - 32s 73ms/step - loss: 1.0800 - accuracy: 0.5754 - val_loss: 0.8859 - val_accuracy: 0.6717\n",
      "Epoch 4/17\n",
      "439/439 [==============================] - 31s 71ms/step - loss: 1.0013 - accuracy: 0.6158 - val_loss: 0.9276 - val_accuracy: 0.6427\n",
      "Epoch 5/17\n",
      "439/439 [==============================] - 31s 70ms/step - loss: 0.9552 - accuracy: 0.6416 - val_loss: 1.0382 - val_accuracy: 0.6070\n",
      "Epoch 6/17\n",
      "439/439 [==============================] - 31s 70ms/step - loss: 0.9055 - accuracy: 0.6667 - val_loss: 1.1082 - val_accuracy: 0.5890\n",
      "Epoch 7/17\n",
      "439/439 [==============================] - 30s 69ms/step - loss: 0.8698 - accuracy: 0.6817 - val_loss: 0.7445 - val_accuracy: 0.7327\n",
      "Epoch 8/17\n",
      "439/439 [==============================] - 31s 71ms/step - loss: 0.8273 - accuracy: 0.7000 - val_loss: 0.9484 - val_accuracy: 0.6540\n",
      "Epoch 9/17\n",
      "439/439 [==============================] - 30s 69ms/step - loss: 0.8000 - accuracy: 0.7143 - val_loss: 0.8505 - val_accuracy: 0.6853\n",
      "Epoch 10/17\n",
      "439/439 [==============================] - 31s 70ms/step - loss: 0.7719 - accuracy: 0.7193 - val_loss: 0.8886 - val_accuracy: 0.6853\n",
      "Epoch 11/17\n",
      "439/439 [==============================] - 30s 69ms/step - loss: 0.7552 - accuracy: 0.7286 - val_loss: 1.1538 - val_accuracy: 0.5733\n",
      "Epoch 12/17\n",
      "439/439 [==============================] - 33s 76ms/step - loss: 0.7193 - accuracy: 0.7448 - val_loss: 1.5774 - val_accuracy: 0.4863\n",
      "Epoch 13/17\n",
      "439/439 [==============================] - 30s 68ms/step - loss: 0.7065 - accuracy: 0.7465 - val_loss: 0.7579 - val_accuracy: 0.7090\n",
      "Epoch 14/17\n",
      "439/439 [==============================] - 30s 68ms/step - loss: 0.6959 - accuracy: 0.7538 - val_loss: 0.6203 - val_accuracy: 0.7753\n",
      "Epoch 15/17\n",
      "439/439 [==============================] - 30s 68ms/step - loss: 0.6783 - accuracy: 0.7587 - val_loss: 1.0674 - val_accuracy: 0.6260\n",
      "Epoch 16/17\n",
      "439/439 [==============================] - 30s 68ms/step - loss: 0.6669 - accuracy: 0.7635 - val_loss: 0.6314 - val_accuracy: 0.7640\n",
      "Epoch 17/17\n",
      "439/439 [==============================] - 30s 68ms/step - loss: 0.6475 - accuracy: 0.7700 - val_loss: 0.5757 - val_accuracy: 0.7930\n",
      "CPU times: user 11min 42s, sys: 1min 58s, total: 13min 41s\n",
      "Wall time: 8min 51s\n"
     ]
    },
    {
     "data": {
      "text/plain": "<keras.callbacks.History at 0x28da81240>"
     },
     "execution_count": 8,
     "metadata": {},
     "output_type": "execute_result"
    }
   ],
   "source": [
    "%%time\n",
    "cnn.fit(training_set, steps_per_epoch= len(training_set), validation_data = test_set, validation_steps=len(test_set), epochs = 10)"
   ],
   "metadata": {
    "collapsed": false,
    "pycharm": {
     "name": "#%%\n"
    }
   }
  },
  {
   "cell_type": "code",
   "execution_count": 20,
   "outputs": [
    {
     "name": "stdout",
     "output_type": "stream",
     "text": [
      "2/2 - 0s - loss: 0.5683 - accuracy: 0.7812 - 79ms/epoch - 40ms/step\n",
      "Accuracy of the model on the test set:  0.78125\n"
     ]
    }
   ],
   "source": [
    "accuracy=cnn.evaluate(test_set, steps=len(test_set),verbose=2)\n",
    "print('Accuracy of the model on the test set: ',accuracy[1])"
   ],
   "metadata": {
    "collapsed": false,
    "pycharm": {
     "name": "#%%\n"
    }
   }
  },
  {
   "cell_type": "code",
   "execution_count": 9,
   "outputs": [],
   "source": [],
   "metadata": {
    "collapsed": false,
    "pycharm": {
     "name": "#%%\n"
    }
   }
  }
 ],
 "metadata": {
  "kernelspec": {
   "display_name": "Python 3",
   "language": "python",
   "name": "python3"
  },
  "language_info": {
   "codemirror_mode": {
    "name": "ipython",
    "version": 2
   },
   "file_extension": ".py",
   "mimetype": "text/x-python",
   "name": "python",
   "nbconvert_exporter": "python",
   "pygments_lexer": "ipython2",
   "version": "2.7.6"
  }
 },
 "nbformat": 4,
 "nbformat_minor": 0
}
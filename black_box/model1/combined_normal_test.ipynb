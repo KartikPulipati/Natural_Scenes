{
 "cells": [
  {
   "cell_type": "code",
   "execution_count": 1,
   "outputs": [],
   "source": [
    "import numpy as np\n",
    "import tensorflow as tf\n",
    "from keras.preprocessing.image import ImageDataGenerator\n",
    "from keras.models import Sequential\n",
    "from keras.layers import Convolution2D, MaxPooling2D, Flatten, Dense"
   ],
   "metadata": {
    "collapsed": false,
    "pycharm": {
     "name": "#%%\n"
    }
   }
  },
  {
   "cell_type": "code",
   "execution_count": 2,
   "outputs": [],
   "source": [
    "train_path = '../data/black_box_combined/seg_train/'\n",
    "test_path = '../../normal/archive/seg_test'"
   ],
   "metadata": {
    "collapsed": false,
    "pycharm": {
     "name": "#%%\n"
    }
   }
  },
  {
   "cell_type": "code",
   "execution_count": 3,
   "outputs": [
    {
     "name": "stdout",
     "output_type": "stream",
     "text": [
      "Found 28068 images belonging to 6 classes.\n"
     ]
    }
   ],
   "source": [
    "train_datagen = ImageDataGenerator(\n",
    "                    rescale = 1/255,\n",
    "                    shear_range = 0.2,\n",
    "                    zoom_range = 0.2,\n",
    "                    horizontal_flip = True,\n",
    "                    vertical_flip = False)\n",
    "training_set = train_datagen.flow_from_directory(train_path,\n",
    "                                                 target_size = (64, 64),\n",
    "                                                 class_mode = 'categorical')"
   ],
   "metadata": {
    "collapsed": false,
    "pycharm": {
     "name": "#%%\n"
    }
   }
  },
  {
   "cell_type": "code",
   "execution_count": 4,
   "outputs": [
    {
     "name": "stdout",
     "output_type": "stream",
     "text": [
      "Found 3000 images belonging to 6 classes.\n"
     ]
    }
   ],
   "source": [
    "test_datagen = ImageDataGenerator(rescale = 1/255)\n",
    "test_set = test_datagen.flow_from_directory(test_path,\n",
    "                                            target_size = (64, 64),\n",
    "                                            class_mode = 'categorical')"
   ],
   "metadata": {
    "collapsed": false,
    "pycharm": {
     "name": "#%%\n"
    }
   }
  },
  {
   "cell_type": "code",
   "execution_count": 5,
   "outputs": [
    {
     "name": "stdout",
     "output_type": "stream",
     "text": [
      "Metal device set to: Apple M1\n"
     ]
    },
    {
     "name": "stderr",
     "output_type": "stream",
     "text": [
      "2022-09-05 10:59:31.587880: I tensorflow/core/common_runtime/pluggable_device/pluggable_device_factory.cc:305] Could not identify NUMA node of platform GPU ID 0, defaulting to 0. Your kernel may not have been built with NUMA support.\n",
      "2022-09-05 10:59:31.588032: I tensorflow/core/common_runtime/pluggable_device/pluggable_device_factory.cc:271] Created TensorFlow device (/job:localhost/replica:0/task:0/device:GPU:0 with 0 MB memory) -> physical PluggableDevice (device: 0, name: METAL, pci bus id: <undefined>)\n"
     ]
    },
    {
     "data": {
      "text/plain": "<keras.engine.sequential.Sequential at 0x16e65aa40>"
     },
     "execution_count": 5,
     "metadata": {},
     "output_type": "execute_result"
    }
   ],
   "source": [
    "cnn = Sequential()\n",
    "cnn"
   ],
   "metadata": {
    "collapsed": false,
    "pycharm": {
     "name": "#%%\n"
    }
   }
  },
  {
   "cell_type": "code",
   "execution_count": 6,
   "outputs": [],
   "source": [
    "cnn.add(Convolution2D(filters=32, kernel_size=3, activation='relu'))\n",
    "cnn.add(MaxPooling2D(pool_size=(2,2)))\n",
    "cnn.add(Convolution2D(filters=32, kernel_size=3, activation='relu'))\n",
    "cnn.add(MaxPooling2D(pool_size=(2,2)))\n",
    "cnn.add(Flatten())\n",
    "cnn.add(Dense(units=256, activation='relu'))\n",
    "cnn.add(Dense(units=128, activation='relu'))\n",
    "cnn.add(Dense(units=64, activation='relu'))\n",
    "cnn.add(Dense(units=24, activation='relu'))\n",
    "cnn.add(Dense(units=6, activation='softmax'))"
   ],
   "metadata": {
    "collapsed": false,
    "pycharm": {
     "name": "#%%\n"
    }
   }
  },
  {
   "cell_type": "code",
   "execution_count": 7,
   "outputs": [],
   "source": [
    "cnn.compile(optimizer = 'adam', loss = 'categorical_crossentropy', metrics = ['accuracy'])"
   ],
   "metadata": {
    "collapsed": false,
    "pycharm": {
     "name": "#%%\n"
    }
   }
  },
  {
   "cell_type": "code",
   "execution_count": 8,
   "outputs": [
    {
     "name": "stdout",
     "output_type": "stream",
     "text": [
      "Epoch 1/17\n"
     ]
    },
    {
     "name": "stderr",
     "output_type": "stream",
     "text": [
      "2022-09-05 10:59:32.605561: W tensorflow/core/platform/profile_utils/cpu_utils.cc:128] Failed to get CPU frequency: 0 Hz\n",
      "2022-09-05 10:59:33.103182: I tensorflow/core/grappler/optimizers/custom_graph_optimizer_registry.cc:113] Plugin optimizer for device_type GPU is enabled.\n"
     ]
    },
    {
     "name": "stdout",
     "output_type": "stream",
     "text": [
      "878/878 [==============================] - ETA: 0s - loss: 0.9868 - accuracy: 0.6180"
     ]
    },
    {
     "name": "stderr",
     "output_type": "stream",
     "text": [
      "2022-09-05 11:00:26.804143: I tensorflow/core/grappler/optimizers/custom_graph_optimizer_registry.cc:113] Plugin optimizer for device_type GPU is enabled.\n"
     ]
    },
    {
     "name": "stdout",
     "output_type": "stream",
     "text": [
      "878/878 [==============================] - 58s 63ms/step - loss: 0.9868 - accuracy: 0.6180 - val_loss: 0.8691 - val_accuracy: 0.6837\n",
      "Epoch 2/17\n",
      "878/878 [==============================] - 63s 72ms/step - loss: 0.7393 - accuracy: 0.7293 - val_loss: 0.6536 - val_accuracy: 0.7607\n",
      "Epoch 3/17\n",
      "878/878 [==============================] - 54s 61ms/step - loss: 0.6353 - accuracy: 0.7707 - val_loss: 0.6609 - val_accuracy: 0.7627\n",
      "Epoch 4/17\n",
      "878/878 [==============================] - 57s 64ms/step - loss: 0.5736 - accuracy: 0.7938 - val_loss: 0.7065 - val_accuracy: 0.7583\n",
      "Epoch 5/17\n",
      "878/878 [==============================] - 66s 75ms/step - loss: 0.5174 - accuracy: 0.8117 - val_loss: 0.7504 - val_accuracy: 0.7450\n",
      "Epoch 6/17\n",
      "878/878 [==============================] - 47s 54ms/step - loss: 0.4706 - accuracy: 0.8301 - val_loss: 0.5085 - val_accuracy: 0.8240\n",
      "Epoch 7/17\n",
      "878/878 [==============================] - 48s 55ms/step - loss: 0.4258 - accuracy: 0.8468 - val_loss: 0.5398 - val_accuracy: 0.8147\n",
      "Epoch 8/17\n",
      "878/878 [==============================] - 48s 55ms/step - loss: 0.3905 - accuracy: 0.8614 - val_loss: 0.5462 - val_accuracy: 0.8227\n",
      "Epoch 9/17\n",
      "878/878 [==============================] - 46s 53ms/step - loss: 0.3608 - accuracy: 0.8700 - val_loss: 0.5808 - val_accuracy: 0.8013\n",
      "Epoch 10/17\n",
      "878/878 [==============================] - 46s 53ms/step - loss: 0.3408 - accuracy: 0.8773 - val_loss: 0.5685 - val_accuracy: 0.8163\n",
      "Epoch 11/17\n",
      "878/878 [==============================] - 60s 68ms/step - loss: 0.3100 - accuracy: 0.8879 - val_loss: 0.6697 - val_accuracy: 0.8083\n",
      "Epoch 12/17\n",
      "878/878 [==============================] - 63s 71ms/step - loss: 0.2815 - accuracy: 0.9008 - val_loss: 0.7091 - val_accuracy: 0.7863\n",
      "Epoch 13/17\n",
      "878/878 [==============================] - 46s 53ms/step - loss: 0.2679 - accuracy: 0.9024 - val_loss: 0.7740 - val_accuracy: 0.8060\n",
      "Epoch 14/17\n",
      "878/878 [==============================] - 45s 51ms/step - loss: 0.2593 - accuracy: 0.9065 - val_loss: 0.6821 - val_accuracy: 0.8090\n",
      "Epoch 15/17\n",
      "878/878 [==============================] - 54s 61ms/step - loss: 0.2362 - accuracy: 0.9165 - val_loss: 0.6659 - val_accuracy: 0.8127\n",
      "Epoch 16/17\n",
      "878/878 [==============================] - 50s 56ms/step - loss: 0.2208 - accuracy: 0.9208 - val_loss: 0.6659 - val_accuracy: 0.8140\n",
      "Epoch 17/17\n",
      "878/878 [==============================] - 50s 56ms/step - loss: 0.2088 - accuracy: 0.9248 - val_loss: 0.6445 - val_accuracy: 0.8250\n",
      "CPU times: user 16min 14s, sys: 2min 24s, total: 18min 38s\n",
      "Wall time: 15min\n"
     ]
    },
    {
     "data": {
      "text/plain": "<keras.callbacks.History at 0x178c87460>"
     },
     "execution_count": 8,
     "metadata": {},
     "output_type": "execute_result"
    }
   ],
   "source": [
    "%%time\n",
    "cnn.fit(training_set, steps_per_epoch= len(training_set), validation_data = test_set, validation_steps=len(test_set), epochs = 17)"
   ],
   "metadata": {
    "collapsed": false,
    "pycharm": {
     "name": "#%%\n"
    }
   }
  },
  {
   "cell_type": "code",
   "execution_count": 9,
   "outputs": [
    {
     "name": "stdout",
     "output_type": "stream",
     "text": [
      "94/94 - 2s - loss: 0.6445 - accuracy: 0.8250 - 2s/epoch - 18ms/step\n",
      "Accuracy of the model on the test set:  0.824999988079071\n"
     ]
    }
   ],
   "source": [
    "accuracy=cnn.evaluate(test_set, steps=len(test_set),verbose=2)\n",
    "print('Accuracy of the model on the test set: ',accuracy[1])"
   ],
   "metadata": {
    "collapsed": false,
    "pycharm": {
     "name": "#%%\n"
    }
   }
  }
 ],
 "metadata": {
  "kernelspec": {
   "display_name": "Python 3",
   "language": "python",
   "name": "python3"
  },
  "language_info": {
   "codemirror_mode": {
    "name": "ipython",
    "version": 2
   },
   "file_extension": ".py",
   "mimetype": "text/x-python",
   "name": "python",
   "nbconvert_exporter": "python",
   "pygments_lexer": "ipython2",
   "version": "2.7.6"
  }
 },
 "nbformat": 4,
 "nbformat_minor": 0
}
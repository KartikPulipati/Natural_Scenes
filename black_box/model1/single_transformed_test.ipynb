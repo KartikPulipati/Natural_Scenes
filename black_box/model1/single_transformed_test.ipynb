{
 "cells": [
  {
   "cell_type": "code",
   "execution_count": 1,
   "outputs": [],
   "source": [
    "import numpy as np\n",
    "import tensorflow as tf\n",
    "from tensorflow.keras.preprocessing.image import ImageDataGenerator\n",
    "from tensorflow.keras.models import Sequential\n",
    "from tensorflow.keras.layers import Convolution2D, MaxPooling2D, Flatten, Dense"
   ],
   "metadata": {
    "collapsed": false,
    "pycharm": {
     "name": "#%%\n"
    }
   }
  },
  {
   "cell_type": "code",
   "execution_count": 2,
   "outputs": [],
   "source": [
    "train_path = '../data/black_box_single/seg_train/'\n",
    "test_path = '../data/black_box_single/seg_test/'"
   ],
   "metadata": {
    "collapsed": false,
    "pycharm": {
     "name": "#%%\n"
    }
   }
  },
  {
   "cell_type": "code",
   "execution_count": 3,
   "outputs": [
    {
     "name": "stdout",
     "output_type": "stream",
     "text": [
      "Found 14034 images belonging to 6 classes.\n"
     ]
    }
   ],
   "source": [
    "train_datagen = ImageDataGenerator(\n",
    "                    rescale = 1/255,\n",
    "                    shear_range = 0.2,\n",
    "                    zoom_range = 0.2,\n",
    "                    horizontal_flip = True,\n",
    "                    vertical_flip = False)\n",
    "training_set = train_datagen.flow_from_directory(train_path,\n",
    "                                                 target_size = (64, 64),\n",
    "                                                 class_mode = 'categorical')"
   ],
   "metadata": {
    "collapsed": false,
    "pycharm": {
     "name": "#%%\n"
    }
   }
  },
  {
   "cell_type": "code",
   "execution_count": 4,
   "outputs": [
    {
     "name": "stdout",
     "output_type": "stream",
     "text": [
      "Found 3000 images belonging to 6 classes.\n"
     ]
    }
   ],
   "source": [
    "test_datagen = ImageDataGenerator(rescale = 1/255)\n",
    "test_set = test_datagen.flow_from_directory(test_path,\n",
    "                                            target_size = (64, 64),\n",
    "                                            class_mode = 'categorical')"
   ],
   "metadata": {
    "collapsed": false,
    "pycharm": {
     "name": "#%%\n"
    }
   }
  },
  {
   "cell_type": "code",
   "execution_count": 5,
   "outputs": [
    {
     "name": "stdout",
     "output_type": "stream",
     "text": [
      "Metal device set to: Apple M1\n"
     ]
    },
    {
     "name": "stderr",
     "output_type": "stream",
     "text": [
      "2022-08-09 19:03:31.269691: I tensorflow/core/common_runtime/pluggable_device/pluggable_device_factory.cc:305] Could not identify NUMA node of platform GPU ID 0, defaulting to 0. Your kernel may not have been built with NUMA support.\n",
      "2022-08-09 19:03:31.269848: I tensorflow/core/common_runtime/pluggable_device/pluggable_device_factory.cc:271] Created TensorFlow device (/job:localhost/replica:0/task:0/device:GPU:0 with 0 MB memory) -> physical PluggableDevice (device: 0, name: METAL, pci bus id: <undefined>)\n"
     ]
    },
    {
     "data": {
      "text/plain": "<keras.engine.sequential.Sequential at 0x103d79c00>"
     },
     "execution_count": 5,
     "metadata": {},
     "output_type": "execute_result"
    }
   ],
   "source": [
    "cnn = Sequential()\n",
    "cnn"
   ],
   "metadata": {
    "collapsed": false,
    "pycharm": {
     "name": "#%%\n"
    }
   }
  },
  {
   "cell_type": "code",
   "execution_count": 6,
   "outputs": [],
   "source": [
    "cnn.add(Convolution2D(filters=32, kernel_size=3, activation='relu'))\n",
    "cnn.add(MaxPooling2D(pool_size=(2,2)))\n",
    "cnn.add(Convolution2D(filters=32, kernel_size=3, activation='relu'))\n",
    "cnn.add(MaxPooling2D(pool_size=(2,2)))\n",
    "cnn.add(Flatten())\n",
    "cnn.add(Dense(units=256, activation='relu'))\n",
    "cnn.add(Dense(units=128, activation='relu'))\n",
    "cnn.add(Dense(units=64, activation='relu'))\n",
    "cnn.add(Dense(units=24, activation='relu'))\n",
    "cnn.add(Dense(units=6, activation='softmax'))"
   ],
   "metadata": {
    "collapsed": false,
    "pycharm": {
     "name": "#%%\n"
    }
   }
  },
  {
   "cell_type": "code",
   "execution_count": 7,
   "outputs": [],
   "source": [
    "cnn.compile(optimizer = 'adam', loss = 'categorical_crossentropy', metrics = ['accuracy'])"
   ],
   "metadata": {
    "collapsed": false,
    "pycharm": {
     "name": "#%%\n"
    }
   }
  },
  {
   "cell_type": "code",
   "execution_count": 8,
   "outputs": [
    {
     "name": "stdout",
     "output_type": "stream",
     "text": [
      "Epoch 1/17\n"
     ]
    },
    {
     "name": "stderr",
     "output_type": "stream",
     "text": [
      "2022-08-09 19:03:31.575766: W tensorflow/core/platform/profile_utils/cpu_utils.cc:128] Failed to get CPU frequency: 0 Hz\n",
      "2022-08-09 19:03:31.973716: I tensorflow/core/grappler/optimizers/custom_graph_optimizer_registry.cc:113] Plugin optimizer for device_type GPU is enabled.\n"
     ]
    },
    {
     "name": "stdout",
     "output_type": "stream",
     "text": [
      "439/439 [==============================] - ETA: 0s - loss: 1.1722 - accuracy: 0.5214"
     ]
    },
    {
     "name": "stderr",
     "output_type": "stream",
     "text": [
      "2022-08-09 19:03:52.455685: I tensorflow/core/grappler/optimizers/custom_graph_optimizer_registry.cc:113] Plugin optimizer for device_type GPU is enabled.\n"
     ]
    },
    {
     "name": "stdout",
     "output_type": "stream",
     "text": [
      "439/439 [==============================] - 23s 51ms/step - loss: 1.1722 - accuracy: 0.5214 - val_loss: 0.9288 - val_accuracy: 0.6517\n",
      "Epoch 2/17\n",
      "439/439 [==============================] - 22s 50ms/step - loss: 0.9173 - accuracy: 0.6486 - val_loss: 0.8338 - val_accuracy: 0.6840\n",
      "Epoch 3/17\n",
      "439/439 [==============================] - 21s 48ms/step - loss: 0.8259 - accuracy: 0.6893 - val_loss: 0.8063 - val_accuracy: 0.7017\n",
      "Epoch 4/17\n",
      "439/439 [==============================] - 24s 55ms/step - loss: 0.7493 - accuracy: 0.7214 - val_loss: 0.7220 - val_accuracy: 0.7297\n",
      "Epoch 5/17\n",
      "439/439 [==============================] - 28s 62ms/step - loss: 0.6941 - accuracy: 0.7393 - val_loss: 0.6865 - val_accuracy: 0.7467\n",
      "Epoch 6/17\n",
      "439/439 [==============================] - 21s 48ms/step - loss: 0.6473 - accuracy: 0.7624 - val_loss: 0.6442 - val_accuracy: 0.7687\n",
      "Epoch 7/17\n",
      "439/439 [==============================] - 21s 47ms/step - loss: 0.6102 - accuracy: 0.7743 - val_loss: 0.6653 - val_accuracy: 0.7647\n",
      "Epoch 8/17\n",
      "439/439 [==============================] - 20s 45ms/step - loss: 0.5751 - accuracy: 0.7910 - val_loss: 0.6194 - val_accuracy: 0.7787\n",
      "Epoch 9/17\n",
      "439/439 [==============================] - 20s 45ms/step - loss: 0.5402 - accuracy: 0.8021 - val_loss: 0.6132 - val_accuracy: 0.7917\n",
      "Epoch 10/17\n",
      "439/439 [==============================] - 20s 46ms/step - loss: 0.5247 - accuracy: 0.8068 - val_loss: 0.6028 - val_accuracy: 0.7927\n",
      "Epoch 11/17\n",
      "439/439 [==============================] - 20s 46ms/step - loss: 0.4827 - accuracy: 0.8229 - val_loss: 0.5854 - val_accuracy: 0.7980\n",
      "Epoch 12/17\n",
      "439/439 [==============================] - 21s 47ms/step - loss: 0.4624 - accuracy: 0.8326 - val_loss: 0.5949 - val_accuracy: 0.8040\n",
      "Epoch 13/17\n",
      "439/439 [==============================] - 23s 53ms/step - loss: 0.4407 - accuracy: 0.8391 - val_loss: 0.5798 - val_accuracy: 0.8080\n",
      "Epoch 14/17\n",
      "439/439 [==============================] - 21s 47ms/step - loss: 0.4323 - accuracy: 0.8422 - val_loss: 0.5969 - val_accuracy: 0.7903\n",
      "Epoch 15/17\n",
      "439/439 [==============================] - 20s 46ms/step - loss: 0.3983 - accuracy: 0.8568 - val_loss: 0.5607 - val_accuracy: 0.8137\n",
      "Epoch 16/17\n",
      "439/439 [==============================] - 27s 61ms/step - loss: 0.3875 - accuracy: 0.8583 - val_loss: 0.6803 - val_accuracy: 0.7827\n",
      "Epoch 17/17\n",
      "439/439 [==============================] - 25s 57ms/step - loss: 0.3757 - accuracy: 0.8649 - val_loss: 0.6241 - val_accuracy: 0.7880\n",
      "CPU times: user 7min 22s, sys: 1min 5s, total: 8min 27s\n",
      "Wall time: 6min 17s\n"
     ]
    },
    {
     "data": {
      "text/plain": "<keras.callbacks.History at 0x1670fd5a0>"
     },
     "execution_count": 8,
     "metadata": {},
     "output_type": "execute_result"
    }
   ],
   "source": [
    "%%time\n",
    "cnn.fit(training_set, steps_per_epoch= len(training_set), validation_data = test_set, validation_steps=len(test_set), epochs = 17)"
   ],
   "metadata": {
    "collapsed": false,
    "pycharm": {
     "name": "#%%\n"
    }
   }
  }
 ],
 "metadata": {
  "kernelspec": {
   "display_name": "Python 3",
   "language": "python",
   "name": "python3"
  },
  "language_info": {
   "codemirror_mode": {
    "name": "ipython",
    "version": 2
   },
   "file_extension": ".py",
   "mimetype": "text/x-python",
   "name": "python",
   "nbconvert_exporter": "python",
   "pygments_lexer": "ipython2",
   "version": "2.7.6"
  }
 },
 "nbformat": 4,
 "nbformat_minor": 0
}
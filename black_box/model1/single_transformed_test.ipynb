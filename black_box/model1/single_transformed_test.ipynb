{
 "cells": [
  {
   "cell_type": "code",
   "execution_count": 1,
   "outputs": [],
   "source": [
    "import numpy as np\n",
    "import tensorflow as tf\n",
    "from keras.preprocessing.image import ImageDataGenerator\n",
    "from keras.models import Sequential\n",
    "from keras.layers import Convolution2D, MaxPooling2D, Flatten, Dense"
   ],
   "metadata": {
    "collapsed": false,
    "pycharm": {
     "name": "#%%\n"
    }
   }
  },
  {
   "cell_type": "code",
   "execution_count": 2,
   "outputs": [],
   "source": [
    "train_path = '../data/black_box_single/seg_train/'\n",
    "test_path = '../data/black_box_single/seg_test/'"
   ],
   "metadata": {
    "collapsed": false,
    "pycharm": {
     "name": "#%%\n"
    }
   }
  },
  {
   "cell_type": "code",
   "execution_count": 3,
   "outputs": [
    {
     "name": "stdout",
     "output_type": "stream",
     "text": [
      "Found 14034 images belonging to 6 classes.\n"
     ]
    }
   ],
   "source": [
    "train_datagen = ImageDataGenerator(\n",
    "                    rescale = 1/255,\n",
    "                    shear_range = 0.2,\n",
    "                    zoom_range = 0.2,\n",
    "                    horizontal_flip = True,\n",
    "                    vertical_flip = False)\n",
    "training_set = train_datagen.flow_from_directory(train_path,\n",
    "                                                 target_size = (64, 64),\n",
    "                                                 class_mode = 'categorical')"
   ],
   "metadata": {
    "collapsed": false,
    "pycharm": {
     "name": "#%%\n"
    }
   }
  },
  {
   "cell_type": "code",
   "execution_count": 4,
   "outputs": [
    {
     "name": "stdout",
     "output_type": "stream",
     "text": [
      "Found 3000 images belonging to 6 classes.\n"
     ]
    }
   ],
   "source": [
    "test_datagen = ImageDataGenerator(rescale = 1/255)\n",
    "test_set = test_datagen.flow_from_directory(test_path,\n",
    "                                            target_size = (64, 64),\n",
    "                                            class_mode = 'categorical')"
   ],
   "metadata": {
    "collapsed": false,
    "pycharm": {
     "name": "#%%\n"
    }
   }
  },
  {
   "cell_type": "code",
   "execution_count": 5,
   "outputs": [
    {
     "name": "stdout",
     "output_type": "stream",
     "text": [
      "Metal device set to: Apple M1\n"
     ]
    },
    {
     "name": "stderr",
     "output_type": "stream",
     "text": [
      "2022-09-05 12:05:04.559932: I tensorflow/core/common_runtime/pluggable_device/pluggable_device_factory.cc:305] Could not identify NUMA node of platform GPU ID 0, defaulting to 0. Your kernel may not have been built with NUMA support.\n",
      "2022-09-05 12:05:04.560169: I tensorflow/core/common_runtime/pluggable_device/pluggable_device_factory.cc:271] Created TensorFlow device (/job:localhost/replica:0/task:0/device:GPU:0 with 0 MB memory) -> physical PluggableDevice (device: 0, name: METAL, pci bus id: <undefined>)\n"
     ]
    },
    {
     "data": {
      "text/plain": "<keras.engine.sequential.Sequential at 0x288c469e0>"
     },
     "execution_count": 5,
     "metadata": {},
     "output_type": "execute_result"
    }
   ],
   "source": [
    "cnn = Sequential()\n",
    "cnn"
   ],
   "metadata": {
    "collapsed": false,
    "pycharm": {
     "name": "#%%\n"
    }
   }
  },
  {
   "cell_type": "code",
   "execution_count": 6,
   "outputs": [],
   "source": [
    "cnn.add(Convolution2D(filters=32, kernel_size=3, activation='relu'))\n",
    "cnn.add(MaxPooling2D(pool_size=(2,2)))\n",
    "cnn.add(Convolution2D(filters=32, kernel_size=3, activation='relu'))\n",
    "cnn.add(MaxPooling2D(pool_size=(2,2)))\n",
    "cnn.add(Flatten())\n",
    "cnn.add(Dense(units=256, activation='relu'))\n",
    "cnn.add(Dense(units=128, activation='relu'))\n",
    "cnn.add(Dense(units=64, activation='relu'))\n",
    "cnn.add(Dense(units=24, activation='relu'))\n",
    "cnn.add(Dense(units=6, activation='softmax'))"
   ],
   "metadata": {
    "collapsed": false,
    "pycharm": {
     "name": "#%%\n"
    }
   }
  },
  {
   "cell_type": "code",
   "execution_count": 7,
   "outputs": [],
   "source": [
    "cnn.compile(optimizer = 'adam', loss = 'categorical_crossentropy', metrics = ['accuracy'])"
   ],
   "metadata": {
    "collapsed": false,
    "pycharm": {
     "name": "#%%\n"
    }
   }
  },
  {
   "cell_type": "code",
   "execution_count": 8,
   "outputs": [
    {
     "name": "stdout",
     "output_type": "stream",
     "text": [
      "Epoch 1/17\n"
     ]
    },
    {
     "name": "stderr",
     "output_type": "stream",
     "text": [
      "2022-09-05 12:05:06.824973: W tensorflow/core/platform/profile_utils/cpu_utils.cc:128] Failed to get CPU frequency: 0 Hz\n",
      "2022-09-05 12:05:07.341748: I tensorflow/core/grappler/optimizers/custom_graph_optimizer_registry.cc:113] Plugin optimizer for device_type GPU is enabled.\n"
     ]
    },
    {
     "name": "stdout",
     "output_type": "stream",
     "text": [
      "439/439 [==============================] - ETA: 0s - loss: 1.1619 - accuracy: 0.5404"
     ]
    },
    {
     "name": "stderr",
     "output_type": "stream",
     "text": [
      "2022-09-05 12:05:40.519545: I tensorflow/core/grappler/optimizers/custom_graph_optimizer_registry.cc:113] Plugin optimizer for device_type GPU is enabled.\n"
     ]
    },
    {
     "name": "stdout",
     "output_type": "stream",
     "text": [
      "439/439 [==============================] - 36s 73ms/step - loss: 1.1619 - accuracy: 0.5404 - val_loss: 1.0289 - val_accuracy: 0.6067\n",
      "Epoch 2/17\n",
      "439/439 [==============================] - 32s 74ms/step - loss: 0.8929 - accuracy: 0.6617 - val_loss: 0.7976 - val_accuracy: 0.7050\n",
      "Epoch 3/17\n",
      "439/439 [==============================] - 31s 70ms/step - loss: 0.8059 - accuracy: 0.6941 - val_loss: 0.7236 - val_accuracy: 0.7310\n",
      "Epoch 4/17\n",
      "439/439 [==============================] - 30s 68ms/step - loss: 0.7366 - accuracy: 0.7257 - val_loss: 0.7033 - val_accuracy: 0.7467\n",
      "Epoch 5/17\n",
      "439/439 [==============================] - 33s 74ms/step - loss: 0.6744 - accuracy: 0.7537 - val_loss: 0.6835 - val_accuracy: 0.7590\n",
      "Epoch 6/17\n",
      "439/439 [==============================] - 32s 74ms/step - loss: 0.6342 - accuracy: 0.7664 - val_loss: 0.6913 - val_accuracy: 0.7520\n",
      "Epoch 7/17\n",
      "439/439 [==============================] - 33s 74ms/step - loss: 0.5921 - accuracy: 0.7846 - val_loss: 0.6405 - val_accuracy: 0.7663\n",
      "Epoch 8/17\n",
      "439/439 [==============================] - 32s 74ms/step - loss: 0.5653 - accuracy: 0.7927 - val_loss: 0.6209 - val_accuracy: 0.7677\n",
      "Epoch 9/17\n",
      "439/439 [==============================] - 34s 77ms/step - loss: 0.5268 - accuracy: 0.8080 - val_loss: 0.6475 - val_accuracy: 0.7640\n",
      "Epoch 10/17\n",
      "439/439 [==============================] - 34s 77ms/step - loss: 0.4960 - accuracy: 0.8177 - val_loss: 0.5982 - val_accuracy: 0.7847\n",
      "Epoch 11/17\n",
      "439/439 [==============================] - 34s 76ms/step - loss: 0.4802 - accuracy: 0.8301 - val_loss: 0.6278 - val_accuracy: 0.7837\n",
      "Epoch 12/17\n",
      "439/439 [==============================] - 33s 76ms/step - loss: 0.4485 - accuracy: 0.8374 - val_loss: 0.5826 - val_accuracy: 0.7917\n",
      "Epoch 13/17\n",
      "439/439 [==============================] - 33s 75ms/step - loss: 0.4257 - accuracy: 0.8483 - val_loss: 0.5904 - val_accuracy: 0.7957\n",
      "Epoch 14/17\n",
      "439/439 [==============================] - 33s 76ms/step - loss: 0.4087 - accuracy: 0.8504 - val_loss: 0.6215 - val_accuracy: 0.7867\n",
      "Epoch 15/17\n",
      "439/439 [==============================] - 28s 63ms/step - loss: 0.3911 - accuracy: 0.8579 - val_loss: 0.6273 - val_accuracy: 0.7777\n",
      "Epoch 16/17\n",
      "439/439 [==============================] - 30s 68ms/step - loss: 0.3702 - accuracy: 0.8644 - val_loss: 0.6010 - val_accuracy: 0.7957\n",
      "Epoch 17/17\n",
      "439/439 [==============================] - 32s 72ms/step - loss: 0.3517 - accuracy: 0.8695 - val_loss: 0.6534 - val_accuracy: 0.7840\n",
      "CPU times: user 9min 59s, sys: 1min 31s, total: 11min 30s\n",
      "Wall time: 9min 11s\n"
     ]
    },
    {
     "data": {
      "text/plain": "<keras.callbacks.History at 0x28a17acb0>"
     },
     "execution_count": 8,
     "metadata": {},
     "output_type": "execute_result"
    }
   ],
   "source": [
    "%%time\n",
    "cnn.fit(training_set, steps_per_epoch= len(training_set), validation_data = test_set, validation_steps=len(test_set), epochs = 17)"
   ],
   "metadata": {
    "collapsed": false,
    "pycharm": {
     "name": "#%%\n"
    }
   }
  },
  {
   "cell_type": "code",
   "execution_count": 9,
   "outputs": [
    {
     "name": "stdout",
     "output_type": "stream",
     "text": [
      "94/94 - 3s - loss: 0.6534 - accuracy: 0.7840 - 3s/epoch - 29ms/step\n",
      "Accuracy of the model on the test set:  0.7839999794960022\n"
     ]
    }
   ],
   "source": [
    "accuracy=cnn.evaluate(test_set, steps=len(test_set),verbose=2)\n",
    "print('Accuracy of the model on the test set: ',accuracy[1])"
   ],
   "metadata": {
    "collapsed": false,
    "pycharm": {
     "name": "#%%\n"
    }
   }
  },
  {
   "cell_type": "code",
   "execution_count": null,
   "outputs": [],
   "source": [],
   "metadata": {
    "collapsed": false,
    "pycharm": {
     "name": "#%%\n"
    }
   }
  }
 ],
 "metadata": {
  "kernelspec": {
   "display_name": "Python 3",
   "language": "python",
   "name": "python3"
  },
  "language_info": {
   "codemirror_mode": {
    "name": "ipython",
    "version": 2
   },
   "file_extension": ".py",
   "mimetype": "text/x-python",
   "name": "python",
   "nbconvert_exporter": "python",
   "pygments_lexer": "ipython2",
   "version": "2.7.6"
  }
 },
 "nbformat": 4,
 "nbformat_minor": 0
}
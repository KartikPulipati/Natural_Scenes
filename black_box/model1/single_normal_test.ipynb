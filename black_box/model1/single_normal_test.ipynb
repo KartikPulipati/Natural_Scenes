{
 "cells": [
  {
   "cell_type": "code",
   "execution_count": 9,
   "outputs": [],
   "source": [
    "import numpy as np\n",
    "import tensorflow as tf\n",
    "from tensorflow.keras.preprocessing.image import ImageDataGenerator\n",
    "from tensorflow.keras.models import Sequential\n",
    "from tensorflow.keras.layers import Convolution2D, MaxPooling2D, Flatten, Dense"
   ],
   "metadata": {
    "collapsed": false,
    "pycharm": {
     "name": "#%%\n"
    }
   }
  },
  {
   "cell_type": "code",
   "execution_count": 10,
   "outputs": [],
   "source": [
    "train_path = '../data/black_box_single/seg_train/'\n",
    "test_path = '../../normal/archive/seg_test'"
   ],
   "metadata": {
    "collapsed": false,
    "pycharm": {
     "name": "#%%\n"
    }
   }
  },
  {
   "cell_type": "code",
   "execution_count": 11,
   "outputs": [
    {
     "name": "stdout",
     "output_type": "stream",
     "text": [
      "Found 14034 images belonging to 6 classes.\n"
     ]
    }
   ],
   "source": [
    "train_datagen = ImageDataGenerator(\n",
    "                    rescale = 1/255,\n",
    "                    shear_range = 0.2,\n",
    "                    zoom_range = 0.2,\n",
    "                    horizontal_flip = True,\n",
    "                    vertical_flip = False)\n",
    "training_set = train_datagen.flow_from_directory(train_path,\n",
    "                                                 target_size = (64, 64),\n",
    "                                                 class_mode = 'categorical')"
   ],
   "metadata": {
    "collapsed": false,
    "pycharm": {
     "name": "#%%\n"
    }
   }
  },
  {
   "cell_type": "code",
   "execution_count": 12,
   "outputs": [
    {
     "name": "stdout",
     "output_type": "stream",
     "text": [
      "Found 3000 images belonging to 6 classes.\n"
     ]
    }
   ],
   "source": [
    "test_datagen = ImageDataGenerator(rescale = 1/255)\n",
    "test_set = test_datagen.flow_from_directory(test_path,\n",
    "                                            target_size = (64, 64),\n",
    "                                            class_mode = 'categorical')"
   ],
   "metadata": {
    "collapsed": false,
    "pycharm": {
     "name": "#%%\n"
    }
   }
  },
  {
   "cell_type": "code",
   "execution_count": 13,
   "outputs": [
    {
     "data": {
      "text/plain": "<keras.engine.sequential.Sequential at 0x1078014e0>"
     },
     "execution_count": 13,
     "metadata": {},
     "output_type": "execute_result"
    }
   ],
   "source": [
    "cnn = Sequential()\n",
    "cnn"
   ],
   "metadata": {
    "collapsed": false,
    "pycharm": {
     "name": "#%%\n"
    }
   }
  },
  {
   "cell_type": "code",
   "execution_count": 14,
   "outputs": [],
   "source": [
    "cnn.add(Convolution2D(filters=32, kernel_size=3, activation='relu'))\n",
    "cnn.add(MaxPooling2D(pool_size=(2,2)))\n",
    "cnn.add(Convolution2D(filters=32, kernel_size=3, activation='relu'))\n",
    "cnn.add(MaxPooling2D(pool_size=(2,2)))\n",
    "cnn.add(Flatten())\n",
    "cnn.add(Dense(units=256, activation='relu'))\n",
    "cnn.add(Dense(units=128, activation='relu'))\n",
    "cnn.add(Dense(units=64, activation='relu'))\n",
    "cnn.add(Dense(units=24, activation='relu'))\n",
    "cnn.add(Dense(units=6, activation='softmax'))"
   ],
   "metadata": {
    "collapsed": false,
    "pycharm": {
     "name": "#%%\n"
    }
   }
  },
  {
   "cell_type": "code",
   "execution_count": 15,
   "outputs": [],
   "source": [
    "cnn.compile(optimizer = 'adam', loss = 'categorical_crossentropy', metrics = ['accuracy'])"
   ],
   "metadata": {
    "collapsed": false,
    "pycharm": {
     "name": "#%%\n"
    }
   }
  },
  {
   "cell_type": "code",
   "execution_count": 16,
   "outputs": [
    {
     "name": "stdout",
     "output_type": "stream",
     "text": [
      "Epoch 1/17\n"
     ]
    },
    {
     "name": "stderr",
     "output_type": "stream",
     "text": [
      "2022-08-09 16:39:02.343250: I tensorflow/core/grappler/optimizers/custom_graph_optimizer_registry.cc:113] Plugin optimizer for device_type GPU is enabled.\n"
     ]
    },
    {
     "name": "stdout",
     "output_type": "stream",
     "text": [
      "438/439 [============================>.] - ETA: 0s - loss: 1.1627 - accuracy: 0.5371"
     ]
    },
    {
     "name": "stderr",
     "output_type": "stream",
     "text": [
      "2022-08-09 16:39:27.474067: I tensorflow/core/grappler/optimizers/custom_graph_optimizer_registry.cc:113] Plugin optimizer for device_type GPU is enabled.\n"
     ]
    },
    {
     "name": "stdout",
     "output_type": "stream",
     "text": [
      "439/439 [==============================] - 28s 63ms/step - loss: 1.1624 - accuracy: 0.5371 - val_loss: 0.8681 - val_accuracy: 0.6833\n",
      "Epoch 2/17\n",
      "439/439 [==============================] - 24s 54ms/step - loss: 0.8822 - accuracy: 0.6693 - val_loss: 0.7853 - val_accuracy: 0.7070\n",
      "Epoch 3/17\n",
      "439/439 [==============================] - 23s 53ms/step - loss: 0.7809 - accuracy: 0.7111 - val_loss: 0.9875 - val_accuracy: 0.6640\n",
      "Epoch 4/17\n",
      "439/439 [==============================] - 22s 50ms/step - loss: 0.7109 - accuracy: 0.7425 - val_loss: 0.6783 - val_accuracy: 0.7533\n",
      "Epoch 5/17\n",
      "439/439 [==============================] - 27s 61ms/step - loss: 0.6499 - accuracy: 0.7634 - val_loss: 0.6721 - val_accuracy: 0.7693\n",
      "Epoch 6/17\n",
      "439/439 [==============================] - 22s 51ms/step - loss: 0.6060 - accuracy: 0.7808 - val_loss: 0.5876 - val_accuracy: 0.7947\n",
      "Epoch 7/17\n",
      "439/439 [==============================] - 22s 51ms/step - loss: 0.5676 - accuracy: 0.7960 - val_loss: 0.6462 - val_accuracy: 0.7790\n",
      "Epoch 8/17\n",
      "439/439 [==============================] - 22s 51ms/step - loss: 0.5305 - accuracy: 0.8122 - val_loss: 0.5779 - val_accuracy: 0.8027\n",
      "Epoch 9/17\n",
      "439/439 [==============================] - 22s 50ms/step - loss: 0.5094 - accuracy: 0.8167 - val_loss: 0.5836 - val_accuracy: 0.8003\n",
      "Epoch 10/17\n",
      "439/439 [==============================] - 22s 51ms/step - loss: 0.4743 - accuracy: 0.8299 - val_loss: 0.5685 - val_accuracy: 0.7980\n",
      "Epoch 11/17\n",
      "439/439 [==============================] - 23s 52ms/step - loss: 0.4484 - accuracy: 0.8379 - val_loss: 0.5686 - val_accuracy: 0.8047\n",
      "Epoch 12/17\n",
      "439/439 [==============================] - 22s 51ms/step - loss: 0.4323 - accuracy: 0.8406 - val_loss: 0.7222 - val_accuracy: 0.7633\n",
      "Epoch 13/17\n",
      "439/439 [==============================] - 23s 52ms/step - loss: 0.3909 - accuracy: 0.8616 - val_loss: 0.6459 - val_accuracy: 0.7917\n",
      "Epoch 14/17\n",
      "439/439 [==============================] - 23s 53ms/step - loss: 0.3775 - accuracy: 0.8660 - val_loss: 0.6296 - val_accuracy: 0.7813\n",
      "Epoch 15/17\n",
      "439/439 [==============================] - 23s 52ms/step - loss: 0.3598 - accuracy: 0.8721 - val_loss: 0.6272 - val_accuracy: 0.7770\n",
      "Epoch 16/17\n",
      "439/439 [==============================] - 23s 51ms/step - loss: 0.3496 - accuracy: 0.8728 - val_loss: 0.6089 - val_accuracy: 0.8073\n",
      "Epoch 17/17\n",
      "439/439 [==============================] - 22s 51ms/step - loss: 0.3349 - accuracy: 0.8774 - val_loss: 0.5697 - val_accuracy: 0.8213\n",
      "CPU times: user 7min 26s, sys: 1min 5s, total: 8min 31s\n",
      "Wall time: 6min 34s\n"
     ]
    },
    {
     "data": {
      "text/plain": "<keras.callbacks.History at 0x14ffaf430>"
     },
     "execution_count": 16,
     "metadata": {},
     "output_type": "execute_result"
    }
   ],
   "source": [
    "%%time\n",
    "cnn.fit(training_set, steps_per_epoch= len(training_set), validation_data = test_set, validation_steps=len(test_set), epochs = 17)"
   ],
   "metadata": {
    "collapsed": false,
    "pycharm": {
     "name": "#%%\n"
    }
   }
  },
  {
   "cell_type": "code",
   "execution_count": 16,
   "outputs": [],
   "source": [],
   "metadata": {
    "collapsed": false,
    "pycharm": {
     "name": "#%%\n"
    }
   }
  }
 ],
 "metadata": {
  "kernelspec": {
   "display_name": "Python 3",
   "language": "python",
   "name": "python3"
  },
  "language_info": {
   "codemirror_mode": {
    "name": "ipython",
    "version": 2
   },
   "file_extension": ".py",
   "mimetype": "text/x-python",
   "name": "python",
   "nbconvert_exporter": "python",
   "pygments_lexer": "ipython2",
   "version": "2.7.6"
  }
 },
 "nbformat": 4,
 "nbformat_minor": 0
}
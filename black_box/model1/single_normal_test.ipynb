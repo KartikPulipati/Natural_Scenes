{
 "cells": [
  {
   "cell_type": "code",
   "execution_count": 1,
   "outputs": [],
   "source": [
    "import numpy as np\n",
    "import tensorflow as tf\n",
    "from keras.preprocessing.image import ImageDataGenerator\n",
    "from keras.models import Sequential\n",
    "from keras.layers import Convolution2D, MaxPooling2D, Flatten, Dense"
   ],
   "metadata": {
    "collapsed": false,
    "pycharm": {
     "name": "#%%\n"
    }
   }
  },
  {
   "cell_type": "code",
   "execution_count": 2,
   "outputs": [],
   "source": [
    "train_path = '../data/black_box_single/seg_train/'\n",
    "test_path = '../../normal/archive/seg_test'"
   ],
   "metadata": {
    "collapsed": false,
    "pycharm": {
     "name": "#%%\n"
    }
   }
  },
  {
   "cell_type": "code",
   "execution_count": 3,
   "outputs": [
    {
     "name": "stdout",
     "output_type": "stream",
     "text": [
      "Found 14034 images belonging to 6 classes.\n"
     ]
    }
   ],
   "source": [
    "train_datagen = ImageDataGenerator(\n",
    "                    rescale = 1/255,\n",
    "                    shear_range = 0.2,\n",
    "                    zoom_range = 0.2,\n",
    "                    horizontal_flip = True,\n",
    "                    vertical_flip = False)\n",
    "training_set = train_datagen.flow_from_directory(train_path,\n",
    "                                                 target_size = (64, 64),\n",
    "                                                 class_mode = 'categorical')"
   ],
   "metadata": {
    "collapsed": false,
    "pycharm": {
     "name": "#%%\n"
    }
   }
  },
  {
   "cell_type": "code",
   "execution_count": 4,
   "outputs": [
    {
     "name": "stdout",
     "output_type": "stream",
     "text": [
      "Found 3000 images belonging to 6 classes.\n"
     ]
    }
   ],
   "source": [
    "test_datagen = ImageDataGenerator(rescale = 1/255)\n",
    "test_set = test_datagen.flow_from_directory(test_path,\n",
    "                                            target_size = (64, 64),\n",
    "                                            class_mode = 'categorical')"
   ],
   "metadata": {
    "collapsed": false,
    "pycharm": {
     "name": "#%%\n"
    }
   }
  },
  {
   "cell_type": "code",
   "execution_count": 5,
   "outputs": [
    {
     "name": "stdout",
     "output_type": "stream",
     "text": [
      "Metal device set to: Apple M1\n"
     ]
    },
    {
     "name": "stderr",
     "output_type": "stream",
     "text": [
      "2022-09-05 11:48:27.347157: I tensorflow/core/common_runtime/pluggable_device/pluggable_device_factory.cc:305] Could not identify NUMA node of platform GPU ID 0, defaulting to 0. Your kernel may not have been built with NUMA support.\n",
      "2022-09-05 11:48:27.347377: I tensorflow/core/common_runtime/pluggable_device/pluggable_device_factory.cc:271] Created TensorFlow device (/job:localhost/replica:0/task:0/device:GPU:0 with 0 MB memory) -> physical PluggableDevice (device: 0, name: METAL, pci bus id: <undefined>)\n"
     ]
    },
    {
     "data": {
      "text/plain": "<keras.engine.sequential.Sequential at 0x28780e890>"
     },
     "execution_count": 5,
     "metadata": {},
     "output_type": "execute_result"
    }
   ],
   "source": [
    "cnn = Sequential()\n",
    "cnn"
   ],
   "metadata": {
    "collapsed": false,
    "pycharm": {
     "name": "#%%\n"
    }
   }
  },
  {
   "cell_type": "code",
   "execution_count": 6,
   "outputs": [],
   "source": [
    "cnn.add(Convolution2D(filters=32, kernel_size=3, activation='relu'))\n",
    "cnn.add(MaxPooling2D(pool_size=(2,2)))\n",
    "cnn.add(Convolution2D(filters=32, kernel_size=3, activation='relu'))\n",
    "cnn.add(MaxPooling2D(pool_size=(2,2)))\n",
    "cnn.add(Flatten())\n",
    "cnn.add(Dense(units=256, activation='relu'))\n",
    "cnn.add(Dense(units=128, activation='relu'))\n",
    "cnn.add(Dense(units=64, activation='relu'))\n",
    "cnn.add(Dense(units=24, activation='relu'))\n",
    "cnn.add(Dense(units=6, activation='softmax'))"
   ],
   "metadata": {
    "collapsed": false,
    "pycharm": {
     "name": "#%%\n"
    }
   }
  },
  {
   "cell_type": "code",
   "execution_count": 7,
   "outputs": [],
   "source": [
    "cnn.compile(optimizer = 'adam', loss = 'categorical_crossentropy', metrics = ['accuracy'])"
   ],
   "metadata": {
    "collapsed": false,
    "pycharm": {
     "name": "#%%\n"
    }
   }
  },
  {
   "cell_type": "code",
   "execution_count": 8,
   "outputs": [
    {
     "name": "stdout",
     "output_type": "stream",
     "text": [
      "Epoch 1/17\n"
     ]
    },
    {
     "name": "stderr",
     "output_type": "stream",
     "text": [
      "2022-09-05 11:48:30.405047: W tensorflow/core/platform/profile_utils/cpu_utils.cc:128] Failed to get CPU frequency: 0 Hz\n",
      "2022-09-05 11:48:30.953027: I tensorflow/core/grappler/optimizers/custom_graph_optimizer_registry.cc:113] Plugin optimizer for device_type GPU is enabled.\n"
     ]
    },
    {
     "name": "stdout",
     "output_type": "stream",
     "text": [
      "439/439 [==============================] - ETA: 0s - loss: 1.1212 - accuracy: 0.5592"
     ]
    },
    {
     "name": "stderr",
     "output_type": "stream",
     "text": [
      "2022-09-05 11:48:59.306832: I tensorflow/core/grappler/optimizers/custom_graph_optimizer_registry.cc:113] Plugin optimizer for device_type GPU is enabled.\n"
     ]
    },
    {
     "name": "stdout",
     "output_type": "stream",
     "text": [
      "439/439 [==============================] - 31s 62ms/step - loss: 1.1212 - accuracy: 0.5592 - val_loss: 0.8787 - val_accuracy: 0.6730\n",
      "Epoch 2/17\n",
      "439/439 [==============================] - 30s 69ms/step - loss: 0.8593 - accuracy: 0.6789 - val_loss: 0.7308 - val_accuracy: 0.7380\n",
      "Epoch 3/17\n",
      "439/439 [==============================] - 34s 77ms/step - loss: 0.7765 - accuracy: 0.7137 - val_loss: 0.6373 - val_accuracy: 0.7793\n",
      "Epoch 4/17\n",
      "439/439 [==============================] - 34s 76ms/step - loss: 0.7025 - accuracy: 0.7426 - val_loss: 0.6889 - val_accuracy: 0.7447\n",
      "Epoch 5/17\n",
      "439/439 [==============================] - 28s 63ms/step - loss: 0.6490 - accuracy: 0.7661 - val_loss: 0.7994 - val_accuracy: 0.7150\n",
      "Epoch 6/17\n",
      "439/439 [==============================] - 22s 50ms/step - loss: 0.6087 - accuracy: 0.7770 - val_loss: 0.6503 - val_accuracy: 0.7767\n",
      "Epoch 7/17\n",
      "439/439 [==============================] - 28s 64ms/step - loss: 0.5669 - accuracy: 0.7934 - val_loss: 0.5822 - val_accuracy: 0.7907\n",
      "Epoch 8/17\n",
      "439/439 [==============================] - 33s 75ms/step - loss: 0.5393 - accuracy: 0.8011 - val_loss: 0.6453 - val_accuracy: 0.7570\n",
      "Epoch 9/17\n",
      "439/439 [==============================] - 37s 85ms/step - loss: 0.5008 - accuracy: 0.8197 - val_loss: 0.5852 - val_accuracy: 0.7870\n",
      "Epoch 10/17\n",
      "439/439 [==============================] - 32s 73ms/step - loss: 0.4750 - accuracy: 0.8301 - val_loss: 0.6111 - val_accuracy: 0.7927\n",
      "Epoch 11/17\n",
      "439/439 [==============================] - 34s 77ms/step - loss: 0.4584 - accuracy: 0.8343 - val_loss: 0.6655 - val_accuracy: 0.7817\n",
      "Epoch 12/17\n",
      "439/439 [==============================] - 32s 73ms/step - loss: 0.4375 - accuracy: 0.8441 - val_loss: 0.6578 - val_accuracy: 0.7837\n",
      "Epoch 13/17\n",
      "439/439 [==============================] - 26s 59ms/step - loss: 0.4150 - accuracy: 0.8488 - val_loss: 0.6429 - val_accuracy: 0.7950\n",
      "Epoch 14/17\n",
      "439/439 [==============================] - 31s 71ms/step - loss: 0.3870 - accuracy: 0.8620 - val_loss: 0.8773 - val_accuracy: 0.7237\n",
      "Epoch 15/17\n",
      "439/439 [==============================] - 32s 73ms/step - loss: 0.3682 - accuracy: 0.8683 - val_loss: 0.5401 - val_accuracy: 0.8193\n",
      "Epoch 16/17\n",
      "439/439 [==============================] - 32s 73ms/step - loss: 0.3565 - accuracy: 0.8734 - val_loss: 0.6852 - val_accuracy: 0.7817\n",
      "Epoch 17/17\n",
      "439/439 [==============================] - 33s 75ms/step - loss: 0.3393 - accuracy: 0.8793 - val_loss: 0.6489 - val_accuracy: 0.7920\n",
      "CPU times: user 9min 42s, sys: 1min 27s, total: 11min 10s\n",
      "Wall time: 8min 53s\n"
     ]
    },
    {
     "data": {
      "text/plain": "<keras.callbacks.History at 0x289336f80>"
     },
     "execution_count": 8,
     "metadata": {},
     "output_type": "execute_result"
    }
   ],
   "source": [
    "%%time\n",
    "cnn.fit(training_set, steps_per_epoch= len(training_set), validation_data = test_set, validation_steps=len(test_set), epochs = 17)"
   ],
   "metadata": {
    "collapsed": false,
    "pycharm": {
     "name": "#%%\n"
    }
   }
  },
  {
   "cell_type": "code",
   "execution_count": 9,
   "outputs": [
    {
     "name": "stdout",
     "output_type": "stream",
     "text": [
      "94/94 - 2s - loss: 0.6489 - accuracy: 0.7920 - 2s/epoch - 25ms/step\n",
      "Accuracy of the model on the test set:  0.7919999957084656\n"
     ]
    }
   ],
   "source": [
    "accuracy=cnn.evaluate(test_set, steps=len(test_set),verbose=2)\n",
    "print('Accuracy of the model on the test set: ',accuracy[1])"
   ],
   "metadata": {
    "collapsed": false,
    "pycharm": {
     "name": "#%%\n"
    }
   }
  }
 ],
 "metadata": {
  "kernelspec": {
   "display_name": "Python 3",
   "language": "python",
   "name": "python3"
  },
  "language_info": {
   "codemirror_mode": {
    "name": "ipython",
    "version": 2
   },
   "file_extension": ".py",
   "mimetype": "text/x-python",
   "name": "python",
   "nbconvert_exporter": "python",
   "pygments_lexer": "ipython2",
   "version": "2.7.6"
  }
 },
 "nbformat": 4,
 "nbformat_minor": 0
}
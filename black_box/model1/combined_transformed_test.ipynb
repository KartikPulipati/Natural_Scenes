{
 "cells": [
  {
   "cell_type": "code",
   "execution_count": 1,
   "outputs": [],
   "source": [
    "import numpy as np\n",
    "import tensorflow as tf\n",
    "from keras.preprocessing.image import ImageDataGenerator\n",
    "from keras.models import Sequential\n",
    "from keras.layers import Convolution2D, MaxPooling2D, Flatten, Dense"
   ],
   "metadata": {
    "collapsed": false,
    "pycharm": {
     "name": "#%%\n"
    }
   }
  },
  {
   "cell_type": "code",
   "execution_count": 2,
   "outputs": [],
   "source": [
    "train_path = '../data/black_box_combined/seg_train/'\n",
    "test_path = '../data/black_box_combined/seg_test/'"
   ],
   "metadata": {
    "collapsed": false,
    "pycharm": {
     "name": "#%%\n"
    }
   }
  },
  {
   "cell_type": "code",
   "execution_count": 3,
   "outputs": [
    {
     "name": "stdout",
     "output_type": "stream",
     "text": [
      "Found 28068 images belonging to 6 classes.\n"
     ]
    }
   ],
   "source": [
    "train_datagen = ImageDataGenerator(\n",
    "                    rescale = 1/255,\n",
    "                    shear_range = 0.2,\n",
    "                    zoom_range = 0.2,\n",
    "                    horizontal_flip = True,\n",
    "                    vertical_flip = False)\n",
    "training_set = train_datagen.flow_from_directory(train_path,\n",
    "                                                   target_size = (64, 64),\n",
    "                                                 class_mode = 'categorical')"
   ],
   "metadata": {
    "collapsed": false,
    "pycharm": {
     "name": "#%%\n"
    }
   }
  },
  {
   "cell_type": "code",
   "execution_count": 4,
   "outputs": [
    {
     "name": "stdout",
     "output_type": "stream",
     "text": [
      "Found 6000 images belonging to 6 classes.\n"
     ]
    }
   ],
   "source": [
    "test_datagen = ImageDataGenerator(rescale = 1/255)\n",
    "test_set = test_datagen.flow_from_directory(test_path,\n",
    "                                            target_size = (64, 64),\n",
    "                                            class_mode = 'categorical')"
   ],
   "metadata": {
    "collapsed": false,
    "pycharm": {
     "name": "#%%\n"
    }
   }
  },
  {
   "cell_type": "code",
   "execution_count": 5,
   "outputs": [
    {
     "name": "stdout",
     "output_type": "stream",
     "text": [
      "Metal device set to: Apple M1\n"
     ]
    },
    {
     "name": "stderr",
     "output_type": "stream",
     "text": [
      "2022-09-05 11:15:10.516859: I tensorflow/core/common_runtime/pluggable_device/pluggable_device_factory.cc:305] Could not identify NUMA node of platform GPU ID 0, defaulting to 0. Your kernel may not have been built with NUMA support.\n",
      "2022-09-05 11:15:10.517001: I tensorflow/core/common_runtime/pluggable_device/pluggable_device_factory.cc:271] Created TensorFlow device (/job:localhost/replica:0/task:0/device:GPU:0 with 0 MB memory) -> physical PluggableDevice (device: 0, name: METAL, pci bus id: <undefined>)\n"
     ]
    },
    {
     "data": {
      "text/plain": "<keras.engine.sequential.Sequential at 0x287156680>"
     },
     "execution_count": 5,
     "metadata": {},
     "output_type": "execute_result"
    }
   ],
   "source": [
    "cnn = Sequential()\n",
    "cnn"
   ],
   "metadata": {
    "collapsed": false,
    "pycharm": {
     "name": "#%%\n"
    }
   }
  },
  {
   "cell_type": "code",
   "execution_count": 6,
   "outputs": [],
   "source": [
    "cnn.add(Convolution2D(filters=32, kernel_size=3, activation='relu'))\n",
    "cnn.add(MaxPooling2D(pool_size=(2,2)))\n",
    "cnn.add(Convolution2D(filters=32, kernel_size=3, activation='relu'))\n",
    "cnn.add(MaxPooling2D(pool_size=(2,2)))\n",
    "cnn.add(Flatten())\n",
    "cnn.add(Dense(units=256, activation='relu'))\n",
    "cnn.add(Dense(units=128, activation='relu'))\n",
    "cnn.add(Dense(units=64, activation='relu'))\n",
    "cnn.add(Dense(units=24, activation='relu'))\n",
    "cnn.add(Dense(units=6, activation='softmax'))"
   ],
   "metadata": {
    "collapsed": false,
    "pycharm": {
     "name": "#%%\n"
    }
   }
  },
  {
   "cell_type": "code",
   "execution_count": 7,
   "outputs": [],
   "source": [
    "cnn.compile(optimizer = 'adam', loss = 'categorical_crossentropy', metrics = ['accuracy'])"
   ],
   "metadata": {
    "collapsed": false,
    "pycharm": {
     "name": "#%%\n"
    }
   }
  },
  {
   "cell_type": "code",
   "execution_count": 8,
   "outputs": [
    {
     "name": "stdout",
     "output_type": "stream",
     "text": [
      "Epoch 1/17\n"
     ]
    },
    {
     "name": "stderr",
     "output_type": "stream",
     "text": [
      "2022-09-05 11:15:12.731954: W tensorflow/core/platform/profile_utils/cpu_utils.cc:128] Failed to get CPU frequency: 0 Hz\n",
      "2022-09-05 11:15:13.321438: I tensorflow/core/grappler/optimizers/custom_graph_optimizer_registry.cc:113] Plugin optimizer for device_type GPU is enabled.\n"
     ]
    },
    {
     "name": "stdout",
     "output_type": "stream",
     "text": [
      "878/878 [==============================] - ETA: 0s - loss: 1.0076 - accuracy: 0.6099"
     ]
    },
    {
     "name": "stderr",
     "output_type": "stream",
     "text": [
      "2022-09-05 11:16:17.331470: I tensorflow/core/grappler/optimizers/custom_graph_optimizer_registry.cc:113] Plugin optimizer for device_type GPU is enabled.\n"
     ]
    },
    {
     "name": "stdout",
     "output_type": "stream",
     "text": [
      "878/878 [==============================] - 71s 76ms/step - loss: 1.0076 - accuracy: 0.6099 - val_loss: 0.8859 - val_accuracy: 0.6687\n",
      "Epoch 2/17\n",
      "878/878 [==============================] - 54s 61ms/step - loss: 0.7348 - accuracy: 0.7308 - val_loss: 0.6468 - val_accuracy: 0.7637\n",
      "Epoch 3/17\n",
      "878/878 [==============================] - 47s 53ms/step - loss: 0.6262 - accuracy: 0.7705 - val_loss: 0.6189 - val_accuracy: 0.7842\n",
      "Epoch 4/17\n",
      "878/878 [==============================] - 47s 53ms/step - loss: 0.5576 - accuracy: 0.7996 - val_loss: 0.6021 - val_accuracy: 0.7922\n",
      "Epoch 5/17\n",
      "878/878 [==============================] - 51s 58ms/step - loss: 0.5077 - accuracy: 0.8137 - val_loss: 0.5759 - val_accuracy: 0.8065\n",
      "Epoch 6/17\n",
      "878/878 [==============================] - 58s 66ms/step - loss: 0.4612 - accuracy: 0.8322 - val_loss: 0.6419 - val_accuracy: 0.7793\n",
      "Epoch 7/17\n",
      "878/878 [==============================] - 68s 77ms/step - loss: 0.4377 - accuracy: 0.8385 - val_loss: 0.6362 - val_accuracy: 0.7857\n",
      "Epoch 8/17\n",
      "878/878 [==============================] - 67s 76ms/step - loss: 0.3991 - accuracy: 0.8534 - val_loss: 0.6058 - val_accuracy: 0.7908\n",
      "Epoch 9/17\n",
      "878/878 [==============================] - 66s 75ms/step - loss: 0.3643 - accuracy: 0.8669 - val_loss: 0.7026 - val_accuracy: 0.7847\n",
      "Epoch 10/17\n",
      "878/878 [==============================] - 68s 77ms/step - loss: 0.3414 - accuracy: 0.8754 - val_loss: 0.6574 - val_accuracy: 0.7847\n",
      "Epoch 11/17\n",
      "878/878 [==============================] - 67s 76ms/step - loss: 0.3186 - accuracy: 0.8840 - val_loss: 0.6766 - val_accuracy: 0.7947\n",
      "Epoch 12/17\n",
      "878/878 [==============================] - 67s 76ms/step - loss: 0.2994 - accuracy: 0.8909 - val_loss: 0.6557 - val_accuracy: 0.7967\n",
      "Epoch 13/17\n",
      "878/878 [==============================] - 55s 62ms/step - loss: 0.2730 - accuracy: 0.8996 - val_loss: 0.7120 - val_accuracy: 0.8053\n",
      "Epoch 14/17\n",
      "878/878 [==============================] - 50s 57ms/step - loss: 0.2581 - accuracy: 0.9045 - val_loss: 0.6464 - val_accuracy: 0.8130\n",
      "Epoch 15/17\n",
      "878/878 [==============================] - 64s 73ms/step - loss: 0.2433 - accuracy: 0.9118 - val_loss: 0.6663 - val_accuracy: 0.8100\n",
      "Epoch 16/17\n",
      "878/878 [==============================] - 58s 66ms/step - loss: 0.2329 - accuracy: 0.9157 - val_loss: 0.7091 - val_accuracy: 0.8008\n",
      "Epoch 17/17\n",
      "878/878 [==============================] - 60s 68ms/step - loss: 0.2145 - accuracy: 0.9204 - val_loss: 0.8047 - val_accuracy: 0.7835\n",
      "CPU times: user 18min 29s, sys: 2min 46s, total: 21min 16s\n",
      "Wall time: 16min 57s\n"
     ]
    },
    {
     "data": {
      "text/plain": "<keras.callbacks.History at 0x28889b5e0>"
     },
     "execution_count": 8,
     "metadata": {},
     "output_type": "execute_result"
    }
   ],
   "source": [
    "%%time\n",
    "cnn.fit(training_set, steps_per_epoch= len(training_set), validation_data = test_set, validation_steps=len(test_set), epochs = 17)"
   ],
   "metadata": {
    "collapsed": false,
    "pycharm": {
     "name": "#%%\n"
    }
   }
  },
  {
   "cell_type": "code",
   "execution_count": 9,
   "outputs": [
    {
     "name": "stdout",
     "output_type": "stream",
     "text": [
      "188/188 - 5s - loss: 0.8047 - accuracy: 0.7835 - 5s/epoch - 28ms/step\n",
      "Accuracy of the model on the test set:  0.7835000157356262\n"
     ]
    }
   ],
   "source": [
    "accuracy=cnn.evaluate(test_set, steps=len(test_set),verbose=2)\n",
    "print('Accuracy of the model on the test set: ',accuracy[1])"
   ],
   "metadata": {
    "collapsed": false,
    "pycharm": {
     "name": "#%%\n"
    }
   }
  }
 ],
 "metadata": {
  "kernelspec": {
   "display_name": "Python 3",
   "language": "python",
   "name": "python3"
  },
  "language_info": {
   "codemirror_mode": {
    "name": "ipython",
    "version": 2
   },
   "file_extension": ".py",
   "mimetype": "text/x-python",
   "name": "python",
   "nbconvert_exporter": "python",
   "pygments_lexer": "ipython2",
   "version": "2.7.6"
  }
 },
 "nbformat": 4,
 "nbformat_minor": 0
}
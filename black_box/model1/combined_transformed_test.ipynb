{
 "cells": [
  {
   "cell_type": "code",
   "execution_count": 1,
   "outputs": [],
   "source": [
    "import numpy as np\n",
    "import tensorflow as tf\n",
    "from tensorflow.keras.preprocessing.image import ImageDataGenerator\n",
    "from tensorflow.keras.models import Sequential\n",
    "from tensorflow.keras.layers import Convolution2D, MaxPooling2D, Flatten, Dense"
   ],
   "metadata": {
    "collapsed": false,
    "pycharm": {
     "name": "#%%\n"
    }
   }
  },
  {
   "cell_type": "code",
   "execution_count": 2,
   "outputs": [],
   "source": [
    "train_path = '../data/black_box_combined/seg_train/'\n",
    "test_path = '../data/black_box_combined/seg_test/'"
   ],
   "metadata": {
    "collapsed": false,
    "pycharm": {
     "name": "#%%\n"
    }
   }
  },
  {
   "cell_type": "code",
   "execution_count": 3,
   "outputs": [
    {
     "name": "stdout",
     "output_type": "stream",
     "text": [
      "Found 28068 images belonging to 6 classes.\n"
     ]
    }
   ],
   "source": [
    "train_datagen = ImageDataGenerator(\n",
    "                    rescale = 1/255,\n",
    "                    shear_range = 0.2,\n",
    "                    zoom_range = 0.2,\n",
    "                    horizontal_flip = True,\n",
    "                    vertical_flip = False)\n",
    "training_set = train_datagen.flow_from_directory(train_path,\n",
    "                                                   target_size = (64, 64),\n",
    "                                                 class_mode = 'categorical')"
   ],
   "metadata": {
    "collapsed": false,
    "pycharm": {
     "name": "#%%\n"
    }
   }
  },
  {
   "cell_type": "code",
   "execution_count": 4,
   "outputs": [
    {
     "name": "stdout",
     "output_type": "stream",
     "text": [
      "Found 6000 images belonging to 6 classes.\n"
     ]
    }
   ],
   "source": [
    "test_datagen = ImageDataGenerator(rescale = 1/255)\n",
    "test_set = test_datagen.flow_from_directory(test_path,\n",
    "                                            target_size = (64, 64),\n",
    "                                            class_mode = 'categorical')"
   ],
   "metadata": {
    "collapsed": false,
    "pycharm": {
     "name": "#%%\n"
    }
   }
  },
  {
   "cell_type": "code",
   "execution_count": 5,
   "outputs": [
    {
     "name": "stdout",
     "output_type": "stream",
     "text": [
      "Metal device set to: Apple M1\n"
     ]
    },
    {
     "name": "stderr",
     "output_type": "stream",
     "text": [
      "2022-08-08 12:29:07.479650: I tensorflow/core/common_runtime/pluggable_device/pluggable_device_factory.cc:305] Could not identify NUMA node of platform GPU ID 0, defaulting to 0. Your kernel may not have been built with NUMA support.\n",
      "2022-08-08 12:29:07.479775: I tensorflow/core/common_runtime/pluggable_device/pluggable_device_factory.cc:271] Created TensorFlow device (/job:localhost/replica:0/task:0/device:GPU:0 with 0 MB memory) -> physical PluggableDevice (device: 0, name: METAL, pci bus id: <undefined>)\n"
     ]
    },
    {
     "data": {
      "text/plain": "<keras.engine.sequential.Sequential at 0x1081014e0>"
     },
     "execution_count": 5,
     "metadata": {},
     "output_type": "execute_result"
    }
   ],
   "source": [
    "cnn = Sequential()\n",
    "cnn"
   ],
   "metadata": {
    "collapsed": false,
    "pycharm": {
     "name": "#%%\n"
    }
   }
  },
  {
   "cell_type": "code",
   "execution_count": 6,
   "outputs": [],
   "source": [
    "cnn.add(Convolution2D(filters=32, kernel_size=3, activation='relu'))\n",
    "cnn.add(MaxPooling2D(pool_size=(2,2)))\n",
    "cnn.add(Convolution2D(filters=32, kernel_size=3, activation='relu'))\n",
    "cnn.add(MaxPooling2D(pool_size=(2,2)))\n",
    "cnn.add(Flatten())\n",
    "cnn.add(Dense(units=256, activation='relu'))\n",
    "cnn.add(Dense(units=128, activation='relu'))\n",
    "cnn.add(Dense(units=64, activation='relu'))\n",
    "cnn.add(Dense(units=24, activation='relu'))\n",
    "cnn.add(Dense(units=6, activation='softmax'))"
   ],
   "metadata": {
    "collapsed": false,
    "pycharm": {
     "name": "#%%\n"
    }
   }
  },
  {
   "cell_type": "code",
   "execution_count": 7,
   "outputs": [],
   "source": [
    "cnn.compile(optimizer = 'adam', loss = 'categorical_crossentropy', metrics = ['accuracy'])"
   ],
   "metadata": {
    "collapsed": false,
    "pycharm": {
     "name": "#%%\n"
    }
   }
  },
  {
   "cell_type": "code",
   "execution_count": 8,
   "outputs": [
    {
     "name": "stdout",
     "output_type": "stream",
     "text": [
      "Epoch 1/17\n"
     ]
    },
    {
     "name": "stderr",
     "output_type": "stream",
     "text": [
      "2022-08-08 12:29:07.772603: W tensorflow/core/platform/profile_utils/cpu_utils.cc:128] Failed to get CPU frequency: 0 Hz\n",
      "2022-08-08 12:29:08.175935: I tensorflow/core/grappler/optimizers/custom_graph_optimizer_registry.cc:113] Plugin optimizer for device_type GPU is enabled.\n"
     ]
    },
    {
     "name": "stdout",
     "output_type": "stream",
     "text": [
      "878/878 [==============================] - ETA: 0s - loss: 0.9904 - accuracy: 0.6139"
     ]
    },
    {
     "name": "stderr",
     "output_type": "stream",
     "text": [
      "2022-08-08 12:30:07.483046: I tensorflow/core/grappler/optimizers/custom_graph_optimizer_registry.cc:113] Plugin optimizer for device_type GPU is enabled.\n"
     ]
    },
    {
     "name": "stdout",
     "output_type": "stream",
     "text": [
      "878/878 [==============================] - 65s 73ms/step - loss: 0.9904 - accuracy: 0.6139 - val_loss: 0.7634 - val_accuracy: 0.7135\n",
      "Epoch 2/17\n",
      "878/878 [==============================] - 60s 69ms/step - loss: 0.7128 - accuracy: 0.7372 - val_loss: 0.6467 - val_accuracy: 0.7668\n",
      "Epoch 3/17\n",
      "878/878 [==============================] - 66s 76ms/step - loss: 0.6070 - accuracy: 0.7793 - val_loss: 0.5872 - val_accuracy: 0.7843\n",
      "Epoch 4/17\n",
      "878/878 [==============================] - 60s 68ms/step - loss: 0.5393 - accuracy: 0.8044 - val_loss: 0.5629 - val_accuracy: 0.7962\n",
      "Epoch 5/17\n",
      "878/878 [==============================] - 61s 70ms/step - loss: 0.4826 - accuracy: 0.8236 - val_loss: 0.5671 - val_accuracy: 0.8108\n",
      "Epoch 6/17\n",
      "878/878 [==============================] - 59s 67ms/step - loss: 0.4421 - accuracy: 0.8392 - val_loss: 0.5883 - val_accuracy: 0.7905\n",
      "Epoch 7/17\n",
      "878/878 [==============================] - 60s 69ms/step - loss: 0.3958 - accuracy: 0.8541 - val_loss: 0.5989 - val_accuracy: 0.7800\n",
      "Epoch 8/17\n",
      "878/878 [==============================] - 64s 73ms/step - loss: 0.3684 - accuracy: 0.8678 - val_loss: 0.5842 - val_accuracy: 0.8052\n",
      "Epoch 9/17\n",
      "878/878 [==============================] - 62s 70ms/step - loss: 0.3470 - accuracy: 0.8737 - val_loss: 0.5845 - val_accuracy: 0.8112\n",
      "Epoch 10/17\n",
      "878/878 [==============================] - 61s 70ms/step - loss: 0.3207 - accuracy: 0.8840 - val_loss: 0.5911 - val_accuracy: 0.8097\n",
      "Epoch 11/17\n",
      "878/878 [==============================] - 63s 72ms/step - loss: 0.2946 - accuracy: 0.8952 - val_loss: 0.6652 - val_accuracy: 0.7968\n",
      "Epoch 12/17\n",
      "878/878 [==============================] - 63s 71ms/step - loss: 0.2790 - accuracy: 0.8973 - val_loss: 0.7471 - val_accuracy: 0.7782\n",
      "Epoch 13/17\n",
      "878/878 [==============================] - 62s 71ms/step - loss: 0.2554 - accuracy: 0.9073 - val_loss: 0.6990 - val_accuracy: 0.8017\n",
      "Epoch 14/17\n",
      "878/878 [==============================] - 62s 70ms/step - loss: 0.2406 - accuracy: 0.9134 - val_loss: 0.6684 - val_accuracy: 0.8038\n",
      "Epoch 15/17\n",
      "878/878 [==============================] - 64s 72ms/step - loss: 0.2214 - accuracy: 0.9203 - val_loss: 0.7083 - val_accuracy: 0.8043\n",
      "Epoch 16/17\n",
      "878/878 [==============================] - 63s 72ms/step - loss: 0.2070 - accuracy: 0.9243 - val_loss: 0.7733 - val_accuracy: 0.7952\n",
      "Epoch 17/17\n",
      "878/878 [==============================] - 56s 63ms/step - loss: 0.1950 - accuracy: 0.9314 - val_loss: 0.7305 - val_accuracy: 0.8083\n",
      "CPU times: user 21min 3s, sys: 3min 13s, total: 24min 16s\n",
      "Wall time: 17min 31s\n"
     ]
    },
    {
     "data": {
      "text/plain": "<keras.callbacks.History at 0x17ff067a0>"
     },
     "execution_count": 8,
     "metadata": {},
     "output_type": "execute_result"
    }
   ],
   "source": [
    "%%time\n",
    "cnn.fit(training_set, steps_per_epoch= len(training_set), validation_data = test_set, validation_steps=len(test_set), epochs = 17)"
   ],
   "metadata": {
    "collapsed": false,
    "pycharm": {
     "name": "#%%\n"
    }
   }
  },
  {
   "cell_type": "code",
   "execution_count": 8,
   "outputs": [],
   "source": [],
   "metadata": {
    "collapsed": false,
    "pycharm": {
     "name": "#%%\n"
    }
   }
  }
 ],
 "metadata": {
  "kernelspec": {
   "display_name": "Python 3",
   "language": "python",
   "name": "python3"
  },
  "language_info": {
   "codemirror_mode": {
    "name": "ipython",
    "version": 2
   },
   "file_extension": ".py",
   "mimetype": "text/x-python",
   "name": "python",
   "nbconvert_exporter": "python",
   "pygments_lexer": "ipython2",
   "version": "2.7.6"
  }
 },
 "nbformat": 4,
 "nbformat_minor": 0
}
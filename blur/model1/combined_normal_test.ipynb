{
 "cells": [
  {
   "cell_type": "code",
   "execution_count": 1,
   "outputs": [],
   "source": [
    "import numpy as np\n",
    "import tensorflow as tf\n",
    "from keras.preprocessing.image import ImageDataGenerator\n",
    "from keras.models import Sequential\n",
    "from keras.layers import Convolution2D, MaxPooling2D, Flatten, Dense"
   ],
   "metadata": {
    "collapsed": false,
    "pycharm": {
     "name": "#%%\n"
    }
   }
  },
  {
   "cell_type": "code",
   "execution_count": 2,
   "outputs": [],
   "source": [
    "train_path = '../data/blur_combined/seg_train/'\n",
    "test_path = '../../normal/archive/seg_test/'"
   ],
   "metadata": {
    "collapsed": false,
    "pycharm": {
     "name": "#%%\n"
    }
   }
  },
  {
   "cell_type": "code",
   "execution_count": 3,
   "outputs": [
    {
     "name": "stdout",
     "output_type": "stream",
     "text": [
      "Found 28068 images belonging to 6 classes.\n"
     ]
    }
   ],
   "source": [
    "train_datagen = ImageDataGenerator(\n",
    "                    rescale = 1/255,\n",
    "                    shear_range = 0.2,\n",
    "                    zoom_range = 0.2,\n",
    "                    horizontal_flip = True,\n",
    "                    vertical_flip = False)\n",
    "training_set = train_datagen.flow_from_directory(train_path,\n",
    "                                                 target_size = (64, 64),\n",
    "                                                 class_mode = 'categorical')"
   ],
   "metadata": {
    "collapsed": false,
    "pycharm": {
     "name": "#%%\n"
    }
   }
  },
  {
   "cell_type": "code",
   "execution_count": 4,
   "outputs": [
    {
     "name": "stdout",
     "output_type": "stream",
     "text": [
      "Found 3000 images belonging to 6 classes.\n"
     ]
    }
   ],
   "source": [
    "test_datagen = ImageDataGenerator(rescale = 1/255)\n",
    "test_set = test_datagen.flow_from_directory(test_path,\n",
    "                                            target_size = (64, 64),\n",
    "                                            class_mode = 'categorical')"
   ],
   "metadata": {
    "collapsed": false,
    "pycharm": {
     "name": "#%%\n"
    }
   }
  },
  {
   "cell_type": "code",
   "execution_count": 5,
   "outputs": [
    {
     "name": "stdout",
     "output_type": "stream",
     "text": [
      "Metal device set to: Apple M1\n"
     ]
    },
    {
     "name": "stderr",
     "output_type": "stream",
     "text": [
      "2022-09-05 10:01:57.490271: I tensorflow/core/common_runtime/pluggable_device/pluggable_device_factory.cc:305] Could not identify NUMA node of platform GPU ID 0, defaulting to 0. Your kernel may not have been built with NUMA support.\n",
      "2022-09-05 10:01:57.490437: I tensorflow/core/common_runtime/pluggable_device/pluggable_device_factory.cc:271] Created TensorFlow device (/job:localhost/replica:0/task:0/device:GPU:0 with 0 MB memory) -> physical PluggableDevice (device: 0, name: METAL, pci bus id: <undefined>)\n"
     ]
    },
    {
     "data": {
      "text/plain": "<keras.engine.sequential.Sequential at 0x2814b3be0>"
     },
     "execution_count": 5,
     "metadata": {},
     "output_type": "execute_result"
    }
   ],
   "source": [
    "cnn = Sequential()\n",
    "cnn"
   ],
   "metadata": {
    "collapsed": false,
    "pycharm": {
     "name": "#%%\n"
    }
   }
  },
  {
   "cell_type": "code",
   "execution_count": 6,
   "outputs": [],
   "source": [
    "cnn.add(Convolution2D(filters=32, kernel_size=3, activation='relu'))\n",
    "cnn.add(MaxPooling2D(pool_size=(2,2)))\n",
    "cnn.add(Convolution2D(filters=32, kernel_size=3, activation='relu'))\n",
    "cnn.add(MaxPooling2D(pool_size=(2,2)))\n",
    "cnn.add(Flatten())\n",
    "cnn.add(Dense(units=256, activation='relu'))\n",
    "cnn.add(Dense(units=128, activation='relu'))\n",
    "cnn.add(Dense(units=64, activation='relu'))\n",
    "cnn.add(Dense(units=24, activation='relu'))\n",
    "cnn.add(Dense(units=6, activation='softmax'))"
   ],
   "metadata": {
    "collapsed": false,
    "pycharm": {
     "name": "#%%\n"
    }
   }
  },
  {
   "cell_type": "code",
   "execution_count": 7,
   "outputs": [],
   "source": [
    "cnn.compile(optimizer = 'adam', loss = 'categorical_crossentropy', metrics = ['accuracy'])"
   ],
   "metadata": {
    "collapsed": false,
    "pycharm": {
     "name": "#%%\n"
    }
   }
  },
  {
   "cell_type": "code",
   "execution_count": 8,
   "outputs": [
    {
     "name": "stdout",
     "output_type": "stream",
     "text": [
      "Epoch 1/17\n"
     ]
    },
    {
     "name": "stderr",
     "output_type": "stream",
     "text": [
      "2022-09-05 10:01:57.816919: W tensorflow/core/platform/profile_utils/cpu_utils.cc:128] Failed to get CPU frequency: 0 Hz\n",
      "2022-09-05 10:01:58.318012: I tensorflow/core/grappler/optimizers/custom_graph_optimizer_registry.cc:113] Plugin optimizer for device_type GPU is enabled.\n"
     ]
    },
    {
     "name": "stdout",
     "output_type": "stream",
     "text": [
      "878/878 [==============================] - ETA: 0s - loss: 0.9982 - accuracy: 0.6142"
     ]
    },
    {
     "name": "stderr",
     "output_type": "stream",
     "text": [
      "2022-09-05 10:03:04.003710: I tensorflow/core/grappler/optimizers/custom_graph_optimizer_registry.cc:113] Plugin optimizer for device_type GPU is enabled.\n"
     ]
    },
    {
     "name": "stdout",
     "output_type": "stream",
     "text": [
      "878/878 [==============================] - 69s 78ms/step - loss: 0.9982 - accuracy: 0.6142 - val_loss: 0.8605 - val_accuracy: 0.6833\n",
      "Epoch 2/17\n",
      "878/878 [==============================] - 66s 75ms/step - loss: 0.7479 - accuracy: 0.7219 - val_loss: 0.6712 - val_accuracy: 0.7553\n",
      "Epoch 3/17\n",
      "878/878 [==============================] - 53s 61ms/step - loss: 0.6433 - accuracy: 0.7663 - val_loss: 0.6377 - val_accuracy: 0.7700\n",
      "Epoch 4/17\n",
      "878/878 [==============================] - 53s 61ms/step - loss: 0.5767 - accuracy: 0.7910 - val_loss: 0.5718 - val_accuracy: 0.7923\n",
      "Epoch 5/17\n",
      "878/878 [==============================] - 50s 57ms/step - loss: 0.5155 - accuracy: 0.8141 - val_loss: 0.5666 - val_accuracy: 0.7947\n",
      "Epoch 6/17\n",
      "878/878 [==============================] - 53s 60ms/step - loss: 0.4737 - accuracy: 0.8304 - val_loss: 0.6293 - val_accuracy: 0.7880\n",
      "Epoch 7/17\n",
      "878/878 [==============================] - 50s 57ms/step - loss: 0.4330 - accuracy: 0.8440 - val_loss: 0.6120 - val_accuracy: 0.7790\n",
      "Epoch 8/17\n",
      "878/878 [==============================] - 50s 57ms/step - loss: 0.4003 - accuracy: 0.8548 - val_loss: 0.7312 - val_accuracy: 0.7543\n",
      "Epoch 9/17\n",
      "878/878 [==============================] - 48s 55ms/step - loss: 0.3735 - accuracy: 0.8654 - val_loss: 0.5869 - val_accuracy: 0.7967\n",
      "Epoch 10/17\n",
      "878/878 [==============================] - 47s 54ms/step - loss: 0.3394 - accuracy: 0.8770 - val_loss: 0.6020 - val_accuracy: 0.8037\n",
      "Epoch 11/17\n",
      "878/878 [==============================] - 47s 54ms/step - loss: 0.3245 - accuracy: 0.8815 - val_loss: 0.5911 - val_accuracy: 0.8123\n",
      "Epoch 12/17\n",
      "878/878 [==============================] - 48s 55ms/step - loss: 0.2948 - accuracy: 0.8926 - val_loss: 0.6910 - val_accuracy: 0.8083\n",
      "Epoch 13/17\n",
      "878/878 [==============================] - 49s 55ms/step - loss: 0.2763 - accuracy: 0.9002 - val_loss: 0.6242 - val_accuracy: 0.8123\n",
      "Epoch 14/17\n",
      "878/878 [==============================] - 51s 58ms/step - loss: 0.2577 - accuracy: 0.9065 - val_loss: 0.6537 - val_accuracy: 0.7957\n",
      "Epoch 15/17\n",
      "878/878 [==============================] - 52s 59ms/step - loss: 0.2434 - accuracy: 0.9118 - val_loss: 0.6767 - val_accuracy: 0.7993\n",
      "Epoch 16/17\n",
      "878/878 [==============================] - 52s 60ms/step - loss: 0.2328 - accuracy: 0.9170 - val_loss: 0.6771 - val_accuracy: 0.8137\n",
      "Epoch 17/17\n",
      "878/878 [==============================] - 52s 60ms/step - loss: 0.2156 - accuracy: 0.9238 - val_loss: 0.6853 - val_accuracy: 0.8083\n",
      "CPU times: user 16min 5s, sys: 2min 29s, total: 18min 34s\n",
      "Wall time: 14min 52s\n"
     ]
    },
    {
     "data": {
      "text/plain": "<keras.callbacks.History at 0x28390f610>"
     },
     "execution_count": 8,
     "metadata": {},
     "output_type": "execute_result"
    }
   ],
   "source": [
    "%%time\n",
    "cnn.fit(training_set, steps_per_epoch= len(training_set), validation_data = test_set, validation_steps=len(test_set), epochs = 17)"
   ],
   "metadata": {
    "collapsed": false,
    "pycharm": {
     "name": "#%%\n"
    }
   }
  },
  {
   "cell_type": "code",
   "execution_count": 9,
   "outputs": [
    {
     "name": "stdout",
     "output_type": "stream",
     "text": [
      "94/94 - 2s - loss: 0.6853 - accuracy: 0.8083 - 2s/epoch - 19ms/step\n",
      "Accuracy of the model on the test set:  0.8083333373069763\n"
     ]
    }
   ],
   "source": [
    "accuracy = cnn.evaluate(test_set, steps=len(test_set), verbose=2)\n",
    "print('Accuracy of the model on the test set: ', accuracy[1])"
   ],
   "metadata": {
    "collapsed": false,
    "pycharm": {
     "name": "#%%\n"
    }
   }
  }
 ],
 "metadata": {
  "kernelspec": {
   "display_name": "Python 3",
   "language": "python",
   "name": "python3"
  },
  "language_info": {
   "codemirror_mode": {
    "name": "ipython",
    "version": 2
   },
   "file_extension": ".py",
   "mimetype": "text/x-python",
   "name": "python",
   "nbconvert_exporter": "python",
   "pygments_lexer": "ipython2",
   "version": "2.7.6"
  }
 },
 "nbformat": 4,
 "nbformat_minor": 0
}
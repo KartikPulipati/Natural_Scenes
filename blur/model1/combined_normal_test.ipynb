{
 "cells": [
  {
   "cell_type": "code",
   "execution_count": 1,
   "outputs": [],
   "source": [
    "import numpy as np\n",
    "import tensorflow as tf\n",
    "from tensorflow.keras.preprocessing.image import ImageDataGenerator\n",
    "from tensorflow.keras.models import Sequential\n",
    "from tensorflow.keras.layers import Convolution2D, MaxPooling2D, Flatten, Dense"
   ],
   "metadata": {
    "collapsed": false,
    "pycharm": {
     "name": "#%%\n"
    }
   }
  },
  {
   "cell_type": "code",
   "execution_count": 2,
   "outputs": [],
   "source": [
    "train_path = '../data/blur_combined/seg_train/'\n",
    "test_path = '../../normal/archive/seg_test/'"
   ],
   "metadata": {
    "collapsed": false,
    "pycharm": {
     "name": "#%%\n"
    }
   }
  },
  {
   "cell_type": "code",
   "execution_count": 3,
   "outputs": [
    {
     "name": "stdout",
     "output_type": "stream",
     "text": [
      "Found 28068 images belonging to 6 classes.\n"
     ]
    }
   ],
   "source": [
    "train_datagen = ImageDataGenerator(\n",
    "                    rescale = 1/255,\n",
    "                    shear_range = 0.2,\n",
    "                    zoom_range = 0.2,\n",
    "                    horizontal_flip = True,\n",
    "                    vertical_flip = False)\n",
    "training_set = train_datagen.flow_from_directory(train_path,\n",
    "                                                 target_size = (64, 64),\n",
    "                                                 class_mode = 'categorical')"
   ],
   "metadata": {
    "collapsed": false,
    "pycharm": {
     "name": "#%%\n"
    }
   }
  },
  {
   "cell_type": "code",
   "execution_count": 4,
   "outputs": [
    {
     "name": "stdout",
     "output_type": "stream",
     "text": [
      "Found 3000 images belonging to 6 classes.\n"
     ]
    }
   ],
   "source": [
    "test_datagen = ImageDataGenerator(rescale = 1/255)\n",
    "test_set = test_datagen.flow_from_directory(test_path,\n",
    "                                            target_size = (64, 64),\n",
    "                                            class_mode = 'categorical')"
   ],
   "metadata": {
    "collapsed": false,
    "pycharm": {
     "name": "#%%\n"
    }
   }
  },
  {
   "cell_type": "code",
   "execution_count": 5,
   "outputs": [
    {
     "name": "stdout",
     "output_type": "stream",
     "text": [
      "Metal device set to: Apple M1\n"
     ]
    },
    {
     "name": "stderr",
     "output_type": "stream",
     "text": [
      "2022-08-09 19:28:58.825791: I tensorflow/core/common_runtime/pluggable_device/pluggable_device_factory.cc:305] Could not identify NUMA node of platform GPU ID 0, defaulting to 0. Your kernel may not have been built with NUMA support.\n",
      "2022-08-09 19:28:58.825923: I tensorflow/core/common_runtime/pluggable_device/pluggable_device_factory.cc:271] Created TensorFlow device (/job:localhost/replica:0/task:0/device:GPU:0 with 0 MB memory) -> physical PluggableDevice (device: 0, name: METAL, pci bus id: <undefined>)\n"
     ]
    },
    {
     "data": {
      "text/plain": "<keras.engine.sequential.Sequential at 0x108578a00>"
     },
     "execution_count": 5,
     "metadata": {},
     "output_type": "execute_result"
    }
   ],
   "source": [
    "cnn = Sequential()\n",
    "cnn"
   ],
   "metadata": {
    "collapsed": false,
    "pycharm": {
     "name": "#%%\n"
    }
   }
  },
  {
   "cell_type": "code",
   "execution_count": 6,
   "outputs": [],
   "source": [
    "cnn.add(Convolution2D(filters=32, kernel_size=3, activation='relu'))\n",
    "cnn.add(MaxPooling2D(pool_size=(2,2)))\n",
    "cnn.add(Convolution2D(filters=32, kernel_size=3, activation='relu'))\n",
    "cnn.add(MaxPooling2D(pool_size=(2,2)))\n",
    "cnn.add(Flatten())\n",
    "cnn.add(Dense(units=256, activation='relu'))\n",
    "cnn.add(Dense(units=128, activation='relu'))\n",
    "cnn.add(Dense(units=64, activation='relu'))\n",
    "cnn.add(Dense(units=24, activation='relu'))\n",
    "cnn.add(Dense(units=6, activation='softmax'))"
   ],
   "metadata": {
    "collapsed": false,
    "pycharm": {
     "name": "#%%\n"
    }
   }
  },
  {
   "cell_type": "code",
   "execution_count": 7,
   "outputs": [],
   "source": [
    "cnn.compile(optimizer = 'adam', loss = 'categorical_crossentropy', metrics = ['accuracy'])"
   ],
   "metadata": {
    "collapsed": false,
    "pycharm": {
     "name": "#%%\n"
    }
   }
  },
  {
   "cell_type": "code",
   "execution_count": 8,
   "outputs": [
    {
     "name": "stdout",
     "output_type": "stream",
     "text": [
      "Epoch 1/17\n"
     ]
    },
    {
     "name": "stderr",
     "output_type": "stream",
     "text": [
      "2022-08-09 19:28:59.141602: W tensorflow/core/platform/profile_utils/cpu_utils.cc:128] Failed to get CPU frequency: 0 Hz\n",
      "2022-08-09 19:28:59.541487: I tensorflow/core/grappler/optimizers/custom_graph_optimizer_registry.cc:113] Plugin optimizer for device_type GPU is enabled.\n"
     ]
    },
    {
     "name": "stdout",
     "output_type": "stream",
     "text": [
      "878/878 [==============================] - ETA: 0s - loss: 1.0376 - accuracy: 0.5917"
     ]
    },
    {
     "name": "stderr",
     "output_type": "stream",
     "text": [
      "2022-08-09 19:29:40.858402: I tensorflow/core/grappler/optimizers/custom_graph_optimizer_registry.cc:113] Plugin optimizer for device_type GPU is enabled.\n"
     ]
    },
    {
     "name": "stdout",
     "output_type": "stream",
     "text": [
      "878/878 [==============================] - 44s 49ms/step - loss: 1.0376 - accuracy: 0.5917 - val_loss: 0.8401 - val_accuracy: 0.7030\n",
      "Epoch 2/17\n",
      "878/878 [==============================] - 44s 50ms/step - loss: 0.7788 - accuracy: 0.7092 - val_loss: 0.7889 - val_accuracy: 0.7060\n",
      "Epoch 3/17\n",
      "878/878 [==============================] - 45s 51ms/step - loss: 0.6536 - accuracy: 0.7597 - val_loss: 0.6398 - val_accuracy: 0.7720\n",
      "Epoch 4/17\n",
      "878/878 [==============================] - 50s 57ms/step - loss: 0.5848 - accuracy: 0.7882 - val_loss: 0.6007 - val_accuracy: 0.7853\n",
      "Epoch 5/17\n",
      "878/878 [==============================] - 53s 60ms/step - loss: 0.5246 - accuracy: 0.8106 - val_loss: 0.6071 - val_accuracy: 0.7937\n",
      "Epoch 6/17\n",
      "878/878 [==============================] - 45s 51ms/step - loss: 0.4832 - accuracy: 0.8234 - val_loss: 0.5779 - val_accuracy: 0.7907\n",
      "Epoch 7/17\n",
      "878/878 [==============================] - 51s 58ms/step - loss: 0.4462 - accuracy: 0.8392 - val_loss: 0.7135 - val_accuracy: 0.7650\n",
      "Epoch 8/17\n",
      "878/878 [==============================] - 49s 56ms/step - loss: 0.4332 - accuracy: 0.8451 - val_loss: 0.6120 - val_accuracy: 0.8013\n",
      "Epoch 9/17\n",
      "878/878 [==============================] - 46s 53ms/step - loss: 0.3915 - accuracy: 0.8568 - val_loss: 0.5855 - val_accuracy: 0.7950\n",
      "Epoch 10/17\n",
      "878/878 [==============================] - 49s 56ms/step - loss: 0.3650 - accuracy: 0.8693 - val_loss: 0.6317 - val_accuracy: 0.8050\n",
      "Epoch 11/17\n",
      "878/878 [==============================] - 50s 57ms/step - loss: 0.3548 - accuracy: 0.8719 - val_loss: 0.6158 - val_accuracy: 0.7903\n",
      "Epoch 12/17\n",
      "878/878 [==============================] - 49s 56ms/step - loss: 0.3235 - accuracy: 0.8846 - val_loss: 0.6498 - val_accuracy: 0.7893\n",
      "Epoch 13/17\n",
      "878/878 [==============================] - 51s 58ms/step - loss: 0.3054 - accuracy: 0.8907 - val_loss: 0.7385 - val_accuracy: 0.7797\n",
      "Epoch 14/17\n",
      "878/878 [==============================] - 52s 59ms/step - loss: 0.2942 - accuracy: 0.8930 - val_loss: 0.7576 - val_accuracy: 0.7863\n",
      "Epoch 15/17\n",
      "878/878 [==============================] - 51s 58ms/step - loss: 0.2817 - accuracy: 0.8981 - val_loss: 0.7797 - val_accuracy: 0.7680\n",
      "Epoch 16/17\n",
      "878/878 [==============================] - 59s 68ms/step - loss: 0.2581 - accuracy: 0.9061 - val_loss: 0.7250 - val_accuracy: 0.7987\n",
      "Epoch 17/17\n",
      "878/878 [==============================] - 56s 64ms/step - loss: 0.2496 - accuracy: 0.9080 - val_loss: 0.7415 - val_accuracy: 0.7970\n",
      "CPU times: user 15min 53s, sys: 2min 24s, total: 18min 17s\n",
      "Wall time: 14min 4s\n"
     ]
    },
    {
     "data": {
      "text/plain": "<keras.callbacks.History at 0x17d46f7f0>"
     },
     "execution_count": 8,
     "metadata": {},
     "output_type": "execute_result"
    }
   ],
   "source": [
    "%%time\n",
    "cnn.fit(training_set, steps_per_epoch= len(training_set), validation_data = test_set, validation_steps=len(test_set), epochs = 17)"
   ],
   "metadata": {
    "collapsed": false,
    "pycharm": {
     "name": "#%%\n"
    }
   }
  },
  {
   "cell_type": "code",
   "execution_count": 8,
   "outputs": [],
   "source": [],
   "metadata": {
    "collapsed": false,
    "pycharm": {
     "name": "#%%\n"
    }
   }
  }
 ],
 "metadata": {
  "kernelspec": {
   "display_name": "Python 3",
   "language": "python",
   "name": "python3"
  },
  "language_info": {
   "codemirror_mode": {
    "name": "ipython",
    "version": 2
   },
   "file_extension": ".py",
   "mimetype": "text/x-python",
   "name": "python",
   "nbconvert_exporter": "python",
   "pygments_lexer": "ipython2",
   "version": "2.7.6"
  }
 },
 "nbformat": 4,
 "nbformat_minor": 0
}
{
 "cells": [
  {
   "cell_type": "code",
   "execution_count": 1,
   "outputs": [],
   "source": [
    "import numpy as np\n",
    "import tensorflow as tf\n",
    "from tensorflow.keras.preprocessing.image import ImageDataGenerator\n",
    "from tensorflow.keras.models import Sequential\n",
    "from tensorflow.keras.layers import Convolution2D, MaxPooling2D, Flatten, Dense"
   ],
   "metadata": {
    "collapsed": false,
    "pycharm": {
     "name": "#%%\n"
    }
   }
  },
  {
   "cell_type": "code",
   "execution_count": 2,
   "outputs": [],
   "source": [
    "train_path = '../data/blur_combined/seg_train/'\n",
    "test_path = '../data/blur_combined/seg_test/'"
   ],
   "metadata": {
    "collapsed": false,
    "pycharm": {
     "name": "#%%\n"
    }
   }
  },
  {
   "cell_type": "code",
   "execution_count": 3,
   "outputs": [
    {
     "name": "stdout",
     "output_type": "stream",
     "text": [
      "Found 28068 images belonging to 6 classes.\n"
     ]
    }
   ],
   "source": [
    "train_datagen = ImageDataGenerator(\n",
    "                    rescale = 1/255,\n",
    "                    shear_range = 0.2,\n",
    "                    zoom_range = 0.2,\n",
    "                    horizontal_flip = True,\n",
    "                    vertical_flip = False)\n",
    "training_set = train_datagen.flow_from_directory(train_path,\n",
    "                                                   target_size = (64, 64),\n",
    "                                                 class_mode = 'categorical')"
   ],
   "metadata": {
    "collapsed": false,
    "pycharm": {
     "name": "#%%\n"
    }
   }
  },
  {
   "cell_type": "code",
   "execution_count": 4,
   "outputs": [
    {
     "name": "stdout",
     "output_type": "stream",
     "text": [
      "Found 6000 images belonging to 6 classes.\n"
     ]
    }
   ],
   "source": [
    "test_datagen = ImageDataGenerator(rescale = 1/255)\n",
    "test_set = test_datagen.flow_from_directory(test_path,\n",
    "                                            target_size = (64, 64),\n",
    "                                            class_mode = 'categorical')"
   ],
   "metadata": {
    "collapsed": false,
    "pycharm": {
     "name": "#%%\n"
    }
   }
  },
  {
   "cell_type": "code",
   "execution_count": 5,
   "outputs": [
    {
     "name": "stdout",
     "output_type": "stream",
     "text": [
      "Metal device set to: Apple M1\n"
     ]
    },
    {
     "name": "stderr",
     "output_type": "stream",
     "text": [
      "2022-08-08 12:09:39.993510: I tensorflow/core/common_runtime/pluggable_device/pluggable_device_factory.cc:305] Could not identify NUMA node of platform GPU ID 0, defaulting to 0. Your kernel may not have been built with NUMA support.\n",
      "2022-08-08 12:09:39.993634: I tensorflow/core/common_runtime/pluggable_device/pluggable_device_factory.cc:271] Created TensorFlow device (/job:localhost/replica:0/task:0/device:GPU:0 with 0 MB memory) -> physical PluggableDevice (device: 0, name: METAL, pci bus id: <undefined>)\n"
     ]
    },
    {
     "data": {
      "text/plain": "<keras.engine.sequential.Sequential at 0x1767eeda0>"
     },
     "execution_count": 5,
     "metadata": {},
     "output_type": "execute_result"
    }
   ],
   "source": [
    "cnn = Sequential()\n",
    "cnn"
   ],
   "metadata": {
    "collapsed": false,
    "pycharm": {
     "name": "#%%\n"
    }
   }
  },
  {
   "cell_type": "code",
   "execution_count": 6,
   "outputs": [],
   "source": [
    "cnn.add(Convolution2D(filters=32, kernel_size=3, activation='relu'))\n",
    "cnn.add(MaxPooling2D(pool_size=(2,2)))\n",
    "cnn.add(Convolution2D(filters=32, kernel_size=3, activation='relu'))\n",
    "cnn.add(MaxPooling2D(pool_size=(2,2)))\n",
    "cnn.add(Flatten())\n",
    "cnn.add(Dense(units=256, activation='relu'))\n",
    "cnn.add(Dense(units=128, activation='relu'))\n",
    "cnn.add(Dense(units=64, activation='relu'))\n",
    "cnn.add(Dense(units=24, activation='relu'))\n",
    "cnn.add(Dense(units=6, activation='softmax'))"
   ],
   "metadata": {
    "collapsed": false,
    "pycharm": {
     "name": "#%%\n"
    }
   }
  },
  {
   "cell_type": "code",
   "execution_count": 7,
   "outputs": [],
   "source": [
    "cnn.compile(optimizer = 'adam', loss = 'categorical_crossentropy', metrics = ['accuracy'])"
   ],
   "metadata": {
    "collapsed": false,
    "pycharm": {
     "name": "#%%\n"
    }
   }
  },
  {
   "cell_type": "code",
   "execution_count": 8,
   "outputs": [
    {
     "name": "stdout",
     "output_type": "stream",
     "text": [
      "Epoch 1/17\n"
     ]
    },
    {
     "name": "stderr",
     "output_type": "stream",
     "text": [
      "2022-08-08 12:09:40.309403: W tensorflow/core/platform/profile_utils/cpu_utils.cc:128] Failed to get CPU frequency: 0 Hz\n",
      "2022-08-08 12:09:40.709542: I tensorflow/core/grappler/optimizers/custom_graph_optimizer_registry.cc:113] Plugin optimizer for device_type GPU is enabled.\n"
     ]
    },
    {
     "name": "stdout",
     "output_type": "stream",
     "text": [
      "878/878 [==============================] - ETA: 0s - loss: 0.9770 - accuracy: 0.6199"
     ]
    },
    {
     "name": "stderr",
     "output_type": "stream",
     "text": [
      "2022-08-08 12:10:34.594953: I tensorflow/core/grappler/optimizers/custom_graph_optimizer_registry.cc:113] Plugin optimizer for device_type GPU is enabled.\n"
     ]
    },
    {
     "name": "stdout",
     "output_type": "stream",
     "text": [
      "878/878 [==============================] - 59s 66ms/step - loss: 0.9770 - accuracy: 0.6199 - val_loss: 0.7677 - val_accuracy: 0.7117\n",
      "Epoch 2/17\n",
      "878/878 [==============================] - 57s 65ms/step - loss: 0.7298 - accuracy: 0.7296 - val_loss: 0.6850 - val_accuracy: 0.7523\n",
      "Epoch 3/17\n",
      "878/878 [==============================] - 61s 70ms/step - loss: 0.6240 - accuracy: 0.7705 - val_loss: 0.6215 - val_accuracy: 0.7865\n",
      "Epoch 4/17\n",
      "878/878 [==============================] - 48s 54ms/step - loss: 0.5564 - accuracy: 0.7977 - val_loss: 0.5916 - val_accuracy: 0.7968\n",
      "Epoch 5/17\n",
      "878/878 [==============================] - 55s 62ms/step - loss: 0.5073 - accuracy: 0.8178 - val_loss: 0.5489 - val_accuracy: 0.8082\n",
      "Epoch 6/17\n",
      "878/878 [==============================] - 54s 62ms/step - loss: 0.4553 - accuracy: 0.8377 - val_loss: 0.5779 - val_accuracy: 0.8035\n",
      "Epoch 7/17\n",
      "878/878 [==============================] - 55s 62ms/step - loss: 0.4220 - accuracy: 0.8477 - val_loss: 0.5739 - val_accuracy: 0.8082\n",
      "Epoch 8/17\n",
      "878/878 [==============================] - 55s 62ms/step - loss: 0.3813 - accuracy: 0.8621 - val_loss: 0.5561 - val_accuracy: 0.8145\n",
      "Epoch 9/17\n",
      "878/878 [==============================] - 54s 62ms/step - loss: 0.3556 - accuracy: 0.8717 - val_loss: 0.6108 - val_accuracy: 0.7970\n",
      "Epoch 10/17\n",
      "878/878 [==============================] - 56s 64ms/step - loss: 0.3345 - accuracy: 0.8815 - val_loss: 0.7174 - val_accuracy: 0.7927\n",
      "Epoch 11/17\n",
      "878/878 [==============================] - 60s 69ms/step - loss: 0.2998 - accuracy: 0.8901 - val_loss: 0.6452 - val_accuracy: 0.8110\n",
      "Epoch 12/17\n",
      "878/878 [==============================] - 58s 66ms/step - loss: 0.2871 - accuracy: 0.8979 - val_loss: 0.6085 - val_accuracy: 0.8120\n",
      "Epoch 13/17\n",
      "878/878 [==============================] - 63s 71ms/step - loss: 0.2630 - accuracy: 0.9042 - val_loss: 0.6353 - val_accuracy: 0.8173\n",
      "Epoch 14/17\n",
      "878/878 [==============================] - 53s 61ms/step - loss: 0.2404 - accuracy: 0.9137 - val_loss: 0.7970 - val_accuracy: 0.7882\n",
      "Epoch 15/17\n",
      "878/878 [==============================] - 55s 62ms/step - loss: 0.2247 - accuracy: 0.9179 - val_loss: 0.7119 - val_accuracy: 0.8002\n",
      "Epoch 16/17\n",
      "878/878 [==============================] - 66s 76ms/step - loss: 0.2103 - accuracy: 0.9233 - val_loss: 0.7522 - val_accuracy: 0.7992\n",
      "Epoch 17/17\n",
      "878/878 [==============================] - 59s 67ms/step - loss: 0.2031 - accuracy: 0.9265 - val_loss: 0.7081 - val_accuracy: 0.8082\n",
      "CPU times: user 18min, sys: 2min 53s, total: 20min 54s\n",
      "Wall time: 16min 8s\n"
     ]
    },
    {
     "data": {
      "text/plain": "<keras.callbacks.History at 0x28929f850>"
     },
     "execution_count": 8,
     "metadata": {},
     "output_type": "execute_result"
    }
   ],
   "source": [
    "%%time\n",
    "cnn.fit(training_set, steps_per_epoch= len(training_set), validation_data = test_set, validation_steps=len(test_set), epochs = 17)"
   ],
   "metadata": {
    "collapsed": false,
    "pycharm": {
     "name": "#%%\n"
    }
   }
  },
  {
   "cell_type": "code",
   "execution_count": 8,
   "outputs": [],
   "source": [],
   "metadata": {
    "collapsed": false,
    "pycharm": {
     "name": "#%%\n"
    }
   }
  }
 ],
 "metadata": {
  "kernelspec": {
   "display_name": "Python 3",
   "language": "python",
   "name": "python3"
  },
  "language_info": {
   "codemirror_mode": {
    "name": "ipython",
    "version": 2
   },
   "file_extension": ".py",
   "mimetype": "text/x-python",
   "name": "python",
   "nbconvert_exporter": "python",
   "pygments_lexer": "ipython2",
   "version": "2.7.6"
  }
 },
 "nbformat": 4,
 "nbformat_minor": 0
}
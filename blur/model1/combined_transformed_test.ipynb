{
 "cells": [
  {
   "cell_type": "code",
   "execution_count": 1,
   "outputs": [],
   "source": [
    "import numpy as np\n",
    "import tensorflow as tf\n",
    "from keras.preprocessing.image import ImageDataGenerator\n",
    "from keras.models import Sequential\n",
    "from keras.layers import Convolution2D, MaxPooling2D, Flatten, Dense"
   ],
   "metadata": {
    "collapsed": false,
    "pycharm": {
     "name": "#%%\n"
    }
   }
  },
  {
   "cell_type": "code",
   "execution_count": 2,
   "outputs": [],
   "source": [
    "train_path = '../data/blur_combined/seg_train/'\n",
    "test_path = '../data/blur_combined/seg_test/'"
   ],
   "metadata": {
    "collapsed": false,
    "pycharm": {
     "name": "#%%\n"
    }
   }
  },
  {
   "cell_type": "code",
   "execution_count": 3,
   "outputs": [
    {
     "name": "stdout",
     "output_type": "stream",
     "text": [
      "Found 28068 images belonging to 6 classes.\n"
     ]
    }
   ],
   "source": [
    "train_datagen = ImageDataGenerator(\n",
    "                    rescale = 1/255,\n",
    "                    shear_range = 0.2,\n",
    "                    zoom_range = 0.2,\n",
    "                    horizontal_flip = True,\n",
    "                    vertical_flip = False)\n",
    "training_set = train_datagen.flow_from_directory(train_path,\n",
    "                                                   target_size = (64, 64),\n",
    "                                                 class_mode = 'categorical')"
   ],
   "metadata": {
    "collapsed": false,
    "pycharm": {
     "name": "#%%\n"
    }
   }
  },
  {
   "cell_type": "code",
   "execution_count": 4,
   "outputs": [
    {
     "name": "stdout",
     "output_type": "stream",
     "text": [
      "Found 6000 images belonging to 6 classes.\n"
     ]
    }
   ],
   "source": [
    "test_datagen = ImageDataGenerator(rescale = 1/255)\n",
    "test_set = test_datagen.flow_from_directory(test_path,\n",
    "                                            target_size = (64, 64),\n",
    "                                            class_mode = 'categorical')"
   ],
   "metadata": {
    "collapsed": false,
    "pycharm": {
     "name": "#%%\n"
    }
   }
  },
  {
   "cell_type": "code",
   "execution_count": 5,
   "outputs": [
    {
     "name": "stdout",
     "output_type": "stream",
     "text": [
      "Metal device set to: Apple M1\n"
     ]
    },
    {
     "name": "stderr",
     "output_type": "stream",
     "text": [
      "2022-09-05 10:23:53.455691: I tensorflow/core/common_runtime/pluggable_device/pluggable_device_factory.cc:305] Could not identify NUMA node of platform GPU ID 0, defaulting to 0. Your kernel may not have been built with NUMA support.\n",
      "2022-09-05 10:23:53.455832: I tensorflow/core/common_runtime/pluggable_device/pluggable_device_factory.cc:271] Created TensorFlow device (/job:localhost/replica:0/task:0/device:GPU:0 with 0 MB memory) -> physical PluggableDevice (device: 0, name: METAL, pci bus id: <undefined>)\n"
     ]
    },
    {
     "data": {
      "text/plain": "<keras.engine.sequential.Sequential at 0x179982320>"
     },
     "execution_count": 5,
     "metadata": {},
     "output_type": "execute_result"
    }
   ],
   "source": [
    "cnn = Sequential()\n",
    "cnn"
   ],
   "metadata": {
    "collapsed": false,
    "pycharm": {
     "name": "#%%\n"
    }
   }
  },
  {
   "cell_type": "code",
   "execution_count": 6,
   "outputs": [],
   "source": [
    "cnn.add(Convolution2D(filters=32, kernel_size=3, activation='relu'))\n",
    "cnn.add(MaxPooling2D(pool_size=(2,2)))\n",
    "cnn.add(Convolution2D(filters=32, kernel_size=3, activation='relu'))\n",
    "cnn.add(MaxPooling2D(pool_size=(2,2)))\n",
    "cnn.add(Flatten())\n",
    "cnn.add(Dense(units=256, activation='relu'))\n",
    "cnn.add(Dense(units=128, activation='relu'))\n",
    "cnn.add(Dense(units=64, activation='relu'))\n",
    "cnn.add(Dense(units=24, activation='relu'))\n",
    "cnn.add(Dense(units=6, activation='softmax'))"
   ],
   "metadata": {
    "collapsed": false,
    "pycharm": {
     "name": "#%%\n"
    }
   }
  },
  {
   "cell_type": "code",
   "execution_count": 7,
   "outputs": [],
   "source": [
    "cnn.compile(optimizer = 'adam', loss = 'categorical_crossentropy', metrics = ['accuracy'])"
   ],
   "metadata": {
    "collapsed": false,
    "pycharm": {
     "name": "#%%\n"
    }
   }
  },
  {
   "cell_type": "code",
   "execution_count": 8,
   "outputs": [
    {
     "name": "stdout",
     "output_type": "stream",
     "text": [
      "Epoch 1/17\n"
     ]
    },
    {
     "name": "stderr",
     "output_type": "stream",
     "text": [
      "2022-09-05 10:23:53.766945: W tensorflow/core/platform/profile_utils/cpu_utils.cc:128] Failed to get CPU frequency: 0 Hz\n",
      "2022-09-05 10:23:54.246175: I tensorflow/core/grappler/optimizers/custom_graph_optimizer_registry.cc:113] Plugin optimizer for device_type GPU is enabled.\n"
     ]
    },
    {
     "name": "stdout",
     "output_type": "stream",
     "text": [
      "878/878 [==============================] - ETA: 0s - loss: 1.0065 - accuracy: 0.6140"
     ]
    },
    {
     "name": "stderr",
     "output_type": "stream",
     "text": [
      "2022-09-05 10:24:40.215663: I tensorflow/core/grappler/optimizers/custom_graph_optimizer_registry.cc:113] Plugin optimizer for device_type GPU is enabled.\n"
     ]
    },
    {
     "name": "stdout",
     "output_type": "stream",
     "text": [
      "878/878 [==============================] - 51s 58ms/step - loss: 1.0065 - accuracy: 0.6140 - val_loss: 0.7961 - val_accuracy: 0.7167\n",
      "Epoch 2/17\n",
      "878/878 [==============================] - 46s 53ms/step - loss: 0.7383 - accuracy: 0.7268 - val_loss: 0.6882 - val_accuracy: 0.7515\n",
      "Epoch 3/17\n",
      "878/878 [==============================] - 55s 63ms/step - loss: 0.6340 - accuracy: 0.7701 - val_loss: 0.6783 - val_accuracy: 0.7572\n",
      "Epoch 4/17\n",
      "878/878 [==============================] - 43s 49ms/step - loss: 0.5612 - accuracy: 0.7983 - val_loss: 0.6515 - val_accuracy: 0.7805\n",
      "Epoch 5/17\n",
      "878/878 [==============================] - 44s 50ms/step - loss: 0.5134 - accuracy: 0.8156 - val_loss: 0.5831 - val_accuracy: 0.7970\n",
      "Epoch 6/17\n",
      "878/878 [==============================] - 47s 53ms/step - loss: 0.4583 - accuracy: 0.8353 - val_loss: 0.5677 - val_accuracy: 0.8093\n",
      "Epoch 7/17\n",
      "878/878 [==============================] - 43s 49ms/step - loss: 0.4218 - accuracy: 0.8486 - val_loss: 0.5311 - val_accuracy: 0.8217\n",
      "Epoch 8/17\n",
      "878/878 [==============================] - 44s 50ms/step - loss: 0.3920 - accuracy: 0.8591 - val_loss: 0.5897 - val_accuracy: 0.8065\n",
      "Epoch 9/17\n",
      "878/878 [==============================] - 47s 54ms/step - loss: 0.3644 - accuracy: 0.8684 - val_loss: 0.5971 - val_accuracy: 0.8128\n",
      "Epoch 10/17\n",
      "878/878 [==============================] - 44s 50ms/step - loss: 0.3370 - accuracy: 0.8774 - val_loss: 0.5766 - val_accuracy: 0.8135\n",
      "Epoch 11/17\n",
      "878/878 [==============================] - 46s 52ms/step - loss: 0.3063 - accuracy: 0.8925 - val_loss: 0.6220 - val_accuracy: 0.8025\n",
      "Epoch 12/17\n",
      "878/878 [==============================] - 44s 50ms/step - loss: 0.2951 - accuracy: 0.8938 - val_loss: 0.6650 - val_accuracy: 0.7928\n",
      "Epoch 13/17\n",
      "878/878 [==============================] - 45s 51ms/step - loss: 0.2683 - accuracy: 0.9046 - val_loss: 0.7736 - val_accuracy: 0.7812\n",
      "Epoch 14/17\n",
      "878/878 [==============================] - 46s 52ms/step - loss: 0.2462 - accuracy: 0.9116 - val_loss: 0.7244 - val_accuracy: 0.7953\n",
      "Epoch 15/17\n",
      "878/878 [==============================] - 46s 52ms/step - loss: 0.2411 - accuracy: 0.9126 - val_loss: 0.6897 - val_accuracy: 0.8030\n",
      "Epoch 16/17\n",
      "878/878 [==============================] - 45s 51ms/step - loss: 0.2129 - accuracy: 0.9234 - val_loss: 0.6772 - val_accuracy: 0.8170\n",
      "Epoch 17/17\n",
      "878/878 [==============================] - 54s 62ms/step - loss: 0.2112 - accuracy: 0.9248 - val_loss: 0.7210 - val_accuracy: 0.8057\n",
      "CPU times: user 15min 38s, sys: 2min 12s, total: 17min 50s\n",
      "Wall time: 13min 11s\n"
     ]
    },
    {
     "data": {
      "text/plain": "<keras.callbacks.History at 0x17bcad6f0>"
     },
     "execution_count": 8,
     "metadata": {},
     "output_type": "execute_result"
    }
   ],
   "source": [
    "%%time\n",
    "cnn.fit(training_set, steps_per_epoch= len(training_set), validation_data = test_set, validation_steps=len(test_set), epochs = 17)"
   ],
   "metadata": {
    "collapsed": false,
    "pycharm": {
     "name": "#%%\n"
    }
   }
  },
  {
   "cell_type": "code",
   "execution_count": 9,
   "outputs": [
    {
     "name": "stdout",
     "output_type": "stream",
     "text": [
      "188/188 - 4s - loss: 0.7210 - accuracy: 0.8057 - 4s/epoch - 20ms/step\n",
      "Accuracy of the model on the test set:  0.8056666851043701\n"
     ]
    }
   ],
   "source": [
    "accuracy = cnn.evaluate(test_set, steps=len(test_set), verbose=2)\n",
    "print('Accuracy of the model on the test set: ', accuracy[1])"
   ],
   "metadata": {
    "collapsed": false,
    "pycharm": {
     "name": "#%%\n"
    }
   }
  },
  {
   "cell_type": "code",
   "execution_count": null,
   "outputs": [],
   "source": [],
   "metadata": {
    "collapsed": false,
    "pycharm": {
     "name": "#%%\n"
    }
   }
  }
 ],
 "metadata": {
  "kernelspec": {
   "display_name": "Python 3",
   "language": "python",
   "name": "python3"
  },
  "language_info": {
   "codemirror_mode": {
    "name": "ipython",
    "version": 2
   },
   "file_extension": ".py",
   "mimetype": "text/x-python",
   "name": "python",
   "nbconvert_exporter": "python",
   "pygments_lexer": "ipython2",
   "version": "2.7.6"
  }
 },
 "nbformat": 4,
 "nbformat_minor": 0
}
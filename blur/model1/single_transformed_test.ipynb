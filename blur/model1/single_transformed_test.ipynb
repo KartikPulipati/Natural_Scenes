{
 "cells": [
  {
   "cell_type": "code",
   "execution_count": 9,
   "outputs": [],
   "source": [
    "import numpy as np\n",
    "import tensorflow as tf\n",
    "from tensorflow.keras.preprocessing.image import ImageDataGenerator\n",
    "from tensorflow.keras.models import Sequential\n",
    "from tensorflow.keras.layers import Convolution2D, MaxPooling2D, Flatten, Dense"
   ],
   "metadata": {
    "collapsed": false,
    "pycharm": {
     "name": "#%%\n"
    }
   }
  },
  {
   "cell_type": "code",
   "execution_count": 10,
   "outputs": [],
   "source": [
    "train_path = '../data/blur_single/seg_train/'\n",
    "test_path = '../data/blur_single/seg_test/'"
   ],
   "metadata": {
    "collapsed": false,
    "pycharm": {
     "name": "#%%\n"
    }
   }
  },
  {
   "cell_type": "code",
   "execution_count": 11,
   "outputs": [
    {
     "name": "stdout",
     "output_type": "stream",
     "text": [
      "Found 14034 images belonging to 6 classes.\n"
     ]
    }
   ],
   "source": [
    "train_datagen = ImageDataGenerator(\n",
    "                    rescale = 1/255,\n",
    "                    shear_range = 0.2,\n",
    "                    zoom_range = 0.2,\n",
    "                    horizontal_flip = True,\n",
    "                    vertical_flip = False)\n",
    "training_set = train_datagen.flow_from_directory(train_path,\n",
    "                                                 target_size = (64, 64),\n",
    "                                                 class_mode = 'categorical')"
   ],
   "metadata": {
    "collapsed": false,
    "pycharm": {
     "name": "#%%\n"
    }
   }
  },
  {
   "cell_type": "code",
   "execution_count": 12,
   "outputs": [
    {
     "name": "stdout",
     "output_type": "stream",
     "text": [
      "Found 3000 images belonging to 6 classes.\n"
     ]
    }
   ],
   "source": [
    "test_datagen = ImageDataGenerator(rescale = 1/255)\n",
    "test_set = test_datagen.flow_from_directory(test_path,\n",
    "                                            target_size = (64, 64),\n",
    "                                            class_mode = 'categorical')"
   ],
   "metadata": {
    "collapsed": false,
    "pycharm": {
     "name": "#%%\n"
    }
   }
  },
  {
   "cell_type": "code",
   "execution_count": 13,
   "outputs": [
    {
     "data": {
      "text/plain": "<keras.engine.sequential.Sequential at 0x107e77be0>"
     },
     "execution_count": 13,
     "metadata": {},
     "output_type": "execute_result"
    }
   ],
   "source": [
    "cnn = Sequential()\n",
    "cnn"
   ],
   "metadata": {
    "collapsed": false,
    "pycharm": {
     "name": "#%%\n"
    }
   }
  },
  {
   "cell_type": "code",
   "execution_count": 14,
   "outputs": [],
   "source": [
    "cnn.add(Convolution2D(filters=32, kernel_size=3, activation='relu'))\n",
    "cnn.add(MaxPooling2D(pool_size=(2,2)))\n",
    "cnn.add(Convolution2D(filters=32, kernel_size=3, activation='relu'))\n",
    "cnn.add(MaxPooling2D(pool_size=(2,2)))\n",
    "cnn.add(Flatten())\n",
    "cnn.add(Dense(units=256, activation='relu'))\n",
    "cnn.add(Dense(units=128, activation='relu'))\n",
    "cnn.add(Dense(units=64, activation='relu'))\n",
    "cnn.add(Dense(units=24, activation='relu'))\n",
    "cnn.add(Dense(units=6, activation='softmax'))"
   ],
   "metadata": {
    "collapsed": false,
    "pycharm": {
     "name": "#%%\n"
    }
   }
  },
  {
   "cell_type": "code",
   "execution_count": 15,
   "outputs": [],
   "source": [
    "cnn.compile(optimizer = 'adam', loss = 'categorical_crossentropy', metrics = ['accuracy'])"
   ],
   "metadata": {
    "collapsed": false,
    "pycharm": {
     "name": "#%%\n"
    }
   }
  },
  {
   "cell_type": "code",
   "execution_count": 16,
   "outputs": [
    {
     "name": "stdout",
     "output_type": "stream",
     "text": [
      "Epoch 1/17\n"
     ]
    },
    {
     "name": "stderr",
     "output_type": "stream",
     "text": [
      "2022-08-09 14:06:57.196597: I tensorflow/core/grappler/optimizers/custom_graph_optimizer_registry.cc:113] Plugin optimizer for device_type GPU is enabled.\n"
     ]
    },
    {
     "name": "stdout",
     "output_type": "stream",
     "text": [
      "439/439 [==============================] - ETA: 0s - loss: 1.1589 - accuracy: 0.5352"
     ]
    },
    {
     "name": "stderr",
     "output_type": "stream",
     "text": [
      "2022-08-09 14:07:18.632305: I tensorflow/core/grappler/optimizers/custom_graph_optimizer_registry.cc:113] Plugin optimizer for device_type GPU is enabled.\n"
     ]
    },
    {
     "name": "stdout",
     "output_type": "stream",
     "text": [
      "439/439 [==============================] - 25s 55ms/step - loss: 1.1589 - accuracy: 0.5352 - val_loss: 0.8844 - val_accuracy: 0.6717\n",
      "Epoch 2/17\n",
      "439/439 [==============================] - 24s 54ms/step - loss: 0.9023 - accuracy: 0.6598 - val_loss: 0.8972 - val_accuracy: 0.6720\n",
      "Epoch 3/17\n",
      "439/439 [==============================] - 25s 56ms/step - loss: 0.8252 - accuracy: 0.6953 - val_loss: 0.7686 - val_accuracy: 0.7213\n",
      "Epoch 4/17\n",
      "439/439 [==============================] - 23s 51ms/step - loss: 0.7435 - accuracy: 0.7274 - val_loss: 0.6818 - val_accuracy: 0.7543\n",
      "Epoch 5/17\n",
      "439/439 [==============================] - 22s 50ms/step - loss: 0.7010 - accuracy: 0.7413 - val_loss: 0.6888 - val_accuracy: 0.7397\n",
      "Epoch 6/17\n",
      "439/439 [==============================] - 22s 51ms/step - loss: 0.6481 - accuracy: 0.7655 - val_loss: 0.6428 - val_accuracy: 0.7657\n",
      "Epoch 7/17\n",
      "439/439 [==============================] - 22s 51ms/step - loss: 0.5972 - accuracy: 0.7835 - val_loss: 0.6383 - val_accuracy: 0.7703\n",
      "Epoch 8/17\n",
      "439/439 [==============================] - 27s 60ms/step - loss: 0.5667 - accuracy: 0.7978 - val_loss: 0.6308 - val_accuracy: 0.7863\n",
      "Epoch 9/17\n",
      "439/439 [==============================] - 28s 64ms/step - loss: 0.5343 - accuracy: 0.8072 - val_loss: 0.5753 - val_accuracy: 0.7937\n",
      "Epoch 10/17\n",
      "439/439 [==============================] - 27s 62ms/step - loss: 0.5166 - accuracy: 0.8130 - val_loss: 0.7238 - val_accuracy: 0.7457\n",
      "Epoch 11/17\n",
      "439/439 [==============================] - 29s 66ms/step - loss: 0.4840 - accuracy: 0.8244 - val_loss: 0.6120 - val_accuracy: 0.7880\n",
      "Epoch 12/17\n",
      "439/439 [==============================] - 29s 67ms/step - loss: 0.4794 - accuracy: 0.8244 - val_loss: 0.6157 - val_accuracy: 0.7767\n",
      "Epoch 13/17\n",
      "439/439 [==============================] - 31s 70ms/step - loss: 0.4327 - accuracy: 0.8470 - val_loss: 0.5419 - val_accuracy: 0.8110\n",
      "Epoch 14/17\n",
      "439/439 [==============================] - 30s 69ms/step - loss: 0.4252 - accuracy: 0.8422 - val_loss: 0.7702 - val_accuracy: 0.7580\n",
      "Epoch 15/17\n",
      "439/439 [==============================] - 29s 67ms/step - loss: 0.4087 - accuracy: 0.8519 - val_loss: 0.6505 - val_accuracy: 0.7840\n",
      "Epoch 16/17\n",
      "439/439 [==============================] - 29s 67ms/step - loss: 0.3926 - accuracy: 0.8579 - val_loss: 0.6203 - val_accuracy: 0.7957\n",
      "Epoch 17/17\n",
      "439/439 [==============================] - 29s 66ms/step - loss: 0.3664 - accuracy: 0.8689 - val_loss: 0.6228 - val_accuracy: 0.7853\n",
      "CPU times: user 8min 42s, sys: 1min 16s, total: 9min 59s\n",
      "Wall time: 7min 31s\n"
     ]
    },
    {
     "data": {
      "text/plain": "<keras.callbacks.History at 0x17ee22cb0>"
     },
     "execution_count": 16,
     "metadata": {},
     "output_type": "execute_result"
    }
   ],
   "source": [
    "%%time\n",
    "cnn.fit(training_set, steps_per_epoch= len(training_set), validation_data = test_set, validation_steps=len(test_set), epochs = 17)"
   ],
   "metadata": {
    "collapsed": false,
    "pycharm": {
     "name": "#%%\n"
    }
   }
  }
 ],
 "metadata": {
  "kernelspec": {
   "display_name": "Python 3",
   "language": "python",
   "name": "python3"
  },
  "language_info": {
   "codemirror_mode": {
    "name": "ipython",
    "version": 2
   },
   "file_extension": ".py",
   "mimetype": "text/x-python",
   "name": "python",
   "nbconvert_exporter": "python",
   "pygments_lexer": "ipython2",
   "version": "2.7.6"
  }
 },
 "nbformat": 4,
 "nbformat_minor": 0
}
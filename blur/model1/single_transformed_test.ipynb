{
 "cells": [
  {
   "cell_type": "code",
   "execution_count": 1,
   "outputs": [],
   "source": [
    "import numpy as np\n",
    "import tensorflow as tf\n",
    "from keras.preprocessing.image import ImageDataGenerator\n",
    "from keras.models import Sequential\n",
    "from keras.layers import Convolution2D, MaxPooling2D, Flatten, Dense"
   ],
   "metadata": {
    "collapsed": false,
    "pycharm": {
     "name": "#%%\n"
    }
   }
  },
  {
   "cell_type": "code",
   "execution_count": 2,
   "outputs": [],
   "source": [
    "train_path = '../data/blur_single/seg_train/'\n",
    "test_path = '../data/blur_single/seg_test/'"
   ],
   "metadata": {
    "collapsed": false,
    "pycharm": {
     "name": "#%%\n"
    }
   }
  },
  {
   "cell_type": "code",
   "execution_count": 3,
   "outputs": [
    {
     "name": "stdout",
     "output_type": "stream",
     "text": [
      "Found 14034 images belonging to 6 classes.\n"
     ]
    }
   ],
   "source": [
    "train_datagen = ImageDataGenerator(\n",
    "                    rescale = 1/255,\n",
    "                    shear_range = 0.2,\n",
    "                    zoom_range = 0.2,\n",
    "                    horizontal_flip = True,\n",
    "                    vertical_flip = False)\n",
    "training_set = train_datagen.flow_from_directory(train_path,\n",
    "                                                 target_size = (64, 64),\n",
    "                                                 class_mode = 'categorical')"
   ],
   "metadata": {
    "collapsed": false,
    "pycharm": {
     "name": "#%%\n"
    }
   }
  },
  {
   "cell_type": "code",
   "execution_count": 4,
   "outputs": [
    {
     "name": "stdout",
     "output_type": "stream",
     "text": [
      "Found 3000 images belonging to 6 classes.\n"
     ]
    }
   ],
   "source": [
    "test_datagen = ImageDataGenerator(rescale = 1/255)\n",
    "test_set = test_datagen.flow_from_directory(test_path,\n",
    "                                            target_size = (64, 64),\n",
    "                                            class_mode = 'categorical')"
   ],
   "metadata": {
    "collapsed": false,
    "pycharm": {
     "name": "#%%\n"
    }
   }
  },
  {
   "cell_type": "code",
   "execution_count": 5,
   "outputs": [
    {
     "name": "stdout",
     "output_type": "stream",
     "text": [
      "Metal device set to: Apple M1\n"
     ]
    },
    {
     "name": "stderr",
     "output_type": "stream",
     "text": [
      "2022-09-05 10:47:05.819876: I tensorflow/core/common_runtime/pluggable_device/pluggable_device_factory.cc:305] Could not identify NUMA node of platform GPU ID 0, defaulting to 0. Your kernel may not have been built with NUMA support.\n",
      "2022-09-05 10:47:05.820015: I tensorflow/core/common_runtime/pluggable_device/pluggable_device_factory.cc:271] Created TensorFlow device (/job:localhost/replica:0/task:0/device:GPU:0 with 0 MB memory) -> physical PluggableDevice (device: 0, name: METAL, pci bus id: <undefined>)\n"
     ]
    },
    {
     "data": {
      "text/plain": "<keras.engine.sequential.Sequential at 0x17f056f50>"
     },
     "execution_count": 5,
     "metadata": {},
     "output_type": "execute_result"
    }
   ],
   "source": [
    "cnn = Sequential()\n",
    "cnn"
   ],
   "metadata": {
    "collapsed": false,
    "pycharm": {
     "name": "#%%\n"
    }
   }
  },
  {
   "cell_type": "code",
   "execution_count": 6,
   "outputs": [],
   "source": [
    "cnn.add(Convolution2D(filters=32, kernel_size=3, activation='relu'))\n",
    "cnn.add(MaxPooling2D(pool_size=(2,2)))\n",
    "cnn.add(Convolution2D(filters=32, kernel_size=3, activation='relu'))\n",
    "cnn.add(MaxPooling2D(pool_size=(2,2)))\n",
    "cnn.add(Flatten())\n",
    "cnn.add(Dense(units=256, activation='relu'))\n",
    "cnn.add(Dense(units=128, activation='relu'))\n",
    "cnn.add(Dense(units=64, activation='relu'))\n",
    "cnn.add(Dense(units=24, activation='relu'))\n",
    "cnn.add(Dense(units=6, activation='softmax'))"
   ],
   "metadata": {
    "collapsed": false,
    "pycharm": {
     "name": "#%%\n"
    }
   }
  },
  {
   "cell_type": "code",
   "execution_count": 7,
   "outputs": [],
   "source": [
    "cnn.compile(optimizer = 'adam', loss = 'categorical_crossentropy', metrics = ['accuracy'])"
   ],
   "metadata": {
    "collapsed": false,
    "pycharm": {
     "name": "#%%\n"
    }
   }
  },
  {
   "cell_type": "code",
   "execution_count": 8,
   "outputs": [
    {
     "name": "stdout",
     "output_type": "stream",
     "text": [
      "Epoch 1/17\n"
     ]
    },
    {
     "name": "stderr",
     "output_type": "stream",
     "text": [
      "2022-09-05 10:47:06.168030: W tensorflow/core/platform/profile_utils/cpu_utils.cc:128] Failed to get CPU frequency: 0 Hz\n",
      "2022-09-05 10:47:06.716872: I tensorflow/core/grappler/optimizers/custom_graph_optimizer_registry.cc:113] Plugin optimizer for device_type GPU is enabled.\n"
     ]
    },
    {
     "name": "stdout",
     "output_type": "stream",
     "text": [
      "438/439 [============================>.] - ETA: 0s - loss: 1.1782 - accuracy: 0.5329"
     ]
    },
    {
     "name": "stderr",
     "output_type": "stream",
     "text": [
      "2022-09-05 10:47:28.368008: I tensorflow/core/grappler/optimizers/custom_graph_optimizer_registry.cc:113] Plugin optimizer for device_type GPU is enabled.\n"
     ]
    },
    {
     "name": "stdout",
     "output_type": "stream",
     "text": [
      "439/439 [==============================] - 24s 53ms/step - loss: 1.1781 - accuracy: 0.5331 - val_loss: 1.0843 - val_accuracy: 0.5783\n",
      "Epoch 2/17\n",
      "439/439 [==============================] - 23s 52ms/step - loss: 0.9421 - accuracy: 0.6397 - val_loss: 1.0179 - val_accuracy: 0.6240\n",
      "Epoch 3/17\n",
      "439/439 [==============================] - 23s 52ms/step - loss: 0.8173 - accuracy: 0.6959 - val_loss: 0.8350 - val_accuracy: 0.6923\n",
      "Epoch 4/17\n",
      "439/439 [==============================] - 23s 52ms/step - loss: 0.7500 - accuracy: 0.7234 - val_loss: 0.6612 - val_accuracy: 0.7650\n",
      "Epoch 5/17\n",
      "439/439 [==============================] - 24s 54ms/step - loss: 0.6887 - accuracy: 0.7446 - val_loss: 0.6997 - val_accuracy: 0.7523\n",
      "Epoch 6/17\n",
      "439/439 [==============================] - 23s 53ms/step - loss: 0.6480 - accuracy: 0.7639 - val_loss: 0.6717 - val_accuracy: 0.7593\n",
      "Epoch 7/17\n",
      "439/439 [==============================] - 22s 49ms/step - loss: 0.6099 - accuracy: 0.7783 - val_loss: 0.6259 - val_accuracy: 0.7763\n",
      "Epoch 8/17\n",
      "439/439 [==============================] - 21s 48ms/step - loss: 0.5586 - accuracy: 0.8013 - val_loss: 0.6585 - val_accuracy: 0.7657\n",
      "Epoch 9/17\n",
      "439/439 [==============================] - 21s 48ms/step - loss: 0.5458 - accuracy: 0.8035 - val_loss: 0.6700 - val_accuracy: 0.7703\n",
      "Epoch 10/17\n",
      "439/439 [==============================] - 25s 57ms/step - loss: 0.5248 - accuracy: 0.8097 - val_loss: 0.6245 - val_accuracy: 0.7843\n",
      "Epoch 11/17\n",
      "439/439 [==============================] - 30s 68ms/step - loss: 0.4836 - accuracy: 0.8286 - val_loss: 0.6143 - val_accuracy: 0.7847\n",
      "Epoch 12/17\n",
      "439/439 [==============================] - 23s 52ms/step - loss: 0.4715 - accuracy: 0.8283 - val_loss: 0.6078 - val_accuracy: 0.7880\n",
      "Epoch 13/17\n",
      "439/439 [==============================] - 32s 73ms/step - loss: 0.4440 - accuracy: 0.8404 - val_loss: 0.6289 - val_accuracy: 0.7910\n",
      "Epoch 14/17\n",
      "439/439 [==============================] - 32s 74ms/step - loss: 0.4332 - accuracy: 0.8464 - val_loss: 0.6805 - val_accuracy: 0.7653\n",
      "Epoch 15/17\n",
      "439/439 [==============================] - 33s 76ms/step - loss: 0.4150 - accuracy: 0.8497 - val_loss: 0.5997 - val_accuracy: 0.7890\n",
      "Epoch 16/17\n",
      "439/439 [==============================] - 34s 78ms/step - loss: 0.3911 - accuracy: 0.8575 - val_loss: 0.6938 - val_accuracy: 0.7837\n",
      "Epoch 17/17\n",
      "439/439 [==============================] - 31s 70ms/step - loss: 0.3658 - accuracy: 0.8679 - val_loss: 0.6764 - val_accuracy: 0.7793\n",
      "CPU times: user 8min 12s, sys: 1min 11s, total: 9min 24s\n",
      "Wall time: 7min 25s\n"
     ]
    },
    {
     "data": {
      "text/plain": "<keras.callbacks.History at 0x29ce27610>"
     },
     "execution_count": 8,
     "metadata": {},
     "output_type": "execute_result"
    }
   ],
   "source": [
    "%%time\n",
    "cnn.fit(training_set, steps_per_epoch= len(training_set), validation_data = test_set, validation_steps=len(test_set), epochs = 17)"
   ],
   "metadata": {
    "collapsed": false,
    "pycharm": {
     "name": "#%%\n"
    }
   }
  },
  {
   "cell_type": "code",
   "execution_count": 9,
   "outputs": [
    {
     "name": "stdout",
     "output_type": "stream",
     "text": [
      "94/94 - 3s - loss: 0.6764 - accuracy: 0.7793 - 3s/epoch - 30ms/step\n",
      "Accuracy of the model on the test set:  0.7793333530426025\n"
     ]
    }
   ],
   "source": [
    "accuracy = cnn.evaluate(test_set, steps=len(test_set), verbose=2)\n",
    "print('Accuracy of the model on the test set: ', accuracy[1])"
   ],
   "metadata": {
    "collapsed": false,
    "pycharm": {
     "name": "#%%\n"
    }
   }
  }
 ],
 "metadata": {
  "kernelspec": {
   "display_name": "Python 3",
   "language": "python",
   "name": "python3"
  },
  "language_info": {
   "codemirror_mode": {
    "name": "ipython",
    "version": 2
   },
   "file_extension": ".py",
   "mimetype": "text/x-python",
   "name": "python",
   "nbconvert_exporter": "python",
   "pygments_lexer": "ipython2",
   "version": "2.7.6"
  }
 },
 "nbformat": 4,
 "nbformat_minor": 0
}
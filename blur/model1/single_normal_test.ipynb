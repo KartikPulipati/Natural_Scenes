{
 "cells": [
  {
   "cell_type": "code",
   "execution_count": 1,
   "outputs": [],
   "source": [
    "import numpy as np\n",
    "import tensorflow as tf\n",
    "from tensorflow.keras.preprocessing.image import ImageDataGenerator\n",
    "from tensorflow.keras.models import Sequential\n",
    "from tensorflow.keras.layers import Convolution2D, MaxPooling2D, Flatten, Dense"
   ],
   "metadata": {
    "collapsed": false,
    "pycharm": {
     "name": "#%%\n"
    }
   }
  },
  {
   "cell_type": "code",
   "execution_count": 2,
   "outputs": [],
   "source": [
    "train_path = '../data/blur_single/seg_train/'\n",
    "test_path = '../../normal/archive/seg_test/'"
   ],
   "metadata": {
    "collapsed": false,
    "pycharm": {
     "name": "#%%\n"
    }
   }
  },
  {
   "cell_type": "code",
   "execution_count": 3,
   "outputs": [
    {
     "name": "stdout",
     "output_type": "stream",
     "text": [
      "Found 14034 images belonging to 6 classes.\n"
     ]
    }
   ],
   "source": [
    "train_datagen = ImageDataGenerator(\n",
    "                    rescale = 1/255,\n",
    "                    shear_range = 0.2,\n",
    "                    zoom_range = 0.2,\n",
    "                    horizontal_flip = True,\n",
    "                    vertical_flip = False)\n",
    "training_set = train_datagen.flow_from_directory(train_path,\n",
    "                                                 target_size = (64, 64),\n",
    "                                                 class_mode = 'categorical')"
   ],
   "metadata": {
    "collapsed": false,
    "pycharm": {
     "name": "#%%\n"
    }
   }
  },
  {
   "cell_type": "code",
   "execution_count": 4,
   "outputs": [
    {
     "name": "stdout",
     "output_type": "stream",
     "text": [
      "Found 3000 images belonging to 6 classes.\n"
     ]
    }
   ],
   "source": [
    "test_datagen = ImageDataGenerator(rescale = 1/255)\n",
    "test_set = test_datagen.flow_from_directory(test_path,\n",
    "                                            target_size = (64, 64),\n",
    "                                            class_mode = 'categorical')"
   ],
   "metadata": {
    "collapsed": false,
    "pycharm": {
     "name": "#%%\n"
    }
   }
  },
  {
   "cell_type": "code",
   "execution_count": 5,
   "outputs": [
    {
     "name": "stdout",
     "output_type": "stream",
     "text": [
      "Metal device set to: Apple M1\n"
     ]
    },
    {
     "name": "stderr",
     "output_type": "stream",
     "text": [
      "2022-08-08 13:13:15.961239: I tensorflow/core/common_runtime/pluggable_device/pluggable_device_factory.cc:305] Could not identify NUMA node of platform GPU ID 0, defaulting to 0. Your kernel may not have been built with NUMA support.\n",
      "2022-08-08 13:13:15.961582: I tensorflow/core/common_runtime/pluggable_device/pluggable_device_factory.cc:271] Created TensorFlow device (/job:localhost/replica:0/task:0/device:GPU:0 with 0 MB memory) -> physical PluggableDevice (device: 0, name: METAL, pci bus id: <undefined>)\n"
     ]
    },
    {
     "data": {
      "text/plain": "<keras.engine.sequential.Sequential at 0x16bdb7eb0>"
     },
     "execution_count": 5,
     "metadata": {},
     "output_type": "execute_result"
    }
   ],
   "source": [
    "cnn = Sequential()\n",
    "cnn"
   ],
   "metadata": {
    "collapsed": false,
    "pycharm": {
     "name": "#%%\n"
    }
   }
  },
  {
   "cell_type": "code",
   "execution_count": 6,
   "outputs": [],
   "source": [
    "cnn.add(Convolution2D(filters=32, kernel_size=3, activation='relu'))\n",
    "cnn.add(MaxPooling2D(pool_size=(2,2)))\n",
    "cnn.add(Convolution2D(filters=32, kernel_size=3, activation='relu'))\n",
    "cnn.add(MaxPooling2D(pool_size=(2,2)))\n",
    "cnn.add(Flatten())\n",
    "cnn.add(Dense(units=256, activation='relu'))\n",
    "cnn.add(Dense(units=128, activation='relu'))\n",
    "cnn.add(Dense(units=64, activation='relu'))\n",
    "cnn.add(Dense(units=24, activation='relu'))\n",
    "cnn.add(Dense(units=6, activation='softmax'))"
   ],
   "metadata": {
    "collapsed": false,
    "pycharm": {
     "name": "#%%\n"
    }
   }
  },
  {
   "cell_type": "code",
   "execution_count": 7,
   "outputs": [],
   "source": [
    "cnn.compile(optimizer = 'adam', loss = 'categorical_crossentropy', metrics = ['accuracy'])"
   ],
   "metadata": {
    "collapsed": false,
    "pycharm": {
     "name": "#%%\n"
    }
   }
  },
  {
   "cell_type": "code",
   "execution_count": 8,
   "outputs": [
    {
     "name": "stdout",
     "output_type": "stream",
     "text": [
      "Epoch 1/17\n"
     ]
    },
    {
     "name": "stderr",
     "output_type": "stream",
     "text": [
      "2022-08-08 13:13:16.678776: W tensorflow/core/platform/profile_utils/cpu_utils.cc:128] Failed to get CPU frequency: 0 Hz\n",
      "2022-08-08 13:13:17.344583: I tensorflow/core/grappler/optimizers/custom_graph_optimizer_registry.cc:113] Plugin optimizer for device_type GPU is enabled.\n"
     ]
    },
    {
     "name": "stdout",
     "output_type": "stream",
     "text": [
      "439/439 [==============================] - ETA: 0s - loss: 1.1775 - accuracy: 0.5284"
     ]
    },
    {
     "name": "stderr",
     "output_type": "stream",
     "text": [
      "2022-08-08 13:13:45.437682: I tensorflow/core/grappler/optimizers/custom_graph_optimizer_registry.cc:113] Plugin optimizer for device_type GPU is enabled.\n"
     ]
    },
    {
     "name": "stdout",
     "output_type": "stream",
     "text": [
      "439/439 [==============================] - 31s 68ms/step - loss: 1.1775 - accuracy: 0.5284 - val_loss: 0.9328 - val_accuracy: 0.6477\n",
      "Epoch 2/17\n",
      "439/439 [==============================] - 32s 73ms/step - loss: 0.8893 - accuracy: 0.6618 - val_loss: 0.9185 - val_accuracy: 0.6790\n",
      "Epoch 3/17\n",
      "439/439 [==============================] - 31s 71ms/step - loss: 0.7629 - accuracy: 0.7163 - val_loss: 0.7114 - val_accuracy: 0.7517\n",
      "Epoch 4/17\n",
      "439/439 [==============================] - 31s 71ms/step - loss: 0.7008 - accuracy: 0.7403 - val_loss: 0.7325 - val_accuracy: 0.7330\n",
      "Epoch 5/17\n",
      "439/439 [==============================] - 33s 74ms/step - loss: 0.6445 - accuracy: 0.7629 - val_loss: 0.7627 - val_accuracy: 0.7337\n",
      "Epoch 6/17\n",
      "439/439 [==============================] - 33s 74ms/step - loss: 0.5949 - accuracy: 0.7817 - val_loss: 0.5808 - val_accuracy: 0.7960\n",
      "Epoch 7/17\n",
      "439/439 [==============================] - 25s 57ms/step - loss: 0.5694 - accuracy: 0.7932 - val_loss: 0.6568 - val_accuracy: 0.7743\n",
      "Epoch 8/17\n",
      "439/439 [==============================] - 20s 46ms/step - loss: 0.5277 - accuracy: 0.8114 - val_loss: 0.5357 - val_accuracy: 0.8173\n",
      "Epoch 9/17\n",
      "439/439 [==============================] - 20s 46ms/step - loss: 0.5041 - accuracy: 0.8135 - val_loss: 0.5578 - val_accuracy: 0.7973\n",
      "Epoch 10/17\n",
      "439/439 [==============================] - 20s 46ms/step - loss: 0.4865 - accuracy: 0.8240 - val_loss: 0.5605 - val_accuracy: 0.8070\n",
      "Epoch 11/17\n",
      "439/439 [==============================] - 20s 46ms/step - loss: 0.4562 - accuracy: 0.8370 - val_loss: 0.6111 - val_accuracy: 0.7867\n",
      "Epoch 12/17\n",
      "439/439 [==============================] - 20s 46ms/step - loss: 0.4317 - accuracy: 0.8467 - val_loss: 0.5956 - val_accuracy: 0.8017\n",
      "Epoch 13/17\n",
      "439/439 [==============================] - 20s 46ms/step - loss: 0.4144 - accuracy: 0.8488 - val_loss: 0.5991 - val_accuracy: 0.8047\n",
      "Epoch 14/17\n",
      "439/439 [==============================] - 20s 46ms/step - loss: 0.4041 - accuracy: 0.8541 - val_loss: 0.6489 - val_accuracy: 0.7883\n",
      "Epoch 15/17\n",
      "439/439 [==============================] - 20s 46ms/step - loss: 0.3802 - accuracy: 0.8629 - val_loss: 0.5812 - val_accuracy: 0.8073\n",
      "Epoch 16/17\n",
      "439/439 [==============================] - 20s 46ms/step - loss: 0.3606 - accuracy: 0.8713 - val_loss: 0.6418 - val_accuracy: 0.7910\n",
      "Epoch 17/17\n",
      "439/439 [==============================] - 20s 46ms/step - loss: 0.3382 - accuracy: 0.8801 - val_loss: 0.5688 - val_accuracy: 0.8207\n",
      "CPU times: user 8min 15s, sys: 1min 15s, total: 9min 31s\n",
      "Wall time: 6min 59s\n"
     ]
    },
    {
     "data": {
      "text/plain": "<keras.callbacks.History at 0x17a207820>"
     },
     "execution_count": 8,
     "metadata": {},
     "output_type": "execute_result"
    }
   ],
   "source": [
    "%%time\n",
    "cnn.fit(training_set, steps_per_epoch= len(training_set), validation_data = test_set, validation_steps=len(test_set), epochs = 17)"
   ],
   "metadata": {
    "collapsed": false,
    "pycharm": {
     "name": "#%%\n"
    }
   }
  },
  {
   "cell_type": "code",
   "execution_count": 8,
   "outputs": [],
   "source": [],
   "metadata": {
    "collapsed": false,
    "pycharm": {
     "name": "#%%\n"
    }
   }
  }
 ],
 "metadata": {
  "kernelspec": {
   "display_name": "Python 3",
   "language": "python",
   "name": "python3"
  },
  "language_info": {
   "codemirror_mode": {
    "name": "ipython",
    "version": 2
   },
   "file_extension": ".py",
   "mimetype": "text/x-python",
   "name": "python",
   "nbconvert_exporter": "python",
   "pygments_lexer": "ipython2",
   "version": "2.7.6"
  }
 },
 "nbformat": 4,
 "nbformat_minor": 0
}
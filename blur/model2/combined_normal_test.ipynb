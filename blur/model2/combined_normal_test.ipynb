{
 "cells": [
  {
   "cell_type": "code",
   "execution_count": 1,
   "outputs": [],
   "source": [
    "import numpy as np\n",
    "import tensorflow as tf\n",
    "from keras.preprocessing.image import ImageDataGenerator\n",
    "from keras.models import Sequential\n",
    "from keras.layers import Convolution2D, MaxPooling2D, Flatten, Dense, Dropout, BatchNormalizationV2"
   ],
   "metadata": {
    "collapsed": false,
    "pycharm": {
     "name": "#%%\n"
    }
   }
  },
  {
   "cell_type": "code",
   "execution_count": 2,
   "outputs": [],
   "source": [
    "train_path = '../data/blur_combined/seg_train/'\n",
    "test_path = '../../normal/archive/seg_test/'"
   ],
   "metadata": {
    "collapsed": false,
    "pycharm": {
     "name": "#%%\n"
    }
   }
  },
  {
   "cell_type": "code",
   "execution_count": 3,
   "outputs": [
    {
     "name": "stdout",
     "output_type": "stream",
     "text": [
      "Found 28068 images belonging to 6 classes.\n"
     ]
    }
   ],
   "source": [
    "train_datagen = ImageDataGenerator(\n",
    "                    rescale = 1/255,\n",
    "                    shear_range = 0.2,\n",
    "                    zoom_range = 0.2,\n",
    "                    horizontal_flip = True,\n",
    "                    vertical_flip = False)\n",
    "training_set = train_datagen.flow_from_directory(train_path,\n",
    "                                                 target_size = (64, 64),\n",
    "                                                 class_mode = 'categorical')"
   ],
   "metadata": {
    "collapsed": false,
    "pycharm": {
     "name": "#%%\n"
    }
   }
  },
  {
   "cell_type": "code",
   "execution_count": 4,
   "outputs": [
    {
     "name": "stdout",
     "output_type": "stream",
     "text": [
      "Found 3000 images belonging to 6 classes.\n"
     ]
    }
   ],
   "source": [
    "test_datagen = ImageDataGenerator(rescale = 1/255)\n",
    "test_set = test_datagen.flow_from_directory(test_path,\n",
    "                                            target_size = (64, 64),\n",
    "                                            class_mode = 'categorical')"
   ],
   "metadata": {
    "collapsed": false,
    "pycharm": {
     "name": "#%%\n"
    }
   }
  },
  {
   "cell_type": "code",
   "execution_count": 5,
   "outputs": [
    {
     "name": "stdout",
     "output_type": "stream",
     "text": [
      "Metal device set to: Apple M1\n"
     ]
    },
    {
     "name": "stderr",
     "output_type": "stream",
     "text": [
      "2022-08-29 22:01:39.867734: I tensorflow/core/common_runtime/pluggable_device/pluggable_device_factory.cc:305] Could not identify NUMA node of platform GPU ID 0, defaulting to 0. Your kernel may not have been built with NUMA support.\n",
      "2022-08-29 22:01:39.868084: I tensorflow/core/common_runtime/pluggable_device/pluggable_device_factory.cc:271] Created TensorFlow device (/job:localhost/replica:0/task:0/device:GPU:0 with 0 MB memory) -> physical PluggableDevice (device: 0, name: METAL, pci bus id: <undefined>)\n"
     ]
    },
    {
     "data": {
      "text/plain": "<keras.engine.sequential.Sequential at 0x16c93beb0>"
     },
     "execution_count": 5,
     "metadata": {},
     "output_type": "execute_result"
    }
   ],
   "source": [
    "cnn = Sequential()\n",
    "cnn"
   ],
   "metadata": {
    "collapsed": false,
    "pycharm": {
     "name": "#%%\n"
    }
   }
  },
  {
   "cell_type": "code",
   "execution_count": 6,
   "outputs": [],
   "source": [
    "cnn.add(Convolution2D(filters=32, kernel_size=3, activation='relu'))\n",
    "cnn.add(BatchNormalizationV2())\n",
    "cnn.add(MaxPooling2D(pool_size=(2,2)))\n",
    "\n",
    "cnn.add(Convolution2D(filters=64, kernel_size=3, activation='relu'))\n",
    "cnn.add(BatchNormalizationV2())\n",
    "cnn.add(MaxPooling2D(pool_size=(2,2)))\n",
    "\n",
    "cnn.add(Convolution2D(filters=128, kernel_size=3, activation='relu'))\n",
    "cnn.add(BatchNormalizationV2())\n",
    "cnn.add(MaxPooling2D(pool_size=(2,2)))\n",
    "\n",
    "cnn.add(Convolution2D(filters=256, kernel_size=3, activation='relu'))\n",
    "cnn.add(BatchNormalizationV2())\n",
    "cnn.add(MaxPooling2D(pool_size=(2,2)))\n",
    "\n",
    "cnn.add(Dropout(0.4)),\n",
    "\n",
    "cnn.add(Flatten())\n",
    "\n",
    "cnn.add(Dense(units=256, activation='relu'))\n",
    "cnn.add(BatchNormalizationV2())\n",
    "cnn.add(Dropout(0.25))\n",
    "\n",
    "cnn.add(Dense(units=128, activation='relu'))\n",
    "cnn.add(BatchNormalizationV2())\n",
    "cnn.add(Dropout(0.25))\n",
    "\n",
    "cnn.add(Dense(units=64, activation='relu'))\n",
    "cnn.add(BatchNormalizationV2())\n",
    "cnn.add(Dropout(0.25))\n",
    "\n",
    "cnn.add(Dense(units=24, activation='relu'))\n",
    "cnn.add(BatchNormalizationV2())\n",
    "cnn.add(Dropout(0.25))\n",
    "\n",
    "cnn.add(Dense(units=6, activation='softmax'))"
   ],
   "metadata": {
    "collapsed": false,
    "pycharm": {
     "name": "#%%\n"
    }
   }
  },
  {
   "cell_type": "code",
   "execution_count": 7,
   "outputs": [],
   "source": [
    "cnn.compile(optimizer = 'sgd', loss = 'categorical_crossentropy', metrics = ['accuracy'])"
   ],
   "metadata": {
    "collapsed": false,
    "pycharm": {
     "name": "#%%\n"
    }
   }
  },
  {
   "cell_type": "code",
   "execution_count": 8,
   "outputs": [
    {
     "name": "stdout",
     "output_type": "stream",
     "text": [
      "Epoch 1/10\n"
     ]
    },
    {
     "name": "stderr",
     "output_type": "stream",
     "text": [
      "2022-08-29 22:01:40.406982: W tensorflow/core/platform/profile_utils/cpu_utils.cc:128] Failed to get CPU frequency: 0 Hz\n",
      "2022-08-29 22:01:41.420084: I tensorflow/core/grappler/optimizers/custom_graph_optimizer_registry.cc:113] Plugin optimizer for device_type GPU is enabled.\n"
     ]
    },
    {
     "name": "stdout",
     "output_type": "stream",
     "text": [
      "878/878 [==============================] - ETA: 0s - loss: 1.3907 - accuracy: 0.4576"
     ]
    },
    {
     "name": "stderr",
     "output_type": "stream",
     "text": [
      "2022-08-29 22:02:35.520112: I tensorflow/core/grappler/optimizers/custom_graph_optimizer_registry.cc:113] Plugin optimizer for device_type GPU is enabled.\n"
     ]
    },
    {
     "name": "stdout",
     "output_type": "stream",
     "text": [
      "878/878 [==============================] - 57s 64ms/step - loss: 1.3907 - accuracy: 0.4576 - val_loss: 1.0594 - val_accuracy: 0.5860\n",
      "Epoch 2/10\n",
      "878/878 [==============================] - 79s 90ms/step - loss: 1.1032 - accuracy: 0.5742 - val_loss: 1.8287 - val_accuracy: 0.3323\n",
      "Epoch 3/10\n",
      "878/878 [==============================] - 57s 65ms/step - loss: 0.9698 - accuracy: 0.6390 - val_loss: 1.1468 - val_accuracy: 0.5783\n",
      "Epoch 4/10\n",
      "878/878 [==============================] - 57s 64ms/step - loss: 0.8885 - accuracy: 0.6738 - val_loss: 1.0412 - val_accuracy: 0.5947\n",
      "Epoch 5/10\n",
      "878/878 [==============================] - 60s 68ms/step - loss: 0.8379 - accuracy: 0.6935 - val_loss: 0.7431 - val_accuracy: 0.7377\n",
      "Epoch 6/10\n",
      "878/878 [==============================] - 64s 72ms/step - loss: 0.7591 - accuracy: 0.7292 - val_loss: 1.2878 - val_accuracy: 0.5110\n",
      "Epoch 7/10\n",
      "878/878 [==============================] - 66s 75ms/step - loss: 0.7157 - accuracy: 0.7454 - val_loss: 1.0686 - val_accuracy: 0.6037\n",
      "Epoch 8/10\n",
      "878/878 [==============================] - 65s 74ms/step - loss: 0.6849 - accuracy: 0.7588 - val_loss: 0.9026 - val_accuracy: 0.6683\n",
      "Epoch 9/10\n",
      "878/878 [==============================] - 66s 75ms/step - loss: 0.6624 - accuracy: 0.7656 - val_loss: 0.5690 - val_accuracy: 0.7997\n",
      "Epoch 10/10\n",
      "878/878 [==============================] - 69s 78ms/step - loss: 0.6226 - accuracy: 0.7797 - val_loss: 0.6060 - val_accuracy: 0.7850\n",
      "CPU times: user 14min 2s, sys: 2min 29s, total: 16min 31s\n",
      "Wall time: 10min 39s\n"
     ]
    },
    {
     "data": {
      "text/plain": "<keras.callbacks.History at 0x16d915cf0>"
     },
     "execution_count": 8,
     "metadata": {},
     "output_type": "execute_result"
    }
   ],
   "source": [
    "%%time\n",
    "cnn.fit(training_set, steps_per_epoch= len(training_set), validation_data = test_set, validation_steps=len(test_set), epochs = 10)"
   ],
   "metadata": {
    "collapsed": false,
    "pycharm": {
     "name": "#%%\n"
    }
   }
  },
  {
   "cell_type": "code",
   "execution_count": 9,
   "outputs": [
    {
     "name": "stdout",
     "output_type": "stream",
     "text": [
      "94/94 - 2s - loss: 0.6060 - accuracy: 0.7850 - 2s/epoch - 25ms/step\n",
      "Accuracy of the model on the test set:  0.7849999666213989\n"
     ]
    }
   ],
   "source": [
    "accuracy=cnn.evaluate(test_set, steps=len(test_set),verbose=2)\n",
    "print('Accuracy of the model on the test set: ',accuracy[1])"
   ],
   "metadata": {
    "collapsed": false,
    "pycharm": {
     "name": "#%%\n"
    }
   }
  }
 ],
 "metadata": {
  "kernelspec": {
   "display_name": "Python 3",
   "language": "python",
   "name": "python3"
  },
  "language_info": {
   "codemirror_mode": {
    "name": "ipython",
    "version": 2
   },
   "file_extension": ".py",
   "mimetype": "text/x-python",
   "name": "python",
   "nbconvert_exporter": "python",
   "pygments_lexer": "ipython2",
   "version": "2.7.6"
  }
 },
 "nbformat": 4,
 "nbformat_minor": 0
}
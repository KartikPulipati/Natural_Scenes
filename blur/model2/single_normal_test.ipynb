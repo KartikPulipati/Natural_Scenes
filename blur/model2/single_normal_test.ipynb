{
 "cells": [
  {
   "cell_type": "code",
   "execution_count": 1,
   "outputs": [],
   "source": [
    "import numpy as np\n",
    "import tensorflow as tf\n",
    "from keras.preprocessing.image import ImageDataGenerator\n",
    "from keras.models import Sequential\n",
    "from keras.layers import Convolution2D, MaxPooling2D, Flatten, Dense, Dropout, BatchNormalizationV2"
   ],
   "metadata": {
    "collapsed": false,
    "pycharm": {
     "name": "#%%\n"
    }
   }
  },
  {
   "cell_type": "code",
   "execution_count": 2,
   "outputs": [],
   "source": [
    "train_path = '../data/blur_single/seg_train/'\n",
    "test_path = '../../normal/archive/seg_test/'"
   ],
   "metadata": {
    "collapsed": false,
    "pycharm": {
     "name": "#%%\n"
    }
   }
  },
  {
   "cell_type": "code",
   "execution_count": 3,
   "outputs": [
    {
     "name": "stdout",
     "output_type": "stream",
     "text": [
      "Found 14034 images belonging to 6 classes.\n"
     ]
    }
   ],
   "source": [
    "train_datagen = ImageDataGenerator(\n",
    "                    rescale = 1/255,\n",
    "                    shear_range = 0.2,\n",
    "                    zoom_range = 0.2,\n",
    "                    horizontal_flip = True,\n",
    "                    vertical_flip = False)\n",
    "training_set = train_datagen.flow_from_directory(train_path,\n",
    "                                                 target_size = (64, 64),\n",
    "                                                 class_mode = 'categorical')"
   ],
   "metadata": {
    "collapsed": false,
    "pycharm": {
     "name": "#%%\n"
    }
   }
  },
  {
   "cell_type": "code",
   "execution_count": 4,
   "outputs": [
    {
     "name": "stdout",
     "output_type": "stream",
     "text": [
      "Found 3000 images belonging to 6 classes.\n"
     ]
    }
   ],
   "source": [
    "test_datagen = ImageDataGenerator(rescale = 1/255)\n",
    "test_set = test_datagen.flow_from_directory(test_path,\n",
    "                                            target_size = (64, 64),\n",
    "                                            class_mode = 'categorical')"
   ],
   "metadata": {
    "collapsed": false,
    "pycharm": {
     "name": "#%%\n"
    }
   }
  },
  {
   "cell_type": "code",
   "execution_count": 5,
   "outputs": [
    {
     "name": "stdout",
     "output_type": "stream",
     "text": [
      "Metal device set to: Apple M1\n"
     ]
    },
    {
     "name": "stderr",
     "output_type": "stream",
     "text": [
      "2022-08-29 22:28:33.577417: I tensorflow/core/common_runtime/pluggable_device/pluggable_device_factory.cc:305] Could not identify NUMA node of platform GPU ID 0, defaulting to 0. Your kernel may not have been built with NUMA support.\n",
      "2022-08-29 22:28:33.577647: I tensorflow/core/common_runtime/pluggable_device/pluggable_device_factory.cc:271] Created TensorFlow device (/job:localhost/replica:0/task:0/device:GPU:0 with 0 MB memory) -> physical PluggableDevice (device: 0, name: METAL, pci bus id: <undefined>)\n"
     ]
    },
    {
     "data": {
      "text/plain": "<keras.engine.sequential.Sequential at 0x10b1796f0>"
     },
     "execution_count": 5,
     "metadata": {},
     "output_type": "execute_result"
    }
   ],
   "source": [
    "cnn = Sequential()\n",
    "cnn"
   ],
   "metadata": {
    "collapsed": false,
    "pycharm": {
     "name": "#%%\n"
    }
   }
  },
  {
   "cell_type": "code",
   "execution_count": 6,
   "outputs": [],
   "source": [
    "cnn.add(Convolution2D(filters=32, kernel_size=3, activation='relu'))\n",
    "cnn.add(BatchNormalizationV2())\n",
    "cnn.add(MaxPooling2D(pool_size=(2,2)))\n",
    "\n",
    "cnn.add(Convolution2D(filters=64, kernel_size=3, activation='relu'))\n",
    "cnn.add(BatchNormalizationV2())\n",
    "cnn.add(MaxPooling2D(pool_size=(2,2)))\n",
    "\n",
    "cnn.add(Convolution2D(filters=128, kernel_size=3, activation='relu'))\n",
    "cnn.add(BatchNormalizationV2())\n",
    "cnn.add(MaxPooling2D(pool_size=(2,2)))\n",
    "\n",
    "cnn.add(Convolution2D(filters=256, kernel_size=3, activation='relu'))\n",
    "cnn.add(BatchNormalizationV2())\n",
    "cnn.add(MaxPooling2D(pool_size=(2,2)))\n",
    "\n",
    "cnn.add(Dropout(0.4)),\n",
    "\n",
    "cnn.add(Flatten())\n",
    "\n",
    "cnn.add(Dense(units=256, activation='relu'))\n",
    "cnn.add(BatchNormalizationV2())\n",
    "cnn.add(Dropout(0.25))\n",
    "\n",
    "cnn.add(Dense(units=128, activation='relu'))\n",
    "cnn.add(BatchNormalizationV2())\n",
    "cnn.add(Dropout(0.25))\n",
    "\n",
    "cnn.add(Dense(units=64, activation='relu'))\n",
    "cnn.add(BatchNormalizationV2())\n",
    "cnn.add(Dropout(0.25))\n",
    "\n",
    "cnn.add(Dense(units=24, activation='relu'))\n",
    "cnn.add(BatchNormalizationV2())\n",
    "cnn.add(Dropout(0.25))\n",
    "\n",
    "cnn.add(Dense(units=6, activation='softmax'))"
   ],
   "metadata": {
    "collapsed": false,
    "pycharm": {
     "name": "#%%\n"
    }
   }
  },
  {
   "cell_type": "code",
   "execution_count": 7,
   "outputs": [],
   "source": [
    "cnn.compile(optimizer = 'sgd', loss = 'categorical_crossentropy', metrics = ['accuracy'])"
   ],
   "metadata": {
    "collapsed": false,
    "pycharm": {
     "name": "#%%\n"
    }
   }
  },
  {
   "cell_type": "code",
   "execution_count": 8,
   "outputs": [
    {
     "name": "stdout",
     "output_type": "stream",
     "text": [
      "Epoch 1/10\n"
     ]
    },
    {
     "name": "stderr",
     "output_type": "stream",
     "text": [
      "2022-08-29 22:28:34.116831: W tensorflow/core/platform/profile_utils/cpu_utils.cc:128] Failed to get CPU frequency: 0 Hz\n",
      "2022-08-29 22:28:35.172479: I tensorflow/core/grappler/optimizers/custom_graph_optimizer_registry.cc:113] Plugin optimizer for device_type GPU is enabled.\n"
     ]
    },
    {
     "name": "stdout",
     "output_type": "stream",
     "text": [
      "439/439 [==============================] - ETA: 0s - loss: 1.6275 - accuracy: 0.3758"
     ]
    },
    {
     "name": "stderr",
     "output_type": "stream",
     "text": [
      "2022-08-29 22:29:04.734248: I tensorflow/core/grappler/optimizers/custom_graph_optimizer_registry.cc:113] Plugin optimizer for device_type GPU is enabled.\n"
     ]
    },
    {
     "name": "stdout",
     "output_type": "stream",
     "text": [
      "439/439 [==============================] - 33s 72ms/step - loss: 1.6275 - accuracy: 0.3758 - val_loss: 1.5742 - val_accuracy: 0.4360\n",
      "Epoch 2/10\n",
      "439/439 [==============================] - 39s 88ms/step - loss: 1.1953 - accuracy: 0.5212 - val_loss: 4.5798 - val_accuracy: 0.1750\n",
      "Epoch 3/10\n",
      "439/439 [==============================] - 34s 77ms/step - loss: 1.0924 - accuracy: 0.5684 - val_loss: 0.9626 - val_accuracy: 0.6197\n",
      "Epoch 4/10\n",
      "439/439 [==============================] - 32s 73ms/step - loss: 1.0247 - accuracy: 0.6118 - val_loss: 1.0892 - val_accuracy: 0.6337\n",
      "Epoch 5/10\n",
      "439/439 [==============================] - 31s 70ms/step - loss: 0.9624 - accuracy: 0.6402 - val_loss: 1.7755 - val_accuracy: 0.3793\n",
      "Epoch 6/10\n",
      "439/439 [==============================] - 32s 73ms/step - loss: 0.9094 - accuracy: 0.6633 - val_loss: 1.1093 - val_accuracy: 0.6053\n",
      "Epoch 7/10\n",
      "439/439 [==============================] - 30s 68ms/step - loss: 0.8578 - accuracy: 0.6833 - val_loss: 1.0060 - val_accuracy: 0.6480\n",
      "Epoch 8/10\n",
      "439/439 [==============================] - 32s 73ms/step - loss: 0.8228 - accuracy: 0.7003 - val_loss: 1.0250 - val_accuracy: 0.5740\n",
      "Epoch 9/10\n",
      "439/439 [==============================] - 34s 76ms/step - loss: 0.8031 - accuracy: 0.7065 - val_loss: 0.6799 - val_accuracy: 0.7543\n",
      "Epoch 10/10\n",
      "439/439 [==============================] - 34s 77ms/step - loss: 0.7658 - accuracy: 0.7222 - val_loss: 1.2313 - val_accuracy: 0.5250\n",
      "CPU times: user 7min 12s, sys: 1min 16s, total: 8min 28s\n",
      "Wall time: 5min 30s\n"
     ]
    },
    {
     "data": {
      "text/plain": "<keras.callbacks.History at 0x286c01240>"
     },
     "execution_count": 8,
     "metadata": {},
     "output_type": "execute_result"
    }
   ],
   "source": [
    "%%time\n",
    "cnn.fit(training_set, steps_per_epoch= len(training_set), validation_data = test_set, validation_steps=len(test_set), epochs = 10)"
   ],
   "metadata": {
    "collapsed": false,
    "pycharm": {
     "name": "#%%\n"
    }
   }
  },
  {
   "cell_type": "code",
   "execution_count": 11,
   "outputs": [
    {
     "name": "stdout",
     "output_type": "stream",
     "text": [
      "94/94 - 3s - loss: 1.2313 - accuracy: 0.5250 - 3s/epoch - 27ms/step\n",
      "Accuracy of the model on the test set:  0.5249999761581421\n"
     ]
    }
   ],
   "source": [
    "accuracy=cnn.evaluate(test_set, steps=len(test_set),verbose=2)\n",
    "print('Accuracy of the model on the test set: ',accuracy[1])"
   ],
   "metadata": {
    "collapsed": false,
    "pycharm": {
     "name": "#%%\n"
    }
   }
  },
  {
   "cell_type": "code",
   "execution_count": 9,
   "outputs": [],
   "source": [],
   "metadata": {
    "collapsed": false,
    "pycharm": {
     "name": "#%%\n"
    }
   }
  }
 ],
 "metadata": {
  "kernelspec": {
   "display_name": "Python 3",
   "language": "python",
   "name": "python3"
  },
  "language_info": {
   "codemirror_mode": {
    "name": "ipython",
    "version": 2
   },
   "file_extension": ".py",
   "mimetype": "text/x-python",
   "name": "python",
   "nbconvert_exporter": "python",
   "pygments_lexer": "ipython2",
   "version": "2.7.6"
  }
 },
 "nbformat": 4,
 "nbformat_minor": 0
}